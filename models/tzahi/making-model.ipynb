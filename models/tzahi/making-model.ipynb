{
 "cells": [
  {
   "cell_type": "code",
   "execution_count": 2,
   "metadata": {},
   "outputs": [
    {
     "ename": "AttributeError",
     "evalue": "module 'pkgutil' has no attribute 'ImpImporter'",
     "output_type": "error",
     "traceback": [
      "\u001b[0;31m---------------------------------------------------------------------------\u001b[0m",
      "\u001b[0;31mAttributeError\u001b[0m                            Traceback (most recent call last)",
      "Cell \u001b[0;32mIn[2], line 4\u001b[0m\n\u001b[1;32m      2\u001b[0m \u001b[38;5;28;01mimport\u001b[39;00m \u001b[38;5;21;01mre\u001b[39;00m\n\u001b[1;32m      3\u001b[0m \u001b[38;5;28;01mfrom\u001b[39;00m \u001b[38;5;21;01mbuildingmotif\u001b[39;00m \u001b[38;5;28;01mimport\u001b[39;00m BuildingMOTIF\n\u001b[0;32m----> 4\u001b[0m \u001b[38;5;28;01mfrom\u001b[39;00m \u001b[38;5;21;01mbuildingmotif\u001b[39;00m\u001b[38;5;21;01m.\u001b[39;00m\u001b[38;5;21;01mdataclasses\u001b[39;00m \u001b[38;5;28;01mimport\u001b[39;00m Library, Model\n\u001b[1;32m      5\u001b[0m \u001b[38;5;28;01mfrom\u001b[39;00m \u001b[38;5;21;01mbuildingmotif\u001b[39;00m\u001b[38;5;21;01m.\u001b[39;00m\u001b[38;5;21;01mnamespaces\u001b[39;00m \u001b[38;5;28;01mimport\u001b[39;00m bind_prefixes\n\u001b[1;32m      6\u001b[0m \u001b[38;5;28;01mfrom\u001b[39;00m \u001b[38;5;21;01mbuildingmotif\u001b[39;00m\u001b[38;5;21;01m.\u001b[39;00m\u001b[38;5;21;01mmodel_builder\u001b[39;00m \u001b[38;5;28;01mimport\u001b[39;00m TemplateBuilderContext\n",
      "File \u001b[0;32m~/Desktop/NAWI/water-ontology/venv/lib/python3.12/site-packages/buildingmotif/dataclasses/__init__.py:1\u001b[0m\n\u001b[0;32m----> 1\u001b[0m \u001b[38;5;28;01mfrom\u001b[39;00m \u001b[38;5;21;01mbuildingmotif\u001b[39;00m\u001b[38;5;21;01m.\u001b[39;00m\u001b[38;5;21;01mdataclasses\u001b[39;00m\u001b[38;5;21;01m.\u001b[39;00m\u001b[38;5;21;01mlibrary\u001b[39;00m \u001b[38;5;28;01mimport\u001b[39;00m Library  \u001b[38;5;66;03m# noqa\u001b[39;00m\n\u001b[1;32m      2\u001b[0m \u001b[38;5;28;01mfrom\u001b[39;00m \u001b[38;5;21;01mbuildingmotif\u001b[39;00m\u001b[38;5;21;01m.\u001b[39;00m\u001b[38;5;21;01mdataclasses\u001b[39;00m\u001b[38;5;21;01m.\u001b[39;00m\u001b[38;5;21;01mmodel\u001b[39;00m \u001b[38;5;28;01mimport\u001b[39;00m Model  \u001b[38;5;66;03m# noqa\u001b[39;00m\n\u001b[1;32m      3\u001b[0m \u001b[38;5;28;01mfrom\u001b[39;00m \u001b[38;5;21;01mbuildingmotif\u001b[39;00m\u001b[38;5;21;01m.\u001b[39;00m\u001b[38;5;21;01mdataclasses\u001b[39;00m\u001b[38;5;21;01m.\u001b[39;00m\u001b[38;5;21;01mshape_collection\u001b[39;00m \u001b[38;5;28;01mimport\u001b[39;00m ShapeCollection  \u001b[38;5;66;03m# noqa\u001b[39;00m\n",
      "File \u001b[0;32m~/Desktop/NAWI/water-ontology/venv/lib/python3.12/site-packages/buildingmotif/dataclasses/library.py:8\u001b[0m\n\u001b[1;32m      5\u001b[0m \u001b[38;5;28;01mfrom\u001b[39;00m \u001b[38;5;21;01mtyping\u001b[39;00m \u001b[38;5;28;01mimport\u001b[39;00m TYPE_CHECKING, Any, Dict, List, Mapping, Optional, Union\n\u001b[1;32m      7\u001b[0m \u001b[38;5;28;01mimport\u001b[39;00m \u001b[38;5;21;01mpygit2\u001b[39;00m\n\u001b[0;32m----> 8\u001b[0m \u001b[38;5;28;01mimport\u001b[39;00m \u001b[38;5;21;01mpyshacl\u001b[39;00m\n\u001b[1;32m      9\u001b[0m \u001b[38;5;28;01mimport\u001b[39;00m \u001b[38;5;21;01mrdflib\u001b[39;00m\n\u001b[1;32m     10\u001b[0m \u001b[38;5;28;01mimport\u001b[39;00m \u001b[38;5;21;01msqlalchemy\u001b[39;00m\n",
      "File \u001b[0;32m~/Desktop/NAWI/water-ontology/venv/lib/python3.12/site-packages/pyshacl/__init__.py:5\u001b[0m\n\u001b[1;32m      3\u001b[0m \u001b[38;5;28;01mfrom\u001b[39;00m \u001b[38;5;21;01m.\u001b[39;00m\u001b[38;5;21;01mshape\u001b[39;00m \u001b[38;5;28;01mimport\u001b[39;00m Shape\n\u001b[1;32m      4\u001b[0m \u001b[38;5;28;01mfrom\u001b[39;00m \u001b[38;5;21;01m.\u001b[39;00m\u001b[38;5;21;01mshapes_graph\u001b[39;00m \u001b[38;5;28;01mimport\u001b[39;00m ShapesGraph\n\u001b[0;32m----> 5\u001b[0m \u001b[38;5;28;01mfrom\u001b[39;00m \u001b[38;5;21;01m.\u001b[39;00m\u001b[38;5;21;01mvalidate\u001b[39;00m \u001b[38;5;28;01mimport\u001b[39;00m Validator, validate\n\u001b[1;32m      8\u001b[0m \u001b[38;5;66;03m# version compliant with https://www.python.org/dev/peps/pep-0440/\u001b[39;00m\n\u001b[1;32m      9\u001b[0m __version__ \u001b[38;5;241m=\u001b[39m \u001b[38;5;124m'\u001b[39m\u001b[38;5;124m0.21.0\u001b[39m\u001b[38;5;124m'\u001b[39m\n",
      "File \u001b[0;32m~/Desktop/NAWI/water-ontology/venv/lib/python3.12/site-packages/pyshacl/validate.py:28\u001b[0m\n\u001b[1;32m     16\u001b[0m \u001b[38;5;28;01mfrom\u001b[39;00m \u001b[38;5;21;01m.\u001b[39;00m\u001b[38;5;21;01mconsts\u001b[39;00m \u001b[38;5;28;01mimport\u001b[39;00m (\n\u001b[1;32m     17\u001b[0m     RDF_object,\n\u001b[1;32m     18\u001b[0m     RDF_predicate,\n\u001b[0;32m   (...)\u001b[0m\n\u001b[1;32m     25\u001b[0m     SH_ValidationReport,\n\u001b[1;32m     26\u001b[0m )\n\u001b[1;32m     27\u001b[0m \u001b[38;5;28;01mfrom\u001b[39;00m \u001b[38;5;21;01m.\u001b[39;00m\u001b[38;5;21;01merrors\u001b[39;00m \u001b[38;5;28;01mimport\u001b[39;00m ReportableRuntimeError, ValidationFailure\n\u001b[0;32m---> 28\u001b[0m \u001b[38;5;28;01mfrom\u001b[39;00m \u001b[38;5;21;01m.\u001b[39;00m\u001b[38;5;21;01mextras\u001b[39;00m \u001b[38;5;28;01mimport\u001b[39;00m check_extra_installed\n\u001b[1;32m     29\u001b[0m \u001b[38;5;28;01mfrom\u001b[39;00m \u001b[38;5;21;01m.\u001b[39;00m\u001b[38;5;21;01mfunctions\u001b[39;00m \u001b[38;5;28;01mimport\u001b[39;00m apply_functions, gather_functions, unapply_functions\n\u001b[1;32m     30\u001b[0m \u001b[38;5;28;01mfrom\u001b[39;00m \u001b[38;5;21;01m.\u001b[39;00m\u001b[38;5;21;01mmonkey\u001b[39;00m \u001b[38;5;28;01mimport\u001b[39;00m apply_patches, rdflib_bool_patch, rdflib_bool_unpatch\n",
      "File \u001b[0;32m~/Desktop/NAWI/water-ontology/venv/lib/python3.12/site-packages/pyshacl/extras/__init__.py:6\u001b[0m\n\u001b[1;32m      3\u001b[0m \u001b[38;5;28;01mfrom\u001b[39;00m \u001b[38;5;21;01mfunctools\u001b[39;00m \u001b[38;5;28;01mimport\u001b[39;00m lru_cache\n\u001b[1;32m      4\u001b[0m \u001b[38;5;28;01mfrom\u001b[39;00m \u001b[38;5;21;01mwarnings\u001b[39;00m \u001b[38;5;28;01mimport\u001b[39;00m warn\n\u001b[0;32m----> 6\u001b[0m \u001b[38;5;28;01mimport\u001b[39;00m \u001b[38;5;21;01mpkg_resources\u001b[39;00m\n\u001b[1;32m      8\u001b[0m \u001b[38;5;28;01mfrom\u001b[39;00m \u001b[38;5;21;01mpkg_resources\u001b[39;00m \u001b[38;5;28;01mimport\u001b[39;00m DistributionNotFound, UnknownExtra\n\u001b[1;32m     11\u001b[0m \u001b[38;5;66;03m# In dev mode, the extras-loader doesn't check if extension is installed before loading it.\u001b[39;00m\n\u001b[1;32m     12\u001b[0m \u001b[38;5;66;03m# This is useful when testing, when we're working on a codebase of a library that is not yet installed.\u001b[39;00m\n",
      "File \u001b[0;32m~/Desktop/NAWI/water-ontology/venv/lib/python3.12/site-packages/pkg_resources/__init__.py:2191\u001b[0m\n\u001b[1;32m   2187\u001b[0m     dist_groups \u001b[38;5;241m=\u001b[39m \u001b[38;5;28mmap\u001b[39m(find_distributions, resolved_paths)\n\u001b[1;32m   2188\u001b[0m     \u001b[38;5;28;01mreturn\u001b[39;00m \u001b[38;5;28mnext\u001b[39m(dist_groups, ())\n\u001b[0;32m-> 2191\u001b[0m register_finder(\u001b[43mpkgutil\u001b[49m\u001b[38;5;241;43m.\u001b[39;49m\u001b[43mImpImporter\u001b[49m, find_on_path)\n\u001b[1;32m   2193\u001b[0m \u001b[38;5;28;01mif\u001b[39;00m \u001b[38;5;28mhasattr\u001b[39m(importlib_machinery, \u001b[38;5;124m'\u001b[39m\u001b[38;5;124mFileFinder\u001b[39m\u001b[38;5;124m'\u001b[39m):\n\u001b[1;32m   2194\u001b[0m     register_finder(importlib_machinery\u001b[38;5;241m.\u001b[39mFileFinder, find_on_path)\n",
      "\u001b[0;31mAttributeError\u001b[0m: module 'pkgutil' has no attribute 'ImpImporter'"
     ]
    }
   ],
   "source": [
    "from rdflib import Namespace, Graph, Literal, URIRef\n",
    "import re\n",
    "from buildingmotif import BuildingMOTIF\n",
    "from buildingmotif.dataclasses import Library, Model\n",
    "from buildingmotif.namespaces import bind_prefixes\n",
    "from buildingmotif.model_builder import TemplateBuilderContext\n",
    "import os \n",
    "import sys \n",
    "# %%\n",
    "# setup our buildingmotif instance\n",
    "bm = BuildingMOTIF(\"sqlite://\")\n",
    "\n",
    "# create the model w/ a namespace\n",
    "WBS = Namespace(\"urn:ex/\")\n",
    "S223 = Namespace(\"http://data.ashrae.org/standard223#\")\n",
    "wbs = Model.create(WBS)\n",
    "bind_prefixes(wbs.graph)\n",
    "wbs.graph.bind(\"wbs\", WBS)\n",
    "wbs.graph.bind(\"s223\", S223)\n",
    "wbs.graph.bind(\"nawi\", Namespace(\"urn:nawi-water-ontology#\"))\n",
    "things = []"
   ]
  },
  {
   "cell_type": "code",
   "execution_count": null,
   "metadata": {},
   "outputs": [],
   "source": [
    "sys.path.append('..')\n",
    "from utils import * # ModelBuilder and vars"
   ]
  },
  {
   "cell_type": "code",
   "execution_count": null,
   "metadata": {},
   "outputs": [
    {
     "name": "stderr",
     "output_type": "stream",
     "text": [
      "/Users/lazlopaul/Desktop/NAWI/water-ontology/.venv/lib/python3.10/site-packages/pyshacl/extras/__init__.py:46: Warning: Extra \"js\" is not satisfied because requirement pyduktape2 is not installed.\n",
      "  warn(Warning(f\"Extra \\\"{extra_name}\\\" is not satisfied because requirement {req} is not installed.\"))\n",
      "2025-01-23 13:58:23,942 | root |  WARNING: An ontology could not resolve a dependency on http://data.ashrae.org/standard223/1.0/vocab/enumeration (No row was found when one was required). Check this is loaded into BuildingMOTIF\n",
      "2025-01-23 13:58:23,943 | root |  WARNING: An ontology could not resolve a dependency on http://data.ashrae.org/standard223/1.0/model/equipment (No row was found when one was required). Check this is loaded into BuildingMOTIF\n",
      "2025-01-23 13:58:23,943 | root |  WARNING: An ontology could not resolve a dependency on http://data.ashrae.org/standard223/1.0/extensions/settings (No row was found when one was required). Check this is loaded into BuildingMOTIF\n",
      "2025-01-23 13:58:23,944 | root |  WARNING: An ontology could not resolve a dependency on http://qudt.org/2.1/vocab/currency (No row was found when one was required). Check this is loaded into BuildingMOTIF\n",
      "2025-01-23 13:58:23,945 | root |  WARNING: An ontology could not resolve a dependency on http://qudt.org/2.1/vocab/unit (No row was found when one was required). Check this is loaded into BuildingMOTIF\n",
      "2025-01-23 13:58:23,945 | root |  WARNING: An ontology could not resolve a dependency on http://data.ashrae.org/standard223/1.0/model/core (No row was found when one was required). Check this is loaded into BuildingMOTIF\n",
      "2025-01-23 13:58:23,946 | root |  WARNING: An ontology could not resolve a dependency on http://www.w3.org/ns/shacl# (No row was found when one was required). Check this is loaded into BuildingMOTIF\n",
      "2025-01-23 13:58:23,946 | root |  WARNING: An ontology could not resolve a dependency on http://qudt.org/2.1/vocab/constant (No row was found when one was required). Check this is loaded into BuildingMOTIF\n"
     ]
    },
    {
     "data": {
      "text/plain": [
       "[Template(_id=1, _name='brine', body=<Graph identifier=1f258bc6-55f2-4922-ab59-d54252f4c047 (<class 'rdflib.graph.Graph'>)>, optional_args=['constituent-salt', 'constituent-water'], _bm=<buildingmotif.building_motif.building_motif.BuildingMOTIF object at 0x10f30ebc0>),\n",
       " Template(_id=2, _name='constituent-salt', body=<Graph identifier=2be4890f-d134-4287-84f2-51aa3e6d1093 (<class 'rdflib.graph.Graph'>)>, optional_args=[], _bm=<buildingmotif.building_motif.building_motif.BuildingMOTIF object at 0x10f30ebc0>),\n",
       " Template(_id=3, _name='constituent-water', body=<Graph identifier=3b278f46-1012-48b2-8873-086281bb587d (<class 'rdflib.graph.Graph'>)>, optional_args=[], _bm=<buildingmotif.building_motif.building_motif.BuildingMOTIF object at 0x10f30ebc0>),\n",
       " Template(_id=4, _name='ph', body=<Graph identifier=f7bb123c-e8b6-4c59-9986-dccf850365ed (<class 'rdflib.graph.Graph'>)>, optional_args=[], _bm=<buildingmotif.building_motif.building_motif.BuildingMOTIF object at 0x10f30ebc0>),\n",
       " Template(_id=5, _name='pressure', body=<Graph identifier=d4c362a4-a730-4ff0-ba40-9e8b2558de7e (<class 'rdflib.graph.Graph'>)>, optional_args=[], _bm=<buildingmotif.building_motif.building_motif.BuildingMOTIF object at 0x10f30ebc0>),\n",
       " Template(_id=6, _name='conductivity', body=<Graph identifier=9fd88cd5-c419-4881-b3a5-a77453864d82 (<class 'rdflib.graph.Graph'>)>, optional_args=[], _bm=<buildingmotif.building_motif.building_motif.BuildingMOTIF object at 0x10f30ebc0>),\n",
       " Template(_id=7, _name='temperature', body=<Graph identifier=6389de80-df30-4393-a78b-6c7e907e3226 (<class 'rdflib.graph.Graph'>)>, optional_args=[], _bm=<buildingmotif.building_motif.building_motif.BuildingMOTIF object at 0x10f30ebc0>),\n",
       " Template(_id=8, _name='flow-rate', body=<Graph identifier=a0509891-35e9-4db8-8a0f-61eb9bdbfb65 (<class 'rdflib.graph.Graph'>)>, optional_args=[], _bm=<buildingmotif.building_motif.building_motif.BuildingMOTIF object at 0x10f30ebc0>),\n",
       " Template(_id=9, _name='opening-ratio', body=<Graph identifier=7f0f17e0-c3d7-475c-81a2-b776d5868f6f (<class 'rdflib.graph.Graph'>)>, optional_args=[], _bm=<buildingmotif.building_motif.building_motif.BuildingMOTIF object at 0x10f30ebc0>),\n",
       " Template(_id=10, _name='opening-command', body=<Graph identifier=2fbca315-e827-46a4-aa2c-6827ddab94f4 (<class 'rdflib.graph.Graph'>)>, optional_args=[], _bm=<buildingmotif.building_motif.building_motif.BuildingMOTIF object at 0x10f30ebc0>),\n",
       " Template(_id=11, _name='on-off-command', body=<Graph identifier=2a9e24e4-56d1-4081-9261-24c385b4d0e5 (<class 'rdflib.graph.Graph'>)>, optional_args=[], _bm=<buildingmotif.building_motif.building_motif.BuildingMOTIF object at 0x10f30ebc0>),\n",
       " Template(_id=12, _name='speed-command', body=<Graph identifier=34593bf2-1908-4de5-805f-4c312881f99f (<class 'rdflib.graph.Graph'>)>, optional_args=[], _bm=<buildingmotif.building_motif.building_motif.BuildingMOTIF object at 0x10f30ebc0>),\n",
       " Template(_id=13, _name='volume', body=<Graph identifier=c971207e-2a5c-410e-a8b7-7f0437579493 (<class 'rdflib.graph.Graph'>)>, optional_args=[], _bm=<buildingmotif.building_motif.building_motif.BuildingMOTIF object at 0x10f30ebc0>),\n",
       " Template(_id=14, _name='electric-current', body=<Graph identifier=503025cf-01d1-4995-92b2-32a8b3602eb1 (<class 'rdflib.graph.Graph'>)>, optional_args=[], _bm=<buildingmotif.building_motif.building_motif.BuildingMOTIF object at 0x10f30ebc0>),\n",
       " Template(_id=15, _name='status', body=<Graph identifier=9386df7c-2bfc-4d7e-8f9c-f9fa28987a46 (<class 'rdflib.graph.Graph'>)>, optional_args=[], _bm=<buildingmotif.building_motif.building_motif.BuildingMOTIF object at 0x10f30ebc0>),\n",
       " Template(_id=16, _name='turbidity', body=<Graph identifier=407168f7-02e1-4dd6-93f0-58bdd2b4eb96 (<class 'rdflib.graph.Graph'>)>, optional_args=[], _bm=<buildingmotif.building_motif.building_motif.BuildingMOTIF object at 0x10f30ebc0>),\n",
       " Template(_id=17, _name='toc-ppm', body=<Graph identifier=853bcf3a-6278-4844-8ac7-d9e416494600 (<class 'rdflib.graph.Graph'>)>, optional_args=[], _bm=<buildingmotif.building_motif.building_motif.BuildingMOTIF object at 0x10f30ebc0>),\n",
       " Template(_id=18, _name='inlet-cp', body=<Graph identifier=9dbf4ca0-9bb0-4185-a353-caff4b242fc9 (<class 'rdflib.graph.Graph'>)>, optional_args=['mapsto'], _bm=<buildingmotif.building_motif.building_motif.BuildingMOTIF object at 0x10f30ebc0>),\n",
       " Template(_id=19, _name='outlet-cp', body=<Graph identifier=e76244ea-ff24-4f22-a95d-60b094eead58 (<class 'rdflib.graph.Graph'>)>, optional_args=['mapsto'], _bm=<buildingmotif.building_motif.building_motif.BuildingMOTIF object at 0x10f30ebc0>),\n",
       " Template(_id=20, _name='bidirectional-cp', body=<Graph identifier=715b04a5-6d93-440a-bd84-4e6ff32026dc (<class 'rdflib.graph.Graph'>)>, optional_args=['mapsto'], _bm=<buildingmotif.building_motif.building_motif.BuildingMOTIF object at 0x10f30ebc0>),\n",
       " Template(_id=21, _name='pipe', body=<Graph identifier=42d0728e-e362-4b65-8ad8-0172b0488381 (<class 'rdflib.graph.Graph'>)>, optional_args=[], _bm=<buildingmotif.building_motif.building_motif.BuildingMOTIF object at 0x10f30ebc0>),\n",
       " Template(_id=22, _name='tank', body=<Graph identifier=931b09a1-ac31-4b02-be9f-a62a73a4f0f4 (<class 'rdflib.graph.Graph'>)>, optional_args=['role', 'bi-cp', 'in', 'out'], _bm=<buildingmotif.building_motif.building_motif.BuildingMOTIF object at 0x10f30ebc0>),\n",
       " Template(_id=23, _name='bladder', body=<Graph identifier=3c522472-9694-4804-9bdc-b8232976de17 (<class 'rdflib.graph.Graph'>)>, optional_args=['role'], _bm=<buildingmotif.building_motif.building_motif.BuildingMOTIF object at 0x10f30ebc0>),\n",
       " Template(_id=24, _name='valve', body=<Graph identifier=2580ff9e-83af-4ebe-98e5-ceb3a3036216 (<class 'rdflib.graph.Graph'>)>, optional_args=['role'], _bm=<buildingmotif.building_motif.building_motif.BuildingMOTIF object at 0x10f30ebc0>),\n",
       " Template(_id=25, _name='filter', body=<Graph identifier=0bfbba8f-e5fa-44fa-9635-1b50bed1e3d5 (<class 'rdflib.graph.Graph'>)>, optional_args=['role'], _bm=<buildingmotif.building_motif.building_motif.BuildingMOTIF object at 0x10f30ebc0>),\n",
       " Template(_id=26, _name='membrane', body=<Graph identifier=a3dd4015-c01d-4829-9e34-77cff2034842 (<class 'rdflib.graph.Graph'>)>, optional_args=['role'], _bm=<buildingmotif.building_motif.building_motif.BuildingMOTIF object at 0x10f30ebc0>),\n",
       " Template(_id=27, _name='membrane-module', body=<Graph identifier=306e0397-faad-477f-8ee0-46528fe2433b (<class 'rdflib.graph.Graph'>)>, optional_args=['role'], _bm=<buildingmotif.building_motif.building_motif.BuildingMOTIF object at 0x10f30ebc0>),\n",
       " Template(_id=28, _name='pump', body=<Graph identifier=63ea6a52-f37f-4e68-a0cc-c59ac853eea6 (<class 'rdflib.graph.Graph'>)>, optional_args=['role'], _bm=<buildingmotif.building_motif.building_motif.BuildingMOTIF object at 0x10f30ebc0>),\n",
       " Template(_id=29, _name='check-valve', body=<Graph identifier=0e926d45-beac-4d35-840b-3934f7212cf4 (<class 'rdflib.graph.Graph'>)>, optional_args=['role'], _bm=<buildingmotif.building_motif.building_motif.BuildingMOTIF object at 0x10f30ebc0>),\n",
       " Template(_id=30, _name='vfd', body=<Graph identifier=4869eced-c26c-487f-836c-a4d8708cbdef (<class 'rdflib.graph.Graph'>)>, optional_args=['role'], _bm=<buildingmotif.building_motif.building_motif.BuildingMOTIF object at 0x10f30ebc0>),\n",
       " Template(_id=31, _name='pump-with-vfd', body=<Graph identifier=c3e2e930-e188-4aaf-bff1-88055217aee9 (<class 'rdflib.graph.Graph'>)>, optional_args=[], _bm=<buildingmotif.building_motif.building_motif.BuildingMOTIF object at 0x10f30ebc0>),\n",
       " Template(_id=32, _name='controller', body=<Graph identifier=b5441cc1-fde4-48c8-a8a1-d17cd4a28496 (<class 'rdflib.graph.Graph'>)>, optional_args=[], _bm=<buildingmotif.building_motif.building_motif.BuildingMOTIF object at 0x10f30ebc0>),\n",
       " Template(_id=33, _name='uf-unit', body=<Graph identifier=4a6730b1-aa76-4595-a896-5804007ca269 (<class 'rdflib.graph.Graph'>)>, optional_args=['role'], _bm=<buildingmotif.building_motif.building_motif.BuildingMOTIF object at 0x10f30ebc0>)]"
      ]
     },
     "execution_count": 3,
     "metadata": {},
     "output_type": "execute_result"
    }
   ],
   "source": [
    "# %%\n",
    "templates = Library.load(directory='../templates')\n",
    "s223 = Library.load(ontology_graph=\"../../s223/collections/MODEL_SP223_all-v1.0.ttl\")\n",
    "templates.get_templates()"
   ]
  },
  {
   "cell_type": "code",
   "execution_count": null,
   "metadata": {},
   "outputs": [],
   "source": [
    "builder = ModelBuilder(ns = WBS, bm_instance= wbs, templates = templates)"
   ]
  },
  {
   "cell_type": "code",
   "execution_count": null,
   "metadata": {},
   "outputs": [
    {
     "ename": "NameError",
     "evalue": "name 'builder' is not defined",
     "output_type": "error",
     "traceback": [
      "\u001b[0;31m---------------------------------------------------------------------------\u001b[0m",
      "\u001b[0;31mNameError\u001b[0m                                 Traceback (most recent call last)",
      "Cell \u001b[0;32mIn[1], line 1\u001b[0m\n\u001b[0;32m----> 1\u001b[0m dosing_pump \u001b[38;5;241m=\u001b[39m \u001b[43mbuilder\u001b[49m\u001b[38;5;241m.\u001b[39mcreate_equipment(\u001b[38;5;124m'\u001b[39m\u001b[38;5;124msupply-tank\u001b[39m\u001b[38;5;124m'\u001b[39m, \u001b[38;5;124m'\u001b[39m\u001b[38;5;124mtank\u001b[39m\u001b[38;5;124m'\u001b[39m, role \u001b[38;5;241m=\u001b[39m S223[\u001b[38;5;124m'\u001b[39m\u001b[38;5;124mRole-Supply\u001b[39m\u001b[38;5;124m'\u001b[39m])\n\u001b[1;32m      2\u001b[0m \u001b[38;5;66;03m# may need a different way of doing differential pressure, but currently don't have enough info to say where differentials are measured\u001b[39;00m\n\u001b[1;32m      3\u001b[0m \u001b[38;5;66;03m# unclear if speed is a command or just a measured variable\u001b[39;00m\n\u001b[1;32m      4\u001b[0m dosing_pump_props \u001b[38;5;241m=\u001b[39m builder\u001b[38;5;241m.\u001b[39madd_properties(dosing_pump[\u001b[38;5;124m'\u001b[39m\u001b[38;5;124mout\u001b[39m\u001b[38;5;124m'\u001b[39m], [\u001b[38;5;124m'\u001b[39m\u001b[38;5;124mflow-rate\u001b[39m\u001b[38;5;124m'\u001b[39m,\u001b[38;5;124m'\u001b[39m\u001b[38;5;124mspeed-command\u001b[39m\u001b[38;5;124m'\u001b[39m], [\u001b[38;5;124m'\u001b[39m\u001b[38;5;124m92\u001b[39m\u001b[38;5;124m'\u001b[39m,\u001b[38;5;124m'\u001b[39m\u001b[38;5;124m66\u001b[39m\u001b[38;5;124m'\u001b[39m])\n",
      "\u001b[0;31mNameError\u001b[0m: name 'builder' is not defined"
     ]
    }
   ],
   "source": [
    "dosing_pump = builder.create_equipment('supply-tank', 'tank', role = S223['Role-Supply'])\n",
    "# may need a different way of doing differential pressure, but currently don't have enough info to say where differentials are measured\n",
    "# unclear if speed is a command or just a measured variable\n",
    "dosing_pump_props = builder.add_properties(dosing_pump['out'], ['flow-rate','speed-command'], ['92','66'])\n",
    "# TODO: double check if Bypass is a role \n",
    "uf_bypass_valve_1 = builder.create_equipment('uf-bypass', 'valve', role = S223['Role-Bypass'])\n",
    "uf_bypass_valve_1_to_feed = builder.add_connection_point(uf_bypass_valve_1, 'outlet-cp')\n",
    "builder.connect_equipment(dosing_pump, uf_bypass_valve_1)\n",
    "\n",
    "break_tank = builder.create_equipment('uf-feed-tank', 'tank', role = S223['Role-Supply'])\n",
    "builder.connect_equipment(uf_bypass_valve_1, break_tank, source_cp=uf_bypass_valve_1_to_feed)\n",
    "# TODO: Add units (e.g. gal, C) to the properties that need it. Should maybe have different templates for different units\n",
    "break_tank_props = builder.add_properties(break_tank['name'], ['volume', 'temperature'], ['17','22'])\n",
    "# what does OF mean? overfull, over feed? \n",
    "# TODO: Should there be a role for OF?\n",
    "# TODO: Should we use a boundary connection point for the of pump, or create a 'waste' tank or domain space\n",
    "of_pump = builder.create_equipment('of_pump','pump')\n",
    "break_tank_to_waste = builder.add_connection_point(break_tank, 'outlet-cp')\n",
    "builder.connect_equipment(break_tank, of_pump, source_cp=break_tank_to_waste)\n",
    "# adding a waste tank to represent where waste goes\n",
    "waste_tank = builder.create_equipment('waste','tank')\n",
    "# For 223P, waste should probably be a connection that is many inlet connection points to the waste receptical \n",
    "waste =builder.connect_equipment(of_pump, waste_tank)\n",
    "builder.graph.add((waste['name'], RDFS['comment'], Literal('Waste Connections')))\n",
    "\n",
    "# not sure we should still be using trhe role supply or not\n",
    "feed_valve = builder.create_equipment('feed-valve','valve', role = S223['Role-Supply'])\n",
    "feed_valve_drain_cp = builder.add_connection_point(feed_valve, 'outlet-cp')\n",
    "builder.connect_equipment(break_tank, feed_valve)\n",
    "\n",
    "feed_pump = builder.create_equipment('feed-pump','pump')\n",
    "builder.connect_equipment(feed_valve, feed_pump)\n",
    "feed_pump_props = builder.add_properties(feed_pump['name'], ['speed-command', 'electric-current'], ['59','21'])\n",
    "# TODO: make a flow rate that is in units of GPM (gal per min)\n",
    "# should probably have cp's named inlet-cp and outlet-cp for consistency\n",
    "feed_pump_out_props = builder.add_properties(feed_pump['out'], ['flow-rate', 'pressure'], [18, 14])\n",
    "\n",
    "# TODO: I wonder if it would be helpful to model a subsystem for valve assemblages we may want to view as a group\n",
    "# Is status the right representation for state? Not exactly sure what that means\n",
    "b3w2_valve = builder.create_equipment('b3w2-valve','valve')\n",
    "b3w2_valve_outlet = builder.add_connection_point(b3w2_valve, 'outlet-cp')\n",
    "b3w2_valve_prop = builder.add_properties(b3w2_valve['name'], ['status'], [118])\n",
    "builder.connect_equipment(feed_pump, b3w2_valve)\n",
    "builder.add_to_connection(b3w2_valve,waste, source_is_conn = False)\n",
    "\n",
    "# TODO: is b1 arrow going back to b3w2 wrong?\n",
    "b1_valve = builder.create_equipment('b1-valve','valve')\n",
    "b1_valve_prop = builder.add_properties(b1_valve['name'], ['status'],[116])\n",
    "# TODO: Right now modeling this valve in the 'running mode' the valve flow direction flips in backwash mode\n",
    "builder.connect_equipment(b3w2_valve, b1_valve)\n",
    "\n",
    "# Connection directions are getting a little confusing, might have to doublecheck this work\n",
    "v1_valve = builder.create_equipment('v1_valve', 'valve')\n",
    "v1_valve_inlet = builder.add_connection_point(v1_valve, 'inlet-cp')\n",
    "builder.connect_equipment(b1_valve, v1_valve)\n",
    "\n",
    "# TODO: Change medium to compressed air. Maybe add compressed air source\n",
    "ac_valve = builder.create_equipment('ac_valve', 'valve')\n",
    "builder.connect_equipment(ac_valve, v1_valve, target_cp=v1_valve_inlet)\n",
    "builder.add_properties(ac_valve['name'], ['status'],[126])\n",
    "\n",
    "# v1 to UF\n",
    "uf = builder.create_equipment('uf-unit','uf-unit')\n",
    "builder.connect_equipment(v1_valve, uf)\n",
    "uf_reject_cp = builder.add_connection_point(uf, 'outlet-cp')\n",
    "\n",
    "reject_valve = builder.create_equipment('reject_valve','valve')\n",
    "reject_line = builder.connect_equipment(uf, reject_valve)\n",
    "reject_line_props = builder.add_properties(reject_line['name'], ['pressure'], [16])\n",
    "reject_valve_air_outlet = builder.add_connection_point(reject_valve, 'outlet-cp')\n",
    "\n",
    "# TODO: What does valve with an M mean, manual? \n",
    "# Not sure if I should also model the air vent valve, is that an actual valve?\n",
    "# TODO: currently not representing properties for any of the valves (e.g. opening ratio)\n",
    "# Are some valves automated? for these I would add actuators\n",
    "# Do we need different moterized and manual versions of things? \n",
    "# Should 223P have different motorized and manual versions of things? \n",
    "# Should we only have properties for things that are monitored \n",
    "air_valve = builder.create_equipment('air_valve', 'valve')\n",
    "builder.add_properties(air_valve['name'], ['opening-command'], ['Manual Valve Property'])\n",
    "builder.connect_equipment(reject_valve, air_valve, source_cp=reject_valve_air_outlet)\n",
    "\n",
    "s2_valve = builder.create_equipment('s2_valve','valve')\n",
    "builder.add_properties(s2_valve['name'], ['status'],[127])\n",
    "builder.connect_equipment(reject_valve, s2_valve)\n",
    "\n",
    "builder.add_to_connection(s2_valve,waste, source_is_conn=False)\n",
    "\n",
    "uf_out_props = builder.add_properties(uf['out'], ['turbidity'],[34])\n",
    "uf_out_valve = builder.create_equipment('uf-out-valve','valve')\n",
    "# Extra unconnected cp? \n",
    "builder.add_connection_point(uf_out_valve,'outlet-cp')\n",
    "# TODO: might want to add human readable comments to more things\n",
    "\n",
    "b3w1_valve = builder.create_equipment('b3w1_valve', 'valve')\n",
    "builder.add_properties(b3w1_valve['name'], ['status'],[117])\n",
    "b3w1_to_bypass_cp = builder.add_connection_point(b3w1_valve,'outlet-cp') \n",
    "uf_out_valve_to_b3w1 = builder.connect_equipment(uf_out_valve, b3w1_valve)\n",
    "\n",
    "sv8_valve = builder.create_equipment('sv8_valve', 'valve')\n",
    "builder.add_to_connection(uf_out_valve_to_b3w1, sv8_valve)\n",
    "\n",
    "uf_backwash_pump = builder.create_equipment('uf_backwash_pump', 'pump')\n",
    "builder.add_properties(uf_backwash_pump['name'], ['status'],[119])\n",
    "# TODO: check what the two lines in pump to H1 Valve connection mean\n",
    "h1_valve = builder.create_equipment('h1_valve', 'valve')\n",
    "builder.connect_equipment(uf_backwash_pump, h1_valve)\n",
    "# TODO: I have no idea what the Fl (FI?) in the circle after H1 is \n",
    "builder.connect_equipment(h1_valve, b3w1_valve)\n",
    "uf_bypass_valve_2 = builder.create_equipment('uf_bypass_valve', 'valve')\n",
    "b3w1_to_bypass_conn = builder.connect_equipment(b3w1_valve, uf_bypass_valve_2, source_cp=b3w1_to_bypass_cp)\n",
    "\n",
    "# Not sure exactl how I want to represent MULT-TOC-1, 46\n",
    "# Don't know difference between 46 and 74, MULT-TOC-1 and UF-Permeate TOC. Maybe not different since they're labeled on top of each other for same sensor? \n",
    "# 46 and 74 are maybe measuring TOC and calculating PPM differently \n",
    "uf_to_bypass_props = builder.add_properties(b3w1_to_bypass_conn['name'], ['pressure','flow-rate','ph','toc-ppm', 'toc-ppm'], [15, 19, 48, 46, 74])\n",
    "\n",
    "uf_bypass_valve_to_waste = builder.create_equipment('uf_bypass_valve_to_waste', 'valve')\n",
    "builder.connect_equipment(uf_bypass_valve_1, uf_bypass_valve_to_waste)\n",
    "uf_bypass_valve_to_waste_cp = builder.add_connection_point(uf_bypass_valve_to_waste, 'outlet-cp')\n",
    "builder.add_to_connection(uf_bypass_valve_to_waste, waste, source_cp=uf_bypass_valve_to_waste_cp, source_is_conn=False)\n",
    "\n",
    "uf_bypass_valve_2_from_bypass_cp = builder.add_connection_point(uf_bypass_valve_2, 'inlet-cp')\n",
    "builder.connect_equipment(uf_bypass_valve_to_waste, uf_bypass_valve_2, target_cp=uf_bypass_valve_2_from_bypass_cp)\n",
    "\n",
    "# TODO: add ability to add comments to connections\n",
    "ufd_valve = builder.create_equipment('ufd_valve', 'valve')\n",
    "builder.add_properties(ufd_valve['name'], ['status'],[143])\n",
    "permeate_to_gac = builder.connect_equipment(uf_bypass_valve_2, ufd_valve)\n",
    "builder.graph.add((permeate_to_gac['name'], RDFS['comment'], Literal('Permeate to GAC')))\n",
    "\n",
    "# TODO: should probably change what is returned by add_connection_point. Functions don't all return the same datatype so this will be hard to use consistently\n",
    "permeate_to_waste_cp = builder.add_connection_point(ufd_valve, 'outlet-cp')\n",
    "builder.graph.add((ufd_valve[permeate_to_waste_cp], RDFS['comment'], Literal('UF Permeate to Waste')))\n",
    "builder.add_to_connection(ufd_valve, waste, source_cp=permeate_to_waste_cp, source_is_conn=False)"
   ]
  },
  {
   "cell_type": "code",
   "execution_count": null,
   "metadata": {},
   "outputs": [
    {
     "data": {
      "text/plain": [
       "<Graph identifier=86a6d66e-0254-403f-9b14-b1c85f07f1d0 (<class 'rdflib.graph.Graph'>)>"
      ]
     },
     "execution_count": 6,
     "metadata": {},
     "output_type": "execute_result"
    }
   ],
   "source": [
    "builder.graph.serialize(\"tzahi-model.ttl\", format=\"turtle\")"
   ]
  },
  {
   "cell_type": "code",
   "execution_count": null,
   "metadata": {},
   "outputs": [],
   "source": []
  }
 ],
 "metadata": {
  "kernelspec": {
   "display_name": "venv",
   "language": "python",
   "name": "python3"
  },
  "language_info": {
   "codemirror_mode": {
    "name": "ipython",
    "version": 3
   },
   "file_extension": ".py",
   "mimetype": "text/x-python",
   "name": "python",
   "nbconvert_exporter": "python",
   "pygments_lexer": "ipython3",
   "version": "3.12.4"
  }
 },
 "nbformat": 4,
 "nbformat_minor": 2
}
