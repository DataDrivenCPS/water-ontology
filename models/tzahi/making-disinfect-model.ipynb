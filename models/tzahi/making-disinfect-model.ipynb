{
 "cells": [
  {
   "cell_type": "code",
   "execution_count": 1,
   "metadata": {},
   "outputs": [],
   "source": [
    "from rdflib import Namespace, Graph, Literal, URIRef\n",
    "import re\n",
    "from buildingmotif import BuildingMOTIF\n",
    "from buildingmotif.dataclasses import Library, Model\n",
    "from buildingmotif.namespaces import bind_prefixes\n",
    "from buildingmotif.model_builder import TemplateBuilderContext\n",
    "import os \n",
    "import sys \n",
    "# %%\n",
    "# setup our buildingmotif instance\n",
    "bm = BuildingMOTIF(\"sqlite://\")\n",
    "\n",
    "# create the model w/ a namespace\n",
    "WBS = Namespace(\"urn:ex/\")\n",
    "S223 = Namespace(\"http://data.ashrae.org/standard223#\")\n",
    "wbs = Model.create(WBS)\n",
    "bind_prefixes(wbs.graph)\n",
    "wbs.graph.bind(\"wbs\", WBS)\n",
    "wbs.graph.bind(\"s223\", S223)\n",
    "wbs.graph.bind(\"nawi\", Namespace(\"urn:nawi-water-ontology#\"))\n",
    "things = []"
   ]
  },
  {
   "cell_type": "code",
   "execution_count": 2,
   "metadata": {},
   "outputs": [],
   "source": [
    "sys.path.append('..')\n",
    "from utils import * # ModelBuilder and vars"
   ]
  },
  {
   "cell_type": "code",
   "execution_count": 3,
   "metadata": {},
   "outputs": [
    {
     "name": "stderr",
     "output_type": "stream",
     "text": [
      "/Users/fletch/Applications/miniconda3/lib/python3.10/site-packages/pyshacl/extras/__init__.py:46: Warning: Extra \"js\" is not satisfied because requirement pyduktape2 is not installed.\n",
      "  warn(Warning(f\"Extra \\\"{extra_name}\\\" is not satisfied because requirement {req} is not installed.\"))\n",
      "2025-06-03 15:44:42,717 | root |  WARNING: An ontology could not resolve a dependency on http://qudt.org/2.1/vocab/currency (No row was found when one was required). Check this is loaded into BuildingMOTIF\n",
      "2025-06-03 15:44:42,717 | root |  WARNING: An ontology could not resolve a dependency on http://data.ashrae.org/standard223/1.0/vocab/enumeration (No row was found when one was required). Check this is loaded into BuildingMOTIF\n",
      "2025-06-03 15:44:42,718 | root |  WARNING: An ontology could not resolve a dependency on http://data.ashrae.org/standard223/1.0/extensions/settings (No row was found when one was required). Check this is loaded into BuildingMOTIF\n",
      "2025-06-03 15:44:42,718 | root |  WARNING: An ontology could not resolve a dependency on http://www.w3.org/ns/shacl# (No row was found when one was required). Check this is loaded into BuildingMOTIF\n",
      "2025-06-03 15:44:42,719 | root |  WARNING: An ontology could not resolve a dependency on http://qudt.org/2.1/vocab/constant (No row was found when one was required). Check this is loaded into BuildingMOTIF\n",
      "2025-06-03 15:44:42,719 | root |  WARNING: An ontology could not resolve a dependency on http://data.ashrae.org/standard223/1.0/model/core (No row was found when one was required). Check this is loaded into BuildingMOTIF\n",
      "2025-06-03 15:44:42,720 | root |  WARNING: An ontology could not resolve a dependency on http://qudt.org/2.1/vocab/unit (No row was found when one was required). Check this is loaded into BuildingMOTIF\n",
      "2025-06-03 15:44:42,720 | root |  WARNING: An ontology could not resolve a dependency on http://data.ashrae.org/standard223/1.0/model/equipment (No row was found when one was required). Check this is loaded into BuildingMOTIF\n"
     ]
    },
    {
     "data": {
      "text/plain": [
       "[Template(_id=1, _name='brine', body=<Graph identifier=f0853c60-c3e4-4ba6-8556-26967d320049 (<class 'rdflib.graph.Graph'>)>, optional_args=['constituent-salt', 'constituent-water'], _bm=<buildingmotif.building_motif.building_motif.BuildingMOTIF object at 0x108089f00>),\n",
       " Template(_id=2, _name='constituent-salt', body=<Graph identifier=69ab6140-8634-4b85-8403-5b51e8e60ef6 (<class 'rdflib.graph.Graph'>)>, optional_args=[], _bm=<buildingmotif.building_motif.building_motif.BuildingMOTIF object at 0x108089f00>),\n",
       " Template(_id=3, _name='constituent-water', body=<Graph identifier=f1e43187-ecd7-47e6-9eac-51caae972ca0 (<class 'rdflib.graph.Graph'>)>, optional_args=[], _bm=<buildingmotif.building_motif.building_motif.BuildingMOTIF object at 0x108089f00>),\n",
       " Template(_id=4, _name='ph', body=<Graph identifier=d61a3878-3dc3-4735-bc5a-7c47817d8cc7 (<class 'rdflib.graph.Graph'>)>, optional_args=[], _bm=<buildingmotif.building_motif.building_motif.BuildingMOTIF object at 0x108089f00>),\n",
       " Template(_id=5, _name='pressure', body=<Graph identifier=945c0316-80a0-4654-ab34-725d27f41cee (<class 'rdflib.graph.Graph'>)>, optional_args=[], _bm=<buildingmotif.building_motif.building_motif.BuildingMOTIF object at 0x108089f00>),\n",
       " Template(_id=6, _name='conductivity', body=<Graph identifier=74377f85-5431-42e1-83e6-e39e4e645dbc (<class 'rdflib.graph.Graph'>)>, optional_args=[], _bm=<buildingmotif.building_motif.building_motif.BuildingMOTIF object at 0x108089f00>),\n",
       " Template(_id=7, _name='temperature', body=<Graph identifier=6550116d-b6c5-4178-8881-a51c274c5afd (<class 'rdflib.graph.Graph'>)>, optional_args=[], _bm=<buildingmotif.building_motif.building_motif.BuildingMOTIF object at 0x108089f00>),\n",
       " Template(_id=8, _name='flow-rate', body=<Graph identifier=4704e35a-aa58-4a0e-9bbf-7b9a07ebbcb9 (<class 'rdflib.graph.Graph'>)>, optional_args=[], _bm=<buildingmotif.building_motif.building_motif.BuildingMOTIF object at 0x108089f00>),\n",
       " Template(_id=9, _name='opening-ratio', body=<Graph identifier=e96b3e55-4fe6-480f-a442-bf1f61055d2c (<class 'rdflib.graph.Graph'>)>, optional_args=[], _bm=<buildingmotif.building_motif.building_motif.BuildingMOTIF object at 0x108089f00>),\n",
       " Template(_id=10, _name='opening-command', body=<Graph identifier=52b710b1-6f26-4768-a309-a7d8c18f0bbb (<class 'rdflib.graph.Graph'>)>, optional_args=[], _bm=<buildingmotif.building_motif.building_motif.BuildingMOTIF object at 0x108089f00>),\n",
       " Template(_id=11, _name='on-off-command', body=<Graph identifier=50f1fcfc-234e-464d-985c-5585334929ca (<class 'rdflib.graph.Graph'>)>, optional_args=[], _bm=<buildingmotif.building_motif.building_motif.BuildingMOTIF object at 0x108089f00>),\n",
       " Template(_id=12, _name='speed-command', body=<Graph identifier=955d1c33-bce7-401a-b181-4c0887f3e6a8 (<class 'rdflib.graph.Graph'>)>, optional_args=[], _bm=<buildingmotif.building_motif.building_motif.BuildingMOTIF object at 0x108089f00>),\n",
       " Template(_id=13, _name='volume', body=<Graph identifier=05ab3806-8bf4-4da3-841f-0472c0674545 (<class 'rdflib.graph.Graph'>)>, optional_args=[], _bm=<buildingmotif.building_motif.building_motif.BuildingMOTIF object at 0x108089f00>),\n",
       " Template(_id=14, _name='electric-current', body=<Graph identifier=b17709e4-246f-4337-88e8-1ebf7d0d3247 (<class 'rdflib.graph.Graph'>)>, optional_args=[], _bm=<buildingmotif.building_motif.building_motif.BuildingMOTIF object at 0x108089f00>),\n",
       " Template(_id=15, _name='status', body=<Graph identifier=848f575d-d1a4-440b-a43b-e92b59639131 (<class 'rdflib.graph.Graph'>)>, optional_args=[], _bm=<buildingmotif.building_motif.building_motif.BuildingMOTIF object at 0x108089f00>),\n",
       " Template(_id=16, _name='turbidity', body=<Graph identifier=7f3ea2e5-e4d9-4496-9f28-db715dcbd87f (<class 'rdflib.graph.Graph'>)>, optional_args=[], _bm=<buildingmotif.building_motif.building_motif.BuildingMOTIF object at 0x108089f00>),\n",
       " Template(_id=17, _name='toc-ppm', body=<Graph identifier=51888a43-e0ae-428a-816c-a5a22ac12c78 (<class 'rdflib.graph.Graph'>)>, optional_args=[], _bm=<buildingmotif.building_motif.building_motif.BuildingMOTIF object at 0x108089f00>),\n",
       " Template(_id=18, _name='cl2-mgL', body=<Graph identifier=0663c81e-2a84-453d-b060-53d5c1b81f5f (<class 'rdflib.graph.Graph'>)>, optional_args=[], _bm=<buildingmotif.building_motif.building_motif.BuildingMOTIF object at 0x108089f00>),\n",
       " Template(_id=19, _name='inlet-cp', body=<Graph identifier=9bd120ef-dff7-43b5-90b1-19cdfe569497 (<class 'rdflib.graph.Graph'>)>, optional_args=['mapsto'], _bm=<buildingmotif.building_motif.building_motif.BuildingMOTIF object at 0x108089f00>),\n",
       " Template(_id=20, _name='outlet-cp', body=<Graph identifier=edde7f60-fe94-4e4c-ae04-073d9dd62b28 (<class 'rdflib.graph.Graph'>)>, optional_args=['mapsto'], _bm=<buildingmotif.building_motif.building_motif.BuildingMOTIF object at 0x108089f00>),\n",
       " Template(_id=21, _name='bidirectional-cp', body=<Graph identifier=861960f1-8732-4270-8a18-cb95a8c34cb4 (<class 'rdflib.graph.Graph'>)>, optional_args=['mapsto'], _bm=<buildingmotif.building_motif.building_motif.BuildingMOTIF object at 0x108089f00>),\n",
       " Template(_id=22, _name='pipe', body=<Graph identifier=dbfb061b-c788-40b3-9b55-c6404dd064cc (<class 'rdflib.graph.Graph'>)>, optional_args=[], _bm=<buildingmotif.building_motif.building_motif.BuildingMOTIF object at 0x108089f00>),\n",
       " Template(_id=23, _name='junction', body=<Graph identifier=7043546e-e6e6-461f-8ef8-161c2e06fcb2 (<class 'rdflib.graph.Graph'>)>, optional_args=['in1', 'in2', 'out1', 'out2'], _bm=<buildingmotif.building_motif.building_motif.BuildingMOTIF object at 0x108089f00>),\n",
       " Template(_id=24, _name='tank', body=<Graph identifier=182c0806-4b0f-4d14-a4ec-5655a1b49a77 (<class 'rdflib.graph.Graph'>)>, optional_args=['role', 'bi-cp', 'in', 'out'], _bm=<buildingmotif.building_motif.building_motif.BuildingMOTIF object at 0x108089f00>),\n",
       " Template(_id=25, _name='bladder', body=<Graph identifier=8abaa75a-e9d9-40f9-9311-c201cd6de39a (<class 'rdflib.graph.Graph'>)>, optional_args=['role'], _bm=<buildingmotif.building_motif.building_motif.BuildingMOTIF object at 0x108089f00>),\n",
       " Template(_id=26, _name='valve', body=<Graph identifier=a654a8c4-99f7-4c0a-8a1e-67bf63d4fb4e (<class 'rdflib.graph.Graph'>)>, optional_args=['role'], _bm=<buildingmotif.building_motif.building_motif.BuildingMOTIF object at 0x108089f00>),\n",
       " Template(_id=27, _name='filter', body=<Graph identifier=a67c39ca-db35-4887-8b5e-0ad61cb48bb3 (<class 'rdflib.graph.Graph'>)>, optional_args=['role'], _bm=<buildingmotif.building_motif.building_motif.BuildingMOTIF object at 0x108089f00>),\n",
       " Template(_id=28, _name='membrane', body=<Graph identifier=b78f371d-fced-465c-b7a2-98815e37db21 (<class 'rdflib.graph.Graph'>)>, optional_args=['role'], _bm=<buildingmotif.building_motif.building_motif.BuildingMOTIF object at 0x108089f00>),\n",
       " Template(_id=29, _name='membrane-module', body=<Graph identifier=f23178b6-7021-430b-b1c0-0f87daeff82d (<class 'rdflib.graph.Graph'>)>, optional_args=['role'], _bm=<buildingmotif.building_motif.building_motif.BuildingMOTIF object at 0x108089f00>),\n",
       " Template(_id=30, _name='pump', body=<Graph identifier=dd863ad9-0b45-49d6-9a78-08e8f46a957b (<class 'rdflib.graph.Graph'>)>, optional_args=['role'], _bm=<buildingmotif.building_motif.building_motif.BuildingMOTIF object at 0x108089f00>),\n",
       " Template(_id=31, _name='check-valve', body=<Graph identifier=51122b7a-e4f6-41e2-bdf7-e6f1ec89f09b (<class 'rdflib.graph.Graph'>)>, optional_args=['role'], _bm=<buildingmotif.building_motif.building_motif.BuildingMOTIF object at 0x108089f00>),\n",
       " Template(_id=32, _name='vfd', body=<Graph identifier=1792f0b2-9c2d-48f0-b01e-5966465db74f (<class 'rdflib.graph.Graph'>)>, optional_args=['role'], _bm=<buildingmotif.building_motif.building_motif.BuildingMOTIF object at 0x108089f00>),\n",
       " Template(_id=33, _name='pump-with-vfd', body=<Graph identifier=c03fdf8f-a861-4d5e-ae2c-f2f73f952a9a (<class 'rdflib.graph.Graph'>)>, optional_args=[], _bm=<buildingmotif.building_motif.building_motif.BuildingMOTIF object at 0x108089f00>),\n",
       " Template(_id=34, _name='controller', body=<Graph identifier=1a06be7e-277f-4f0a-8dc7-ea047b222e57 (<class 'rdflib.graph.Graph'>)>, optional_args=[], _bm=<buildingmotif.building_motif.building_motif.BuildingMOTIF object at 0x108089f00>),\n",
       " Template(_id=35, _name='uf-unit', body=<Graph identifier=d7efa16b-64b2-4acb-8c9e-18a554b2b0a4 (<class 'rdflib.graph.Graph'>)>, optional_args=['role'], _bm=<buildingmotif.building_motif.building_motif.BuildingMOTIF object at 0x108089f00>),\n",
       " Template(_id=36, _name='uv-reactor', body=<Graph identifier=4d750bc6-4e10-47e0-8d86-1e5301d6349d (<class 'rdflib.graph.Graph'>)>, optional_args=['role'], _bm=<buildingmotif.building_motif.building_motif.BuildingMOTIF object at 0x108089f00>),\n",
       " Template(_id=37, _name='contact-chamber', body=<Graph identifier=ac156a59-cf9b-4166-ac52-021293750e60 (<class 'rdflib.graph.Graph'>)>, optional_args=['role'], _bm=<buildingmotif.building_motif.building_motif.BuildingMOTIF object at 0x108089f00>)]"
      ]
     },
     "execution_count": 3,
     "metadata": {},
     "output_type": "execute_result"
    }
   ],
   "source": [
    "# %%\n",
    "templates = Library.load(directory='../templates')\n",
    "s223 = Library.load(ontology_graph=\"../../s223/collections/MODEL_SP223_all-v1.0.ttl\")\n",
    "templates.get_templates()"
   ]
  },
  {
   "cell_type": "code",
   "execution_count": 4,
   "metadata": {},
   "outputs": [],
   "source": [
    "builder = ModelBuilder(ns = WBS, bm_instance= wbs, templates = templates)"
   ]
  },
  {
   "cell_type": "code",
   "execution_count": 5,
   "metadata": {},
   "outputs": [
    {
     "name": "stdout",
     "output_type": "stream",
     "text": [
      "EQUIP HAS ALL NEEDED PROPERTIES:  h2o2-tank\n",
      "EQUIP HAS ALL NEEDED PROPERTIES:  h2o2-pump\n",
      "EQUIP HAS ALL NEEDED PROPERTIES:  lpuv-bypass-valve\n",
      "CP HAS ALL NEEDED PROPERTIES:  urn:ex/lpuv-bypass-valve-outlet-cp\n",
      "EQUIP HAS ALL NEEDED PROPERTIES:  lpuv-1\n",
      "EQUIP HAS ALL NEEDED PROPERTIES:  lpuv-2\n",
      "EQUIP HAS ALL NEEDED PROPERTIES:  lpuv-3\n",
      "EQUIP HAS ALL NEEDED PROPERTIES:  uv-led\n",
      "EQUIP HAS ALL NEEDED PROPERTIES:  uv-out-valve\n",
      "CP HAS ALL NEEDED PROPERTIES:  urn:ex/uv-out-valve-inlet-cp\n"
     ]
    },
    {
     "data": {
      "text/plain": [
       "{'in': rdflib.term.URIRef('urn:ex/uv-led-out'),\n",
       " 'out': rdflib.term.URIRef('urn:ex/uv-out-valve-inlet-cp'),\n",
       " 'name': rdflib.term.URIRef('urn:ex/conn-uv-led-to-uv-out-valve')}"
      ]
     },
     "execution_count": 5,
     "metadata": {},
     "output_type": "execute_result"
    }
   ],
   "source": [
    "# TODO: how to add column 53, \"GAC-UVT (%)\" between GAC and UV system?\n",
    "h2o2_tank = builder.create_equipment('h2o2-tank', 'tank', role=S223['Role-Supply'])\n",
    "h2o2_dosing_pump = builder.create_equipment('h2o2-pump', 'pump', role=S223['Role-Supply'])\n",
    "builder.connect_equipment(h2o2_tank, h2o2_dosing_pump)\n",
    "h2o2_dosing_pump_props = builder.add_properties(h2o2_dosing_pump['name'], ['status', 'flow-rate', 'speed-command'], ['145', '94', '68'])\n",
    "lpuv_bypass_valve = builder.create_equipment('lpuv-bypass-valve', 'valve')\n",
    "builder.connect_equipment(h2o2_dosing_pump, lpuv_bypass_valve)\n",
    "lpuv_bypass_outlet = builder.add_connection_point(lpuv_bypass_valve, 'outlet-cp')\n",
    "# TODO: should low pressure UV be a subclass of standard UV reactor? Right now all 4 are the same class\n",
    "lpuv_reactor_1 = builder.create_equipment('lpuv-1', 'uv-reactor')\n",
    "# TODO: column 26 is \"GAC-C3 Flow (GPM)\", which doesn't seem to match the LPUV reactor...\n",
    "# lpuv_reactor_1_props = builder.add_properties(lpuv_reactor_1['name'], ['status'], ['26'])\n",
    "lpuv_reactor_2 = builder.create_equipment('lpuv-2', 'uv-reactor')\n",
    "lpuv_reactor_2_props = builder.add_properties(lpuv_reactor_2['name'], ['status'], ['141']) #, '107'])\n",
    "lpuv_reactor_3 = builder.create_equipment('lpuv-3', 'uv-reactor')\n",
    "# TODO: column 107 is \"SCADA Enclosure Door\", which doesn't seem to match the LPUV reactor...\n",
    "# lpuv_reactor_3_props = builder.add_properties(lpuv_reactor_1['name'], ['status'], ['107'])\n",
    "lpuv_1_to_2 = builder.connect_equipment(lpuv_reactor_1, lpuv_reactor_2)\n",
    "lpuv_2_to_3 = builder.connect_equipment(lpuv_reactor_2, lpuv_reactor_3)\n",
    "# TODO: On / Off and LED % do not have a column numbers\n",
    "uv_led_reactor = builder.create_equipment('uv-led', 'uv-reactor')\n",
    "builder.connect_equipment(lpuv_bypass_valve, uv_led_reactor, source_cp=lpuv_bypass_outlet)\n",
    "uv_outlet_valve = builder.create_equipment('uv-out-valve', 'valve')\n",
    "builder.connect_equipment(lpuv_reactor_3, uv_outlet_valve)\n",
    "uv_led_outlet = builder.add_connection_point(uv_outlet_valve, 'inlet-cp')\n",
    "builder.connect_equipment(uv_led_reactor, uv_outlet_valve, target_cp=uv_led_outlet)"
   ]
  },
  {
   "cell_type": "code",
   "execution_count": 6,
   "metadata": {},
   "outputs": [
    {
     "name": "stdout",
     "output_type": "stream",
     "text": [
      "EQUIP HAS ALL NEEDED PROPERTIES:  chlorine-dose-point\n",
      "EQUIP HAS ALL NEEDED PROPERTIES:  chlorine-tank\n",
      "EQUIP HAS ALL NEEDED PROPERTIES:  chlorine-pump\n",
      "EQUIP HAS ALL NEEDED PROPERTIES:  chlorine-contactor\n",
      "EQUIP HAS ALL NEEDED PROPERTIES:  potable-effluent-valve\n"
     ]
    }
   ],
   "source": [
    "# TODO: how do we want to represent dosing points?\n",
    "chlorine_dosing_point = builder.create_equipment(\n",
    "    'chlorine-dose-point', \n",
    "    'junction', \n",
    "    optional_dict={'in1': 'dose-inlet', 'in2': 'uv-inlet', 'out1': 'chlorine-dose-out', 'medium': S223['Medium-Chlorine']}\n",
    ")\n",
    "builder.connect_equipment(uv_outlet_valve, chlorine_dosing_point)\n",
    "chlorine_tank = builder.create_equipment('chlorine-tank', 'tank', role=S223['Role-Supply'])\n",
    "chlorine_pump = builder.create_equipment('chlorine-pump', 'tank', role=S223['Role-Supply'])\n",
    "builder.connect_equipment(chlorine_tank, chlorine_pump)\n",
    "chlorine_pump_props = builder.add_properties(chlorine_pump['out'], ['flow-rate', 'speed-command'], ['93', '67'])\n",
    "builder.connect_equipment(chlorine_pump, chlorine_dosing_point)\n",
    "chlorine_contactor = builder.create_equipment('chlorine-contactor', 'contact-chamber')\n",
    "builder.connect_equipment(chlorine_dosing_point, chlorine_contactor)\n",
    "effluent_valve = builder.create_equipment('potable-effluent-valve', 'valve')\n",
    "effluent_pipe = builder.connect_equipment(chlorine_contactor, effluent_valve)\n",
    "# TODO: effluent pressure indicator (PI / eff) does not have a column number\n",
    "# Note: omitted column 46 since that is the Multi-TOC. I.e., the TOC measurement from different sampling points combined\n",
    "effluent_pipe_props = builder.add_properties(effluent_pipe['name'], ['toc-ppm', 'ph', 'turbidity', 'cl2-mgL'], [75, 39, 35, 37])"
   ]
  },
  {
   "cell_type": "code",
   "execution_count": 7,
   "metadata": {},
   "outputs": [
    {
     "data": {
      "text/plain": [
       "<Graph identifier=6284b21a-64b7-4b25-83fb-1c79f81dba84 (<class 'rdflib.graph.Graph'>)>"
      ]
     },
     "execution_count": 7,
     "metadata": {},
     "output_type": "execute_result"
    }
   ],
   "source": [
    "builder.graph.serialize(\"disinfect-model.ttl\", format=\"turtle\")"
   ]
  }
 ],
 "metadata": {
  "kernelspec": {
   "display_name": "base",
   "language": "python",
   "name": "python3"
  },
  "language_info": {
   "codemirror_mode": {
    "name": "ipython",
    "version": 3
   },
   "file_extension": ".py",
   "mimetype": "text/x-python",
   "name": "python",
   "nbconvert_exporter": "python",
   "pygments_lexer": "ipython3",
   "version": "3.10.10"
  },
  "orig_nbformat": 4,
  "vscode": {
   "interpreter": {
    "hash": "aae2058fbbcc30b768a4952a8eab23e440b837eb270e8c38607884e29a09b85f"
   }
  }
 },
 "nbformat": 4,
 "nbformat_minor": 2
}
