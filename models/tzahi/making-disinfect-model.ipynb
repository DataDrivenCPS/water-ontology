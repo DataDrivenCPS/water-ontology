{
 "cells": [
  {
   "cell_type": "code",
   "execution_count": 7,
   "metadata": {},
   "outputs": [],
   "source": [
    "from rdflib import Namespace, Graph, Literal, URIRef\n",
    "import re\n",
    "from buildingmotif import BuildingMOTIF\n",
    "from buildingmotif.dataclasses import Library, Model\n",
    "from buildingmotif.namespaces import bind_prefixes\n",
    "from buildingmotif.model_builder import TemplateBuilderContext\n",
    "import os \n",
    "import sys \n",
    "# %%\n",
    "# setup our buildingmotif instance\n",
    "bm = BuildingMOTIF(\"sqlite://\")\n",
    "\n",
    "# create the model w/ a namespace\n",
    "WBS = Namespace(\"urn:ex/\")\n",
    "S223 = Namespace(\"http://data.ashrae.org/standard223#\")\n",
    "wbs = Model.create(WBS)\n",
    "bind_prefixes(wbs.graph)\n",
    "wbs.graph.bind(\"wbs\", WBS)\n",
    "wbs.graph.bind(\"s223\", S223)\n",
    "wbs.graph.bind(\"nawi\", Namespace(\"urn:nawi-water-ontology#\"))\n",
    "things = []"
   ]
  },
  {
   "cell_type": "code",
   "execution_count": 8,
   "metadata": {},
   "outputs": [],
   "source": [
    "sys.path.append('..')\n",
    "from utils import * # ModelBuilder and vars"
   ]
  },
  {
   "cell_type": "code",
   "execution_count": 9,
   "metadata": {},
   "outputs": [
    {
     "name": "stderr",
     "output_type": "stream",
     "text": [
      "/home/fletch/miniconda3/lib/python3.12/site-packages/pyshacl/extras/__init__.py:46: Warning: Extra \"js\" is not satisfied because requirement pyduktape2 is not installed.\n",
      "  warn(Warning(f\"Extra \\\"{extra_name}\\\" is not satisfied because requirement {req} is not installed.\"))\n",
      "2025-06-03 11:59:14,157 | root |  WARNING: An ontology could not resolve a dependency on http://data.ashrae.org/standard223/1.0/model/core (Name: http://data.ashrae.org/standard223/1.0/model/core). Check this is loaded into BuildingMOTIF\n",
      "2025-06-03 11:59:14,159 | root |  WARNING: An ontology could not resolve a dependency on http://qudt.org/2.1/vocab/currency (Name: http://qudt.org/2.1/vocab/currency). Check this is loaded into BuildingMOTIF\n",
      "2025-06-03 11:59:14,160 | root |  WARNING: An ontology could not resolve a dependency on http://data.ashrae.org/standard223/1.0/vocab/enumeration (Name: http://data.ashrae.org/standard223/1.0/vocab/enumeration). Check this is loaded into BuildingMOTIF\n",
      "2025-06-03 11:59:14,161 | root |  WARNING: An ontology could not resolve a dependency on http://data.ashrae.org/standard223/1.0/model/equipment (Name: http://data.ashrae.org/standard223/1.0/model/equipment). Check this is loaded into BuildingMOTIF\n",
      "2025-06-03 11:59:14,162 | root |  WARNING: An ontology could not resolve a dependency on http://qudt.org/2.1/vocab/unit (Name: http://qudt.org/2.1/vocab/unit). Check this is loaded into BuildingMOTIF\n",
      "2025-06-03 11:59:14,163 | root |  WARNING: An ontology could not resolve a dependency on http://qudt.org/2.1/vocab/constant (Name: http://qudt.org/2.1/vocab/constant). Check this is loaded into BuildingMOTIF\n",
      "2025-06-03 11:59:14,164 | root |  WARNING: An ontology could not resolve a dependency on http://www.w3.org/ns/shacl# (Name: http://www.w3.org/ns/shacl#). Check this is loaded into BuildingMOTIF\n",
      "2025-06-03 11:59:14,165 | root |  WARNING: An ontology could not resolve a dependency on http://data.ashrae.org/standard223/1.0/extensions/settings (Name: http://data.ashrae.org/standard223/1.0/extensions/settings). Check this is loaded into BuildingMOTIF\n"
     ]
    },
    {
     "data": {
      "text/plain": [
       "[Template(_id=1, _name='ph', body=<Graph identifier=6d48d11e-508b-48e3-ab66-cbe67e0590ee (<class 'rdflib.graph.Graph'>)>, optional_args=[], _bm=<buildingmotif.building_motif.building_motif.BuildingMOTIF object at 0x7f672eb32ba0>),\n",
       " Template(_id=2, _name='pressure', body=<Graph identifier=c3891374-7bbb-4e3d-bd8c-6273f2a68ab4 (<class 'rdflib.graph.Graph'>)>, optional_args=[], _bm=<buildingmotif.building_motif.building_motif.BuildingMOTIF object at 0x7f672eb32ba0>),\n",
       " Template(_id=3, _name='conductivity', body=<Graph identifier=aa300586-acc8-49b0-8e63-23dad2a93290 (<class 'rdflib.graph.Graph'>)>, optional_args=[], _bm=<buildingmotif.building_motif.building_motif.BuildingMOTIF object at 0x7f672eb32ba0>),\n",
       " Template(_id=4, _name='temperature', body=<Graph identifier=fd58ec7f-3b29-47e7-8903-ae5350bf97b7 (<class 'rdflib.graph.Graph'>)>, optional_args=[], _bm=<buildingmotif.building_motif.building_motif.BuildingMOTIF object at 0x7f672eb32ba0>),\n",
       " Template(_id=5, _name='flow-rate', body=<Graph identifier=c3036d51-6866-4233-90d2-3a9b56a64734 (<class 'rdflib.graph.Graph'>)>, optional_args=[], _bm=<buildingmotif.building_motif.building_motif.BuildingMOTIF object at 0x7f672eb32ba0>),\n",
       " Template(_id=6, _name='opening-ratio', body=<Graph identifier=c686231e-68ef-46a7-be3c-5abe9e62153a (<class 'rdflib.graph.Graph'>)>, optional_args=[], _bm=<buildingmotif.building_motif.building_motif.BuildingMOTIF object at 0x7f672eb32ba0>),\n",
       " Template(_id=7, _name='opening-command', body=<Graph identifier=ecd34e4d-4238-4e3d-bd73-3f4e8b16f303 (<class 'rdflib.graph.Graph'>)>, optional_args=[], _bm=<buildingmotif.building_motif.building_motif.BuildingMOTIF object at 0x7f672eb32ba0>),\n",
       " Template(_id=8, _name='on-off-command', body=<Graph identifier=4e34e1ff-5422-4b72-ab87-65bbe9fe5a46 (<class 'rdflib.graph.Graph'>)>, optional_args=[], _bm=<buildingmotif.building_motif.building_motif.BuildingMOTIF object at 0x7f672eb32ba0>),\n",
       " Template(_id=9, _name='speed-command', body=<Graph identifier=6ff61a1b-b392-4a0a-9fd3-3e72d1d9a34f (<class 'rdflib.graph.Graph'>)>, optional_args=[], _bm=<buildingmotif.building_motif.building_motif.BuildingMOTIF object at 0x7f672eb32ba0>),\n",
       " Template(_id=10, _name='volume', body=<Graph identifier=cf6d73dc-fb82-4b17-a10e-36a0d35b26e6 (<class 'rdflib.graph.Graph'>)>, optional_args=[], _bm=<buildingmotif.building_motif.building_motif.BuildingMOTIF object at 0x7f672eb32ba0>),\n",
       " Template(_id=11, _name='electric-current', body=<Graph identifier=64bdf7e2-5264-45d7-86fa-d62312e4c89a (<class 'rdflib.graph.Graph'>)>, optional_args=[], _bm=<buildingmotif.building_motif.building_motif.BuildingMOTIF object at 0x7f672eb32ba0>),\n",
       " Template(_id=12, _name='status', body=<Graph identifier=7bc989a4-ccc7-4a2b-a0f6-9067a00acd53 (<class 'rdflib.graph.Graph'>)>, optional_args=[], _bm=<buildingmotif.building_motif.building_motif.BuildingMOTIF object at 0x7f672eb32ba0>),\n",
       " Template(_id=13, _name='turbidity', body=<Graph identifier=cceed155-254f-4f40-9e36-59a4287dcdf4 (<class 'rdflib.graph.Graph'>)>, optional_args=[], _bm=<buildingmotif.building_motif.building_motif.BuildingMOTIF object at 0x7f672eb32ba0>),\n",
       " Template(_id=14, _name='toc-ppm', body=<Graph identifier=558d10d7-111d-4a72-92a3-47267275aca6 (<class 'rdflib.graph.Graph'>)>, optional_args=[], _bm=<buildingmotif.building_motif.building_motif.BuildingMOTIF object at 0x7f672eb32ba0>),\n",
       " Template(_id=15, _name='cl2-mgL', body=<Graph identifier=f391d111-255e-4553-b87e-82bb0f701450 (<class 'rdflib.graph.Graph'>)>, optional_args=[], _bm=<buildingmotif.building_motif.building_motif.BuildingMOTIF object at 0x7f672eb32ba0>),\n",
       " Template(_id=16, _name='brine', body=<Graph identifier=e9f16457-3958-403c-bc2d-ff37616bc638 (<class 'rdflib.graph.Graph'>)>, optional_args=['constituent-salt', 'constituent-water'], _bm=<buildingmotif.building_motif.building_motif.BuildingMOTIF object at 0x7f672eb32ba0>),\n",
       " Template(_id=17, _name='constituent-salt', body=<Graph identifier=14b40526-ce7c-4e9d-afb2-324b2186ed8d (<class 'rdflib.graph.Graph'>)>, optional_args=[], _bm=<buildingmotif.building_motif.building_motif.BuildingMOTIF object at 0x7f672eb32ba0>),\n",
       " Template(_id=18, _name='constituent-water', body=<Graph identifier=f42b2c7f-6fd9-4c36-bcec-4ca6a10a566e (<class 'rdflib.graph.Graph'>)>, optional_args=[], _bm=<buildingmotif.building_motif.building_motif.BuildingMOTIF object at 0x7f672eb32ba0>),\n",
       " Template(_id=19, _name='inlet-cp', body=<Graph identifier=927861c1-f471-40cf-9623-019eb7a0fb18 (<class 'rdflib.graph.Graph'>)>, optional_args=['mapsto'], _bm=<buildingmotif.building_motif.building_motif.BuildingMOTIF object at 0x7f672eb32ba0>),\n",
       " Template(_id=20, _name='outlet-cp', body=<Graph identifier=cc12f94b-2c69-4007-8e38-7a6ddd2d29c9 (<class 'rdflib.graph.Graph'>)>, optional_args=['mapsto'], _bm=<buildingmotif.building_motif.building_motif.BuildingMOTIF object at 0x7f672eb32ba0>),\n",
       " Template(_id=21, _name='bidirectional-cp', body=<Graph identifier=027c7dbe-62c8-4c30-9129-dc8d2591cc1b (<class 'rdflib.graph.Graph'>)>, optional_args=['mapsto'], _bm=<buildingmotif.building_motif.building_motif.BuildingMOTIF object at 0x7f672eb32ba0>),\n",
       " Template(_id=22, _name='pipe', body=<Graph identifier=fb7edc7e-cf3c-4e74-862e-3d700e865cc7 (<class 'rdflib.graph.Graph'>)>, optional_args=[], _bm=<buildingmotif.building_motif.building_motif.BuildingMOTIF object at 0x7f672eb32ba0>),\n",
       " Template(_id=23, _name='tank', body=<Graph identifier=a241ae65-94dd-47eb-8ab4-d365883140a5 (<class 'rdflib.graph.Graph'>)>, optional_args=['role', 'bi-cp', 'in', 'out'], _bm=<buildingmotif.building_motif.building_motif.BuildingMOTIF object at 0x7f672eb32ba0>),\n",
       " Template(_id=24, _name='bladder', body=<Graph identifier=2f0b9729-9e35-492d-b2ad-74f7e263b73a (<class 'rdflib.graph.Graph'>)>, optional_args=['role'], _bm=<buildingmotif.building_motif.building_motif.BuildingMOTIF object at 0x7f672eb32ba0>),\n",
       " Template(_id=25, _name='valve', body=<Graph identifier=a59f5c55-6c5b-4d1b-9a6a-1b6bce91a311 (<class 'rdflib.graph.Graph'>)>, optional_args=['role'], _bm=<buildingmotif.building_motif.building_motif.BuildingMOTIF object at 0x7f672eb32ba0>),\n",
       " Template(_id=26, _name='filter', body=<Graph identifier=31cbe082-1975-457f-88b0-c2921d2f023b (<class 'rdflib.graph.Graph'>)>, optional_args=['role'], _bm=<buildingmotif.building_motif.building_motif.BuildingMOTIF object at 0x7f672eb32ba0>),\n",
       " Template(_id=27, _name='membrane', body=<Graph identifier=902a1c54-492e-4aea-b6cf-0216429e91ec (<class 'rdflib.graph.Graph'>)>, optional_args=['role'], _bm=<buildingmotif.building_motif.building_motif.BuildingMOTIF object at 0x7f672eb32ba0>),\n",
       " Template(_id=28, _name='membrane-module', body=<Graph identifier=0993b9b7-fd36-46ed-b204-2fc0cf433be1 (<class 'rdflib.graph.Graph'>)>, optional_args=['role'], _bm=<buildingmotif.building_motif.building_motif.BuildingMOTIF object at 0x7f672eb32ba0>),\n",
       " Template(_id=29, _name='pump', body=<Graph identifier=5d12d644-fbcb-46e7-baa3-dd947c9e45b9 (<class 'rdflib.graph.Graph'>)>, optional_args=['role'], _bm=<buildingmotif.building_motif.building_motif.BuildingMOTIF object at 0x7f672eb32ba0>),\n",
       " Template(_id=30, _name='check-valve', body=<Graph identifier=13897ffe-cd12-4273-8ea4-2a11f75c47cf (<class 'rdflib.graph.Graph'>)>, optional_args=['role'], _bm=<buildingmotif.building_motif.building_motif.BuildingMOTIF object at 0x7f672eb32ba0>),\n",
       " Template(_id=31, _name='vfd', body=<Graph identifier=b35e2ebf-a8f0-45ca-8ade-6caa583e5394 (<class 'rdflib.graph.Graph'>)>, optional_args=['role'], _bm=<buildingmotif.building_motif.building_motif.BuildingMOTIF object at 0x7f672eb32ba0>),\n",
       " Template(_id=32, _name='pump-with-vfd', body=<Graph identifier=f30edebc-4b40-41fc-abc8-ae85be364ece (<class 'rdflib.graph.Graph'>)>, optional_args=[], _bm=<buildingmotif.building_motif.building_motif.BuildingMOTIF object at 0x7f672eb32ba0>),\n",
       " Template(_id=33, _name='controller', body=<Graph identifier=cbc09eef-8ae9-4fb3-a56f-e834c92b6af7 (<class 'rdflib.graph.Graph'>)>, optional_args=[], _bm=<buildingmotif.building_motif.building_motif.BuildingMOTIF object at 0x7f672eb32ba0>),\n",
       " Template(_id=34, _name='uf-unit', body=<Graph identifier=b0bbcf4d-95a5-417d-b26c-b03e2ab47580 (<class 'rdflib.graph.Graph'>)>, optional_args=['role'], _bm=<buildingmotif.building_motif.building_motif.BuildingMOTIF object at 0x7f672eb32ba0>),\n",
       " Template(_id=35, _name='uv-reactor', body=<Graph identifier=28857d7d-8e83-45a4-86c0-1c0a5ff8fa33 (<class 'rdflib.graph.Graph'>)>, optional_args=['role'], _bm=<buildingmotif.building_motif.building_motif.BuildingMOTIF object at 0x7f672eb32ba0>)]"
      ]
     },
     "execution_count": 9,
     "metadata": {},
     "output_type": "execute_result"
    }
   ],
   "source": [
    "# %%\n",
    "templates = Library.load(directory='../templates')\n",
    "s223 = Library.load(ontology_graph=\"../../s223/collections/MODEL_SP223_all-v1.0.ttl\")\n",
    "templates.get_templates()"
   ]
  },
  {
   "cell_type": "code",
   "execution_count": 16,
   "metadata": {},
   "outputs": [],
   "source": [
    "builder = ModelBuilder(ns = WBS, bm_instance= wbs, templates = templates)"
   ]
  },
  {
   "cell_type": "code",
   "execution_count": 17,
   "metadata": {},
   "outputs": [
    {
     "name": "stdout",
     "output_type": "stream",
     "text": [
      "EQUIP HAS ALL NEEDED PROPERTIES:  h2o2-tank\n",
      "EQUIP HAS ALL NEEDED PROPERTIES:  lpuv-bypass-valve\n",
      "CP HAS ALL NEEDED PROPERTIES:  urn:ex/lpuv-bypass-valve-outlet-cp-2\n",
      "EQUIP HAS ALL NEEDED PROPERTIES:  lpuv-1\n",
      "EQUIP HAS ALL NEEDED PROPERTIES:  lpuv-2\n",
      "EQUIP HAS ALL NEEDED PROPERTIES:  lpuv-3\n",
      "EQUIP HAS ALL NEEDED PROPERTIES:  uv-led\n",
      "EQUIP HAS ALL NEEDED PROPERTIES:  uv-out-valve\n",
      "CP HAS ALL NEEDED PROPERTIES:  urn:ex/uv-out-valve-inlet-cp-2\n"
     ]
    },
    {
     "data": {
      "text/plain": [
       "{'in': rdflib.term.URIRef('urn:ex/uv-led-out'),\n",
       " 'out': rdflib.term.URIRef('urn:ex/uv-out-valve-inlet-cp-2'),\n",
       " 'name': rdflib.term.URIRef('urn:ex/conn-uv-led-to-uv-out-valve')}"
      ]
     },
     "execution_count": 17,
     "metadata": {},
     "output_type": "execute_result"
    }
   ],
   "source": [
    "# TODO: how to add column 53, \"GAC-UVT (%)\" between GAC and UV system?\n",
    "h2o2_dosing_pump = builder.create_equipment('h2o2-tank', 'tank', role = S223['Role-Supply'])\n",
    "h2o2_dosing_pump_props = builder.add_properties(h2o2_dosing_pump['out'], ['status', 'flow-rate', 'speed-command'], ['145', '94', '68'])\n",
    "lpuv_bypass_valve = builder.create_equipment('lpuv-bypass-valve', 'valve')\n",
    "builder.connect_equipment(h2o2_dosing_pump, lpuv_bypass_valve)\n",
    "lpuv_bypass_outlet = builder.add_connection_point(lpuv_bypass_valve, 'outlet-cp')\n",
    "# TODO: should low pressure UV be a subclass of standard UV reactor? Right now all 4 are the same class\n",
    "lpuv_reactor_1 = builder.create_equipment('lpuv-1', 'uv-reactor')\n",
    "# TODO: column 26 is \"GAC-C3 Flow (GPM)\", which doesn't seem to match the LPUV reactor...\n",
    "# lpuv_reactor_1_props = builder.add_properties(lpuv_reactor_1['name'], ['status'], ['26'])\n",
    "lpuv_reactor_2 = builder.create_equipment('lpuv-2', 'uv-reactor')\n",
    "lpuv_reactor_2_props = builder.add_properties(lpuv_reactor_2['name'], ['status'], ['141']) #, '107'])\n",
    "lpuv_reactor_3 = builder.create_equipment('lpuv-3', 'uv-reactor')\n",
    "# TODO: column 107 is \"SCADA Enclosure Door\", which doesn't seem to match the LPUV reactor...\n",
    "# lpuv_reactor_3_props = builder.add_properties(lpuv_reactor_1['name'], ['status'], ['107'])\n",
    "lpuv_1_to_2 = builder.connect_equipment(lpuv_reactor_1, lpuv_reactor_2)\n",
    "lpuv_2_to_3 = builder.connect_equipment(lpuv_reactor_2, lpuv_reactor_3)\n",
    "# TODO: On / Off and LED % do not have a column numbers\n",
    "uv_led_reactor = builder.create_equipment('uv-led', 'uv-reactor')\n",
    "builder.connect_equipment(lpuv_bypass_valve, uv_led_reactor, source_cp=lpuv_bypass_outlet)\n",
    "uv_outlet_valve = builder.create_equipment('uv-out-valve', 'valve')\n",
    "builder.connect_equipment(lpuv_reactor_3, uv_outlet_valve)\n",
    "uv_led_outlet = builder.add_connection_point(uv_outlet_valve, 'inlet-cp')\n",
    "builder.connect_equipment(uv_led_reactor, uv_outlet_valve, target_cp=uv_led_outlet)"
   ]
  },
  {
   "cell_type": "code",
   "execution_count": 18,
   "metadata": {},
   "outputs": [
    {
     "ename": "TemplateNotFound",
     "evalue": "Name: junction",
     "output_type": "error",
     "traceback": [
      "\u001b[31m---------------------------------------------------------------------------\u001b[39m",
      "\u001b[31mNoResultFound\u001b[39m                             Traceback (most recent call last)",
      "\u001b[36mFile \u001b[39m\u001b[32m~/miniconda3/lib/python3.12/site-packages/buildingmotif/database/table_connection.py:334\u001b[39m, in \u001b[36mTableConnection.get_db_template_by_name\u001b[39m\u001b[34m(self, name)\u001b[39m\n\u001b[32m    332\u001b[39m \u001b[38;5;28;01mtry\u001b[39;00m:\n\u001b[32m    333\u001b[39m     db_template = (\n\u001b[32m--> \u001b[39m\u001b[32m334\u001b[39m         \u001b[38;5;28;43mself\u001b[39;49m\u001b[43m.\u001b[49m\u001b[43mbm\u001b[49m\u001b[43m.\u001b[49m\u001b[43msession\u001b[49m\u001b[43m.\u001b[49m\u001b[43mquery\u001b[49m\u001b[43m(\u001b[49m\u001b[43mDBTemplate\u001b[49m\u001b[43m)\u001b[49m\u001b[43m.\u001b[49m\u001b[43mfilter\u001b[49m\u001b[43m(\u001b[49m\u001b[43mDBTemplate\u001b[49m\u001b[43m.\u001b[49m\u001b[43mname\u001b[49m\u001b[43m \u001b[49m\u001b[43m==\u001b[49m\u001b[43m \u001b[49m\u001b[43mname\u001b[49m\u001b[43m)\u001b[49m\u001b[43m.\u001b[49m\u001b[43mone\u001b[49m\u001b[43m(\u001b[49m\u001b[43m)\u001b[49m\n\u001b[32m    335\u001b[39m     )\n\u001b[32m    336\u001b[39m \u001b[38;5;28;01mexcept\u001b[39;00m NoResultFound:\n",
      "\u001b[36mFile \u001b[39m\u001b[32m~/miniconda3/lib/python3.12/site-packages/sqlalchemy/orm/query.py:2870\u001b[39m, in \u001b[36mQuery.one\u001b[39m\u001b[34m(self)\u001b[39m\n\u001b[32m   2853\u001b[39m \u001b[38;5;250m\u001b[39m\u001b[33;03m\"\"\"Return exactly one result or raise an exception.\u001b[39;00m\n\u001b[32m   2854\u001b[39m \n\u001b[32m   2855\u001b[39m \u001b[33;03mRaises ``sqlalchemy.orm.exc.NoResultFound`` if the query selects\u001b[39;00m\n\u001b[32m   (...)\u001b[39m\u001b[32m   2868\u001b[39m \n\u001b[32m   2869\u001b[39m \u001b[33;03m\"\"\"\u001b[39;00m\n\u001b[32m-> \u001b[39m\u001b[32m2870\u001b[39m \u001b[38;5;28;01mreturn\u001b[39;00m \u001b[38;5;28;43mself\u001b[39;49m\u001b[43m.\u001b[49m\u001b[43m_iter\u001b[49m\u001b[43m(\u001b[49m\u001b[43m)\u001b[49m\u001b[43m.\u001b[49m\u001b[43mone\u001b[49m\u001b[43m(\u001b[49m\u001b[43m)\u001b[49m\n",
      "\u001b[36mFile \u001b[39m\u001b[32m~/miniconda3/lib/python3.12/site-packages/sqlalchemy/engine/result.py:1522\u001b[39m, in \u001b[36mScalarResult.one\u001b[39m\u001b[34m(self)\u001b[39m\n\u001b[32m   1515\u001b[39m \u001b[38;5;250m\u001b[39m\u001b[33;03m\"\"\"Return exactly one object or raise an exception.\u001b[39;00m\n\u001b[32m   1516\u001b[39m \n\u001b[32m   1517\u001b[39m \u001b[33;03mEquivalent to :meth:`_engine.Result.one` except that\u001b[39;00m\n\u001b[32m   (...)\u001b[39m\u001b[32m   1520\u001b[39m \n\u001b[32m   1521\u001b[39m \u001b[33;03m\"\"\"\u001b[39;00m\n\u001b[32m-> \u001b[39m\u001b[32m1522\u001b[39m \u001b[38;5;28;01mreturn\u001b[39;00m \u001b[38;5;28;43mself\u001b[39;49m\u001b[43m.\u001b[49m\u001b[43m_only_one_row\u001b[49m\u001b[43m(\u001b[49m\n\u001b[32m   1523\u001b[39m \u001b[43m    \u001b[49m\u001b[43mraise_for_second_row\u001b[49m\u001b[43m=\u001b[49m\u001b[38;5;28;43;01mTrue\u001b[39;49;00m\u001b[43m,\u001b[49m\u001b[43m \u001b[49m\u001b[43mraise_for_none\u001b[49m\u001b[43m=\u001b[49m\u001b[38;5;28;43;01mTrue\u001b[39;49;00m\u001b[43m,\u001b[49m\u001b[43m \u001b[49m\u001b[43mscalar\u001b[49m\u001b[43m=\u001b[49m\u001b[38;5;28;43;01mFalse\u001b[39;49;00m\n\u001b[32m   1524\u001b[39m \u001b[43m\u001b[49m\u001b[43m)\u001b[49m\n",
      "\u001b[36mFile \u001b[39m\u001b[32m~/miniconda3/lib/python3.12/site-packages/sqlalchemy/engine/result.py:562\u001b[39m, in \u001b[36mResultInternal._only_one_row\u001b[39m\u001b[34m(self, raise_for_second_row, raise_for_none, scalar)\u001b[39m\n\u001b[32m    561\u001b[39m \u001b[38;5;28;01mif\u001b[39;00m raise_for_none:\n\u001b[32m--> \u001b[39m\u001b[32m562\u001b[39m     \u001b[38;5;28;01mraise\u001b[39;00m exc.NoResultFound(\n\u001b[32m    563\u001b[39m         \u001b[33m\"\u001b[39m\u001b[33mNo row was found when one was required\u001b[39m\u001b[33m\"\u001b[39m\n\u001b[32m    564\u001b[39m     )\n\u001b[32m    565\u001b[39m \u001b[38;5;28;01melse\u001b[39;00m:\n",
      "\u001b[31mNoResultFound\u001b[39m: No row was found when one was required",
      "\nDuring handling of the above exception, another exception occurred:\n",
      "\u001b[31mTemplateNotFound\u001b[39m                          Traceback (most recent call last)",
      "\u001b[36mCell\u001b[39m\u001b[36m \u001b[39m\u001b[32mIn[18]\u001b[39m\u001b[32m, line 1\u001b[39m\n\u001b[32m----> \u001b[39m\u001b[32m1\u001b[39m chlorine_dosing_point = \u001b[43mbuilder\u001b[49m\u001b[43m.\u001b[49m\u001b[43mcreate_equipment\u001b[49m\u001b[43m(\u001b[49m\u001b[33;43m'\u001b[39;49m\u001b[33;43mchlorine-dose-point\u001b[39;49m\u001b[33;43m'\u001b[39;49m\u001b[43m,\u001b[49m\u001b[43m \u001b[49m\u001b[33;43m'\u001b[39;49m\u001b[33;43mjunction\u001b[39;49m\u001b[33;43m'\u001b[39;49m\u001b[43m,\u001b[49m\u001b[43m \u001b[49m\u001b[43mrole\u001b[49m\u001b[43m \u001b[49m\u001b[43m=\u001b[49m\u001b[43m \u001b[49m\u001b[43mS223\u001b[49m\u001b[43m[\u001b[49m\u001b[33;43m'\u001b[39;49m\u001b[33;43mRole-Supply\u001b[39;49m\u001b[33;43m'\u001b[39;49m\u001b[43m]\u001b[49m\u001b[43m)\u001b[49m\n\u001b[32m      2\u001b[39m builder.connect_equipment(uv_outlet_valve, chlorine_dosing_point)\n\u001b[32m      3\u001b[39m chlorine_dosing_pump = builder.create_equipment(\u001b[33m'\u001b[39m\u001b[33mchlorine-dosing-tank\u001b[39m\u001b[33m'\u001b[39m, \u001b[33m'\u001b[39m\u001b[33mtank\u001b[39m\u001b[33m'\u001b[39m, role = S223[\u001b[33m'\u001b[39m\u001b[33mRole-Supply\u001b[39m\u001b[33m'\u001b[39m])\n",
      "\u001b[36mFile \u001b[39m\u001b[32m~/Documents/Git/water-ontology/models/tzahi/../utils.py:39\u001b[39m, in \u001b[36mModelBuilder.create_equipment\u001b[39m\u001b[34m(self, equip_name, equip_temp_name, optional_dict, in_medium, out_medium, role)\u001b[39m\n\u001b[32m     38\u001b[39m \u001b[38;5;28;01mdef\u001b[39;00m\u001b[38;5;250m \u001b[39m\u001b[34mcreate_equipment\u001b[39m(\u001b[38;5;28mself\u001b[39m, equip_name, equip_temp_name, optional_dict = {}, in_medium = DEFAULT_MEDIUM, out_medium = DEFAULT_MEDIUM, role = \u001b[38;5;28;01mNone\u001b[39;00m):\n\u001b[32m---> \u001b[39m\u001b[32m39\u001b[39m     equip_temp = \u001b[38;5;28;43mself\u001b[39;49m\u001b[43m.\u001b[49m\u001b[43mtemplates\u001b[49m\u001b[43m.\u001b[49m\u001b[43mget_template_by_name\u001b[49m\u001b[43m(\u001b[49m\u001b[43mequip_temp_name\u001b[49m\u001b[43m)\u001b[49m\n\u001b[32m     40\u001b[39m     equip_dict = {\u001b[33m'\u001b[39m\u001b[33min\u001b[39m\u001b[33m'\u001b[39m: \u001b[38;5;28mself\u001b[39m.ns[\u001b[33mf\u001b[39m\u001b[33m'\u001b[39m\u001b[38;5;132;01m{\u001b[39;00mequip_name\u001b[38;5;132;01m}\u001b[39;00m\u001b[33m-in\u001b[39m\u001b[33m'\u001b[39m],\n\u001b[32m     41\u001b[39m     \u001b[33m'\u001b[39m\u001b[33min-medium\u001b[39m\u001b[33m'\u001b[39m: in_medium,\n\u001b[32m     42\u001b[39m     \u001b[33m'\u001b[39m\u001b[33mname\u001b[39m\u001b[33m'\u001b[39m: \u001b[38;5;28mself\u001b[39m.ns[\u001b[33mf\u001b[39m\u001b[33m'\u001b[39m\u001b[38;5;132;01m{\u001b[39;00mequip_name\u001b[38;5;132;01m}\u001b[39;00m\u001b[33m'\u001b[39m],\n\u001b[32m     43\u001b[39m     \u001b[33m'\u001b[39m\u001b[33mout\u001b[39m\u001b[33m'\u001b[39m: \u001b[38;5;28mself\u001b[39m.ns[\u001b[33mf\u001b[39m\u001b[33m'\u001b[39m\u001b[38;5;132;01m{\u001b[39;00mequip_name\u001b[38;5;132;01m}\u001b[39;00m\u001b[33m-out\u001b[39m\u001b[33m'\u001b[39m],\n\u001b[32m     44\u001b[39m     \u001b[33m'\u001b[39m\u001b[33mout-medium\u001b[39m\u001b[33m'\u001b[39m: out_medium,\n\u001b[32m     45\u001b[39m     }\n\u001b[32m     46\u001b[39m     \u001b[38;5;28;01mif\u001b[39;00m role:\n",
      "\u001b[36mFile \u001b[39m\u001b[32m~/miniconda3/lib/python3.12/site-packages/buildingmotif/dataclasses/library.py:608\u001b[39m, in \u001b[36mLibrary.get_template_by_name\u001b[39m\u001b[34m(self, name)\u001b[39m\n\u001b[32m    599\u001b[39m \u001b[38;5;28;01mdef\u001b[39;00m\u001b[38;5;250m \u001b[39m\u001b[34mget_template_by_name\u001b[39m(\u001b[38;5;28mself\u001b[39m, name: \u001b[38;5;28mstr\u001b[39m) -> Template:\n\u001b[32m    600\u001b[39m \u001b[38;5;250m    \u001b[39m\u001b[33;03m\"\"\"Get template by name from library.\u001b[39;00m\n\u001b[32m    601\u001b[39m \n\u001b[32m    602\u001b[39m \u001b[33;03m    :param name: template name\u001b[39;00m\n\u001b[32m   (...)\u001b[39m\u001b[32m    606\u001b[39m \u001b[33;03m    :rtype: Template\u001b[39;00m\n\u001b[32m    607\u001b[39m \u001b[33;03m    \"\"\"\u001b[39;00m\n\u001b[32m--> \u001b[39m\u001b[32m608\u001b[39m     dbt = \u001b[38;5;28;43mself\u001b[39;49m\u001b[43m.\u001b[49m\u001b[43m_bm\u001b[49m\u001b[43m.\u001b[49m\u001b[43mtable_connection\u001b[49m\u001b[43m.\u001b[49m\u001b[43mget_db_template_by_name\u001b[49m\u001b[43m(\u001b[49m\u001b[43mname\u001b[49m\u001b[43m)\u001b[49m\n\u001b[32m    609\u001b[39m     \u001b[38;5;28;01mif\u001b[39;00m dbt.library_id != \u001b[38;5;28mself\u001b[39m._id:\n\u001b[32m    610\u001b[39m         \u001b[38;5;28;01mraise\u001b[39;00m \u001b[38;5;167;01mValueError\u001b[39;00m(\u001b[33mf\u001b[39m\u001b[33m\"\u001b[39m\u001b[33mTemplate \u001b[39m\u001b[38;5;132;01m{\u001b[39;00mname\u001b[38;5;132;01m}\u001b[39;00m\u001b[33m not in library \u001b[39m\u001b[38;5;132;01m{\u001b[39;00m\u001b[38;5;28mself\u001b[39m._name\u001b[38;5;132;01m}\u001b[39;00m\u001b[33m\"\u001b[39m)\n",
      "\u001b[36mFile \u001b[39m\u001b[32m~/miniconda3/lib/python3.12/site-packages/buildingmotif/database/table_connection.py:337\u001b[39m, in \u001b[36mTableConnection.get_db_template_by_name\u001b[39m\u001b[34m(self, name)\u001b[39m\n\u001b[32m    333\u001b[39m     db_template = (\n\u001b[32m    334\u001b[39m         \u001b[38;5;28mself\u001b[39m.bm.session.query(DBTemplate).filter(DBTemplate.name == name).one()\n\u001b[32m    335\u001b[39m     )\n\u001b[32m    336\u001b[39m \u001b[38;5;28;01mexcept\u001b[39;00m NoResultFound:\n\u001b[32m--> \u001b[39m\u001b[32m337\u001b[39m     \u001b[38;5;28;01mraise\u001b[39;00m TemplateNotFound(name=name)\n\u001b[32m    338\u001b[39m \u001b[38;5;28;01mreturn\u001b[39;00m db_template\n",
      "\u001b[31mTemplateNotFound\u001b[39m: Name: junction"
     ]
    }
   ],
   "source": [
    "# TODO: how do we want to represent dosing points?\n",
    "chlorine_dosing_point = builder.create_equipment('chlorine-dose-point', 'junction', role = S223['Role-Supply'])\n",
    "builder.connect_equipment(uv_outlet_valve, chlorine_dosing_point)\n",
    "chlorine_dosing_pump = builder.create_equipment('chlorine-dosing-tank', 'tank', role = S223['Role-Supply'])\n",
    "chlorine_dosing_pump_props = builder.add_properties(chlorine_dosing_pump['out'], ['flow-rate', 'speed-command'], ['93', '67'])\n",
    "builder.connect_equipment(chlorine_dosing_pump, chlorine_dosing_point)\n",
    "# TODO: is S223['Role-Supply'] necessary? Is there a better role than 'tank' for a contact chamber?\n",
    "chlorine_contactor = builder.create_equipment('chlorine-contactor', 'tank', role = S223['Role-Supply'])\n",
    "effluent_valve = builder.create_equipment('potable-effluent-valve', 'valve')\n",
    "effluent_pipe = builder.connect_equipment(chlorine_contactor, effluent_valve)\n",
    "# TODO: effluent pressure indicator (PI / eff) does not have a column number\n",
    "effluent_pipe_props = builder.add_properties(effluent_pipe['name'], ['toc-ppm', 'toc-ppm', 'ph', 'turbidity', 'cl2-mgL'], [75, 46, 39, 35, 37])"
   ]
  },
  {
   "cell_type": "code",
   "execution_count": 13,
   "metadata": {},
   "outputs": [
    {
     "data": {
      "text/plain": [
       "<Graph identifier=cc69fdc3-0618-43f7-a53a-0d1d14f4a1cc (<class 'rdflib.graph.Graph'>)>"
      ]
     },
     "execution_count": 13,
     "metadata": {},
     "output_type": "execute_result"
    }
   ],
   "source": [
    "builder.graph.serialize(\"disinfect-model.ttl\", format=\"turtle\")"
   ]
  },
  {
   "cell_type": "code",
   "execution_count": null,
   "metadata": {},
   "outputs": [],
   "source": []
  }
 ],
 "metadata": {
  "kernelspec": {
   "display_name": "base",
   "language": "python",
   "name": "python3"
  },
  "language_info": {
   "codemirror_mode": {
    "name": "ipython",
    "version": 3
   },
   "file_extension": ".py",
   "mimetype": "text/x-python",
   "name": "python",
   "nbconvert_exporter": "python",
   "pygments_lexer": "ipython3",
   "version": "3.12.4"
  },
  "orig_nbformat": 4,
  "vscode": {
   "interpreter": {
    "hash": "aae2058fbbcc30b768a4952a8eab23e440b837eb270e8c38607884e29a09b85f"
   }
  }
 },
 "nbformat": 4,
 "nbformat_minor": 2
}
