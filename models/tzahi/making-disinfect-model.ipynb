{
 "cells": [
  {
   "cell_type": "code",
   "execution_count": 1,
   "metadata": {},
   "outputs": [],
   "source": [
    "from rdflib import Namespace, Graph, Literal, URIRef\n",
    "import re\n",
    "from buildingmotif import BuildingMOTIF\n",
    "from buildingmotif.dataclasses import Library, Model\n",
    "from buildingmotif.namespaces import bind_prefixes\n",
    "from buildingmotif.model_builder import TemplateBuilderContext\n",
    "import os \n",
    "import sys \n",
    "# %%\n",
    "# setup our buildingmotif instance\n",
    "bm = BuildingMOTIF(\"sqlite://\")\n",
    "\n",
    "# create the model w/ a namespace\n",
    "WBS = Namespace(\"urn:ex/\")\n",
    "S223 = Namespace(\"http://data.ashrae.org/standard223#\")\n",
    "wbs = Model.create(WBS)\n",
    "bind_prefixes(wbs.graph)\n",
    "wbs.graph.bind(\"wbs\", WBS)\n",
    "wbs.graph.bind(\"s223\", S223)\n",
    "wbs.graph.bind(\"nawi\", Namespace(\"urn:nawi-water-ontology#\"))\n",
    "things = []"
   ]
  },
  {
   "cell_type": "code",
   "execution_count": 2,
   "metadata": {},
   "outputs": [],
   "source": [
    "sys.path.append('..')\n",
    "from utils import * # ModelBuilder and vars"
   ]
  },
  {
   "cell_type": "code",
   "execution_count": 3,
   "metadata": {},
   "outputs": [
    {
     "name": "stderr",
     "output_type": "stream",
     "text": [
      "/Users/fletch/Applications/miniconda3/lib/python3.10/site-packages/pyshacl/extras/__init__.py:46: Warning: Extra \"js\" is not satisfied because requirement pyduktape2 is not installed.\n",
      "  warn(Warning(f\"Extra \\\"{extra_name}\\\" is not satisfied because requirement {req} is not installed.\"))\n",
      "2025-06-03 15:41:19,192 | root |  WARNING: An ontology could not resolve a dependency on http://data.ashrae.org/standard223/1.0/vocab/enumeration (No row was found when one was required). Check this is loaded into BuildingMOTIF\n",
      "2025-06-03 15:41:19,193 | root |  WARNING: An ontology could not resolve a dependency on http://qudt.org/2.1/vocab/constant (No row was found when one was required). Check this is loaded into BuildingMOTIF\n",
      "2025-06-03 15:41:19,193 | root |  WARNING: An ontology could not resolve a dependency on http://www.w3.org/ns/shacl# (No row was found when one was required). Check this is loaded into BuildingMOTIF\n",
      "2025-06-03 15:41:19,194 | root |  WARNING: An ontology could not resolve a dependency on http://data.ashrae.org/standard223/1.0/extensions/settings (No row was found when one was required). Check this is loaded into BuildingMOTIF\n",
      "2025-06-03 15:41:19,195 | root |  WARNING: An ontology could not resolve a dependency on http://qudt.org/2.1/vocab/currency (No row was found when one was required). Check this is loaded into BuildingMOTIF\n",
      "2025-06-03 15:41:19,195 | root |  WARNING: An ontology could not resolve a dependency on http://qudt.org/2.1/vocab/unit (No row was found when one was required). Check this is loaded into BuildingMOTIF\n",
      "2025-06-03 15:41:19,196 | root |  WARNING: An ontology could not resolve a dependency on http://data.ashrae.org/standard223/1.0/model/core (No row was found when one was required). Check this is loaded into BuildingMOTIF\n",
      "2025-06-03 15:41:19,197 | root |  WARNING: An ontology could not resolve a dependency on http://data.ashrae.org/standard223/1.0/model/equipment (No row was found when one was required). Check this is loaded into BuildingMOTIF\n"
     ]
    },
    {
     "data": {
      "text/plain": [
       "[Template(_id=1, _name='brine', body=<Graph identifier=556cc678-ee1a-4a62-9ed5-1ef725ff909f (<class 'rdflib.graph.Graph'>)>, optional_args=['constituent-salt', 'constituent-water'], _bm=<buildingmotif.building_motif.building_motif.BuildingMOTIF object at 0x1039d1ea0>),\n",
       " Template(_id=2, _name='constituent-salt', body=<Graph identifier=56a659c4-ac3d-4f72-b349-96530081c975 (<class 'rdflib.graph.Graph'>)>, optional_args=[], _bm=<buildingmotif.building_motif.building_motif.BuildingMOTIF object at 0x1039d1ea0>),\n",
       " Template(_id=3, _name='constituent-water', body=<Graph identifier=a3dbf37f-a34d-43e1-b225-43b206b9f576 (<class 'rdflib.graph.Graph'>)>, optional_args=[], _bm=<buildingmotif.building_motif.building_motif.BuildingMOTIF object at 0x1039d1ea0>),\n",
       " Template(_id=4, _name='ph', body=<Graph identifier=4facf1aa-a440-469b-94b4-ea9f110eef13 (<class 'rdflib.graph.Graph'>)>, optional_args=[], _bm=<buildingmotif.building_motif.building_motif.BuildingMOTIF object at 0x1039d1ea0>),\n",
       " Template(_id=5, _name='pressure', body=<Graph identifier=2e60e324-5467-4f7f-9ece-02e0815dd62f (<class 'rdflib.graph.Graph'>)>, optional_args=[], _bm=<buildingmotif.building_motif.building_motif.BuildingMOTIF object at 0x1039d1ea0>),\n",
       " Template(_id=6, _name='conductivity', body=<Graph identifier=78b86119-a205-43c7-a1ac-e40f073bdaf5 (<class 'rdflib.graph.Graph'>)>, optional_args=[], _bm=<buildingmotif.building_motif.building_motif.BuildingMOTIF object at 0x1039d1ea0>),\n",
       " Template(_id=7, _name='temperature', body=<Graph identifier=645e6889-861a-4a78-b585-15117d128bc5 (<class 'rdflib.graph.Graph'>)>, optional_args=[], _bm=<buildingmotif.building_motif.building_motif.BuildingMOTIF object at 0x1039d1ea0>),\n",
       " Template(_id=8, _name='flow-rate', body=<Graph identifier=69091d31-1d1b-48f6-82e5-0e5b54057dd4 (<class 'rdflib.graph.Graph'>)>, optional_args=[], _bm=<buildingmotif.building_motif.building_motif.BuildingMOTIF object at 0x1039d1ea0>),\n",
       " Template(_id=9, _name='opening-ratio', body=<Graph identifier=88916e2d-3501-4c49-98bd-c28938f6486c (<class 'rdflib.graph.Graph'>)>, optional_args=[], _bm=<buildingmotif.building_motif.building_motif.BuildingMOTIF object at 0x1039d1ea0>),\n",
       " Template(_id=10, _name='opening-command', body=<Graph identifier=d1710547-2a9e-4d2f-bbdd-8693ad35d20b (<class 'rdflib.graph.Graph'>)>, optional_args=[], _bm=<buildingmotif.building_motif.building_motif.BuildingMOTIF object at 0x1039d1ea0>),\n",
       " Template(_id=11, _name='on-off-command', body=<Graph identifier=0ac2ead3-e78d-4bad-8688-f862723556a5 (<class 'rdflib.graph.Graph'>)>, optional_args=[], _bm=<buildingmotif.building_motif.building_motif.BuildingMOTIF object at 0x1039d1ea0>),\n",
       " Template(_id=12, _name='speed-command', body=<Graph identifier=16790c9a-51b2-4462-9a34-bbc046b7e26e (<class 'rdflib.graph.Graph'>)>, optional_args=[], _bm=<buildingmotif.building_motif.building_motif.BuildingMOTIF object at 0x1039d1ea0>),\n",
       " Template(_id=13, _name='volume', body=<Graph identifier=baaf5177-5659-40dc-b269-5c35619def4d (<class 'rdflib.graph.Graph'>)>, optional_args=[], _bm=<buildingmotif.building_motif.building_motif.BuildingMOTIF object at 0x1039d1ea0>),\n",
       " Template(_id=14, _name='electric-current', body=<Graph identifier=389eddc7-507d-453b-b6b2-2e7d5e574b83 (<class 'rdflib.graph.Graph'>)>, optional_args=[], _bm=<buildingmotif.building_motif.building_motif.BuildingMOTIF object at 0x1039d1ea0>),\n",
       " Template(_id=15, _name='status', body=<Graph identifier=12495a4f-b22c-47a1-b886-305eab18039e (<class 'rdflib.graph.Graph'>)>, optional_args=[], _bm=<buildingmotif.building_motif.building_motif.BuildingMOTIF object at 0x1039d1ea0>),\n",
       " Template(_id=16, _name='turbidity', body=<Graph identifier=81d4e549-f99a-443f-a588-14ff0277ffeb (<class 'rdflib.graph.Graph'>)>, optional_args=[], _bm=<buildingmotif.building_motif.building_motif.BuildingMOTIF object at 0x1039d1ea0>),\n",
       " Template(_id=17, _name='toc-ppm', body=<Graph identifier=8fdfbc29-c812-4506-bacd-32b5f5f9b9ab (<class 'rdflib.graph.Graph'>)>, optional_args=[], _bm=<buildingmotif.building_motif.building_motif.BuildingMOTIF object at 0x1039d1ea0>),\n",
       " Template(_id=18, _name='cl2-mgL', body=<Graph identifier=d7c94962-b7a2-4b56-b387-abfadbe82146 (<class 'rdflib.graph.Graph'>)>, optional_args=[], _bm=<buildingmotif.building_motif.building_motif.BuildingMOTIF object at 0x1039d1ea0>),\n",
       " Template(_id=19, _name='inlet-cp', body=<Graph identifier=f0e8ec3c-0932-4d68-bd95-395c9139c0b1 (<class 'rdflib.graph.Graph'>)>, optional_args=['mapsto'], _bm=<buildingmotif.building_motif.building_motif.BuildingMOTIF object at 0x1039d1ea0>),\n",
       " Template(_id=20, _name='outlet-cp', body=<Graph identifier=449435db-25a7-4366-a2c8-10370eb720f7 (<class 'rdflib.graph.Graph'>)>, optional_args=['mapsto'], _bm=<buildingmotif.building_motif.building_motif.BuildingMOTIF object at 0x1039d1ea0>),\n",
       " Template(_id=21, _name='bidirectional-cp', body=<Graph identifier=a53d260d-cd1d-4e00-a328-8ee0aa44e28e (<class 'rdflib.graph.Graph'>)>, optional_args=['mapsto'], _bm=<buildingmotif.building_motif.building_motif.BuildingMOTIF object at 0x1039d1ea0>),\n",
       " Template(_id=22, _name='pipe', body=<Graph identifier=eb2bca4b-70e1-42d9-b329-681b3e718056 (<class 'rdflib.graph.Graph'>)>, optional_args=[], _bm=<buildingmotif.building_motif.building_motif.BuildingMOTIF object at 0x1039d1ea0>),\n",
       " Template(_id=23, _name='junction', body=<Graph identifier=a80cb2ef-5c37-40e2-9899-af11f4dc943b (<class 'rdflib.graph.Graph'>)>, optional_args=['in1', 'in2', 'out1', 'out2'], _bm=<buildingmotif.building_motif.building_motif.BuildingMOTIF object at 0x1039d1ea0>),\n",
       " Template(_id=24, _name='tank', body=<Graph identifier=700872d6-3f49-4c8c-8f68-73b810e4a7bb (<class 'rdflib.graph.Graph'>)>, optional_args=['role', 'bi-cp', 'in', 'out'], _bm=<buildingmotif.building_motif.building_motif.BuildingMOTIF object at 0x1039d1ea0>),\n",
       " Template(_id=25, _name='bladder', body=<Graph identifier=7f6198e4-ae5f-4573-8795-9fc268e4607c (<class 'rdflib.graph.Graph'>)>, optional_args=['role'], _bm=<buildingmotif.building_motif.building_motif.BuildingMOTIF object at 0x1039d1ea0>),\n",
       " Template(_id=26, _name='valve', body=<Graph identifier=c1bcb7f2-e19d-4009-92e4-c541419ab9ad (<class 'rdflib.graph.Graph'>)>, optional_args=['role'], _bm=<buildingmotif.building_motif.building_motif.BuildingMOTIF object at 0x1039d1ea0>),\n",
       " Template(_id=27, _name='filter', body=<Graph identifier=d269a7c3-f26b-438c-84bf-cca5dcadbcef (<class 'rdflib.graph.Graph'>)>, optional_args=['role'], _bm=<buildingmotif.building_motif.building_motif.BuildingMOTIF object at 0x1039d1ea0>),\n",
       " Template(_id=28, _name='membrane', body=<Graph identifier=920cf98e-c87a-464f-8084-6199a2e90b4e (<class 'rdflib.graph.Graph'>)>, optional_args=['role'], _bm=<buildingmotif.building_motif.building_motif.BuildingMOTIF object at 0x1039d1ea0>),\n",
       " Template(_id=29, _name='membrane-module', body=<Graph identifier=11718c15-f18e-4528-82ae-a26aa7236ae1 (<class 'rdflib.graph.Graph'>)>, optional_args=['role'], _bm=<buildingmotif.building_motif.building_motif.BuildingMOTIF object at 0x1039d1ea0>),\n",
       " Template(_id=30, _name='pump', body=<Graph identifier=6a54d3c0-e739-44b9-9d38-f28c6e50ebef (<class 'rdflib.graph.Graph'>)>, optional_args=['role'], _bm=<buildingmotif.building_motif.building_motif.BuildingMOTIF object at 0x1039d1ea0>),\n",
       " Template(_id=31, _name='check-valve', body=<Graph identifier=ce33cadd-a155-42be-a021-c52e3b9a849f (<class 'rdflib.graph.Graph'>)>, optional_args=['role'], _bm=<buildingmotif.building_motif.building_motif.BuildingMOTIF object at 0x1039d1ea0>),\n",
       " Template(_id=32, _name='vfd', body=<Graph identifier=0b554b95-b6fc-40e1-b54f-0dba4b54c36d (<class 'rdflib.graph.Graph'>)>, optional_args=['role'], _bm=<buildingmotif.building_motif.building_motif.BuildingMOTIF object at 0x1039d1ea0>),\n",
       " Template(_id=33, _name='pump-with-vfd', body=<Graph identifier=d8e0ca57-a354-4c91-89af-36fa40e72487 (<class 'rdflib.graph.Graph'>)>, optional_args=[], _bm=<buildingmotif.building_motif.building_motif.BuildingMOTIF object at 0x1039d1ea0>),\n",
       " Template(_id=34, _name='controller', body=<Graph identifier=fa52e7e9-b4b2-4187-a738-062c3c91b5dd (<class 'rdflib.graph.Graph'>)>, optional_args=[], _bm=<buildingmotif.building_motif.building_motif.BuildingMOTIF object at 0x1039d1ea0>),\n",
       " Template(_id=35, _name='uf-unit', body=<Graph identifier=3ab3c96b-fdb7-493e-92c4-affda1ad071e (<class 'rdflib.graph.Graph'>)>, optional_args=['role'], _bm=<buildingmotif.building_motif.building_motif.BuildingMOTIF object at 0x1039d1ea0>),\n",
       " Template(_id=36, _name='uv-reactor', body=<Graph identifier=d5d377e0-c59d-4225-a622-d888ee5fd786 (<class 'rdflib.graph.Graph'>)>, optional_args=['role'], _bm=<buildingmotif.building_motif.building_motif.BuildingMOTIF object at 0x1039d1ea0>),\n",
       " Template(_id=37, _name='contact-chamber', body=<Graph identifier=712d6efa-2913-43a6-815d-9380ff802bb5 (<class 'rdflib.graph.Graph'>)>, optional_args=['role'], _bm=<buildingmotif.building_motif.building_motif.BuildingMOTIF object at 0x1039d1ea0>)]"
      ]
     },
     "execution_count": 3,
     "metadata": {},
     "output_type": "execute_result"
    }
   ],
   "source": [
    "# %%\n",
    "templates = Library.load(directory='../templates')\n",
    "s223 = Library.load(ontology_graph=\"../../s223/collections/MODEL_SP223_all-v1.0.ttl\")\n",
    "templates.get_templates()"
   ]
  },
  {
   "cell_type": "code",
   "execution_count": 4,
   "metadata": {},
   "outputs": [],
   "source": [
    "builder = ModelBuilder(ns = WBS, bm_instance= wbs, templates = templates)"
   ]
  },
  {
   "cell_type": "code",
   "execution_count": 5,
   "metadata": {},
   "outputs": [
    {
     "name": "stdout",
     "output_type": "stream",
     "text": [
      "EQUIP HAS ALL NEEDED PROPERTIES:  h2o2-tank\n",
      "EQUIP HAS ALL NEEDED PROPERTIES:  h2o2-pump\n",
      "EQUIP HAS ALL NEEDED PROPERTIES:  lpuv-bypass-valve\n",
      "CP HAS ALL NEEDED PROPERTIES:  urn:ex/lpuv-bypass-valve-outlet-cp\n",
      "EQUIP HAS ALL NEEDED PROPERTIES:  lpuv-1\n",
      "EQUIP HAS ALL NEEDED PROPERTIES:  lpuv-2\n",
      "EQUIP HAS ALL NEEDED PROPERTIES:  lpuv-3\n",
      "EQUIP HAS ALL NEEDED PROPERTIES:  uv-led\n",
      "EQUIP HAS ALL NEEDED PROPERTIES:  uv-out-valve\n",
      "CP HAS ALL NEEDED PROPERTIES:  urn:ex/uv-out-valve-inlet-cp\n"
     ]
    },
    {
     "data": {
      "text/plain": [
       "{'in': rdflib.term.URIRef('urn:ex/uv-led-out'),\n",
       " 'out': rdflib.term.URIRef('urn:ex/uv-out-valve-inlet-cp'),\n",
       " 'name': rdflib.term.URIRef('urn:ex/conn-uv-led-to-uv-out-valve')}"
      ]
     },
     "execution_count": 5,
     "metadata": {},
     "output_type": "execute_result"
    }
   ],
   "source": [
    "# TODO: how to add column 53, \"GAC-UVT (%)\" between GAC and UV system?\n",
    "h2o2_tank = builder.create_equipment('h2o2-tank', 'tank', role=S223['Role-Supply'])\n",
    "h2o2_dosing_pump = builder.create_equipment('h2o2-pump', 'pump', role=S223['Role-Supply'])\n",
    "builder.connect_equipment(h2o2_tank, h2o2_dosing_pump)\n",
    "h2o2_dosing_pump_props = builder.add_properties(h2o2_dosing_pump['name'], ['status', 'flow-rate', 'speed-command'], ['145', '94', '68'])\n",
    "lpuv_bypass_valve = builder.create_equipment('lpuv-bypass-valve', 'valve')\n",
    "builder.connect_equipment(h2o2_dosing_pump, lpuv_bypass_valve)\n",
    "lpuv_bypass_outlet = builder.add_connection_point(lpuv_bypass_valve, 'outlet-cp')\n",
    "# TODO: should low pressure UV be a subclass of standard UV reactor? Right now all 4 are the same class\n",
    "lpuv_reactor_1 = builder.create_equipment('lpuv-1', 'uv-reactor')\n",
    "# TODO: column 26 is \"GAC-C3 Flow (GPM)\", which doesn't seem to match the LPUV reactor...\n",
    "# lpuv_reactor_1_props = builder.add_properties(lpuv_reactor_1['name'], ['status'], ['26'])\n",
    "lpuv_reactor_2 = builder.create_equipment('lpuv-2', 'uv-reactor')\n",
    "lpuv_reactor_2_props = builder.add_properties(lpuv_reactor_2['name'], ['status'], ['141']) #, '107'])\n",
    "lpuv_reactor_3 = builder.create_equipment('lpuv-3', 'uv-reactor')\n",
    "# TODO: column 107 is \"SCADA Enclosure Door\", which doesn't seem to match the LPUV reactor...\n",
    "# lpuv_reactor_3_props = builder.add_properties(lpuv_reactor_1['name'], ['status'], ['107'])\n",
    "lpuv_1_to_2 = builder.connect_equipment(lpuv_reactor_1, lpuv_reactor_2)\n",
    "lpuv_2_to_3 = builder.connect_equipment(lpuv_reactor_2, lpuv_reactor_3)\n",
    "# TODO: On / Off and LED % do not have a column numbers\n",
    "uv_led_reactor = builder.create_equipment('uv-led', 'uv-reactor')\n",
    "builder.connect_equipment(lpuv_bypass_valve, uv_led_reactor, source_cp=lpuv_bypass_outlet)\n",
    "uv_outlet_valve = builder.create_equipment('uv-out-valve', 'valve')\n",
    "builder.connect_equipment(lpuv_reactor_3, uv_outlet_valve)\n",
    "uv_led_outlet = builder.add_connection_point(uv_outlet_valve, 'inlet-cp')\n",
    "builder.connect_equipment(uv_led_reactor, uv_outlet_valve, target_cp=uv_led_outlet)"
   ]
  },
  {
   "cell_type": "code",
   "execution_count": 6,
   "metadata": {},
   "outputs": [
    {
     "name": "stdout",
     "output_type": "stream",
     "text": [
      "EQUIP HAS ALL NEEDED PROPERTIES:  chlorine-dose-point\n",
      "EQUIP HAS ALL NEEDED PROPERTIES:  chlorine-tank\n",
      "EQUIP HAS ALL NEEDED PROPERTIES:  chlorine-pump\n",
      "EQUIP HAS ALL NEEDED PROPERTIES:  chlorine-contactor\n",
      "EQUIP HAS ALL NEEDED PROPERTIES:  potable-effluent-valve\n"
     ]
    }
   ],
   "source": [
    "# TODO: how do we want to represent dosing points?\n",
    "chlorine_dosing_point = builder.create_equipment(\n",
    "    'chlorine-dose-point', \n",
    "    'junction', \n",
    "    optional_dict={'in1': 'dose-inlet', 'in2': 'uv-inlet', 'out1': 'chlorine-dose-out', 'medium': S223['Medium-Chlorine']}\n",
    ")\n",
    "builder.connect_equipment(uv_outlet_valve, chlorine_dosing_point)\n",
    "chlorine_tank = builder.create_equipment('chlorine-tank', 'tank', role=S223['Role-Supply'])\n",
    "chlorine_pump = builder.create_equipment('chlorine-pump', 'tank', role=S223['Role-Supply'])\n",
    "builder.connect_equipment(chlorine_tank, chlorine_pump)\n",
    "chlorine_pump_props = builder.add_properties(chlorine_pump['out'], ['flow-rate', 'speed-command'], ['93', '67'])\n",
    "builder.connect_equipment(chlorine_pump, chlorine_dosing_point)\n",
    "chlorine_contactor = builder.create_equipment('chlorine-contactor', 'contact-chamber')\n",
    "builder.connect_equipment(chlorine_dosing_point, chlorine_contactor)\n",
    "effluent_valve = builder.create_equipment('potable-effluent-valve', 'valve')\n",
    "effluent_pipe = builder.connect_equipment(chlorine_contactor, effluent_valve)\n",
    "# TODO: effluent pressure indicator (PI / eff) does not have a column number\n",
    "# Note: omitted column 46 since that is the Multi-TOC. I.e., the TOC measurement from different sampling points combined\n",
    "effluent_pipe_props = builder.add_properties(effluent_pipe['name'], ['toc-ppm', 'ph', 'turbidity', 'cl2-mgL'], [75, 39, 35, 37])"
   ]
  },
  {
   "cell_type": "code",
   "execution_count": 7,
   "metadata": {},
   "outputs": [
    {
     "data": {
      "text/plain": [
       "<Graph identifier=b0974079-e049-4354-8a57-82c71fd749d5 (<class 'rdflib.graph.Graph'>)>"
      ]
     },
     "execution_count": 7,
     "metadata": {},
     "output_type": "execute_result"
    }
   ],
   "source": [
    "builder.graph.serialize(\"disinfect-model.ttl\", format=\"turtle\")"
   ]
  },
  {
   "cell_type": "code",
   "execution_count": null,
   "metadata": {},
   "outputs": [],
   "source": []
  }
 ],
 "metadata": {
  "kernelspec": {
   "display_name": "base",
   "language": "python",
   "name": "python3"
  },
  "language_info": {
   "codemirror_mode": {
    "name": "ipython",
    "version": 3
   },
   "file_extension": ".py",
   "mimetype": "text/x-python",
   "name": "python",
   "nbconvert_exporter": "python",
   "pygments_lexer": "ipython3",
   "version": "3.10.10"
  },
  "orig_nbformat": 4,
  "vscode": {
   "interpreter": {
    "hash": "aae2058fbbcc30b768a4952a8eab23e440b837eb270e8c38607884e29a09b85f"
   }
  }
 },
 "nbformat": 4,
 "nbformat_minor": 2
}
