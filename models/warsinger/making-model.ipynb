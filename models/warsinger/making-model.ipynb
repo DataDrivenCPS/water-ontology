{
 "cells": [
  {
   "cell_type": "code",
   "execution_count": 1,
   "metadata": {},
   "outputs": [],
   "source": [
    "from rdflib import Namespace, Graph, Literal, URIRef\n",
    "import re\n",
    "from buildingmotif import BuildingMOTIF\n",
    "from buildingmotif.dataclasses import Library, Model\n",
    "from buildingmotif.namespaces import bind_prefixes"
   ]
  },
  {
   "cell_type": "code",
   "execution_count": 2,
   "metadata": {},
   "outputs": [],
   "source": [
    "# setup our buildingmotif instance\n",
    "bm = BuildingMOTIF(\"sqlite://\")\n",
    "\n",
    "# create the model w/ a namespace\n",
    "WBS = Namespace(\"urn:ex/\")\n",
    "S223 = Namespace(\"http://data.ashrae.org/standard223#\")\n",
    "wbs = Model.create(WBS)\n",
    "bind_prefixes(wbs.graph)\n",
    "wbs.graph.bind(\"wbs\", WBS)\n",
    "wbs.graph.bind(\"s223\", S223)\n",
    "\n",
    "things = []"
   ]
  },
  {
   "cell_type": "code",
   "execution_count": 3,
   "metadata": {},
   "outputs": [],
   "source": [
    "templates = Library.load(directory='../warsinger/templates')\n",
    "s223 = Library.load(ontology_graph=\"../../s223/collections/MODEL_SP223_all-v1.0.ttl\")"
   ]
  },
  {
   "cell_type": "code",
   "execution_count": 4,
   "metadata": {},
   "outputs": [
    {
     "data": {
      "text/plain": [
       "[Template(_id=1, _name='brine', body=<Graph identifier=eb3e8c2b-16a8-4e9e-ae03-42385b1f5079 (<class 'rdflib.graph.Graph'>)>, optional_args=['constituent-salt', 'constituent-water'], _bm=<buildingmotif.building_motif.building_motif.BuildingMOTIF object at 0x114a02d80>),\n",
       " Template(_id=2, _name='constituent-salt', body=<Graph identifier=de183392-b41b-4c55-9ac1-153d839f4f26 (<class 'rdflib.graph.Graph'>)>, optional_args=[], _bm=<buildingmotif.building_motif.building_motif.BuildingMOTIF object at 0x114a02d80>),\n",
       " Template(_id=3, _name='constituent-water', body=<Graph identifier=82cb7e5b-5e85-4a7a-92bf-add8953e9eea (<class 'rdflib.graph.Graph'>)>, optional_args=[], _bm=<buildingmotif.building_motif.building_motif.BuildingMOTIF object at 0x114a02d80>),\n",
       " Template(_id=4, _name='ph', body=<Graph identifier=9f8bc5d8-f97f-4865-93de-cea08a0c7ecb (<class 'rdflib.graph.Graph'>)>, optional_args=[], _bm=<buildingmotif.building_motif.building_motif.BuildingMOTIF object at 0x114a02d80>),\n",
       " Template(_id=5, _name='pressure', body=<Graph identifier=141c66bb-4f72-4ac4-a6b2-df9db9e7a04d (<class 'rdflib.graph.Graph'>)>, optional_args=[], _bm=<buildingmotif.building_motif.building_motif.BuildingMOTIF object at 0x114a02d80>),\n",
       " Template(_id=6, _name='conductivity', body=<Graph identifier=7ce8d764-fde6-4ecf-a1bb-eeaebc6c5f79 (<class 'rdflib.graph.Graph'>)>, optional_args=[], _bm=<buildingmotif.building_motif.building_motif.BuildingMOTIF object at 0x114a02d80>),\n",
       " Template(_id=7, _name='temperature', body=<Graph identifier=ad39781c-3616-49f7-8f68-a35548b605b5 (<class 'rdflib.graph.Graph'>)>, optional_args=[], _bm=<buildingmotif.building_motif.building_motif.BuildingMOTIF object at 0x114a02d80>),\n",
       " Template(_id=8, _name='flow-rate', body=<Graph identifier=8cd311f1-e052-4f07-9b62-37877b8b4137 (<class 'rdflib.graph.Graph'>)>, optional_args=[], _bm=<buildingmotif.building_motif.building_motif.BuildingMOTIF object at 0x114a02d80>),\n",
       " Template(_id=9, _name='opening-ratio', body=<Graph identifier=dd87c08d-3e53-41e1-a86c-ee29f429b71f (<class 'rdflib.graph.Graph'>)>, optional_args=[], _bm=<buildingmotif.building_motif.building_motif.BuildingMOTIF object at 0x114a02d80>),\n",
       " Template(_id=10, _name='on-off-command', body=<Graph identifier=c1b7d607-031e-4030-8471-9a1172a1415f (<class 'rdflib.graph.Graph'>)>, optional_args=[], _bm=<buildingmotif.building_motif.building_motif.BuildingMOTIF object at 0x114a02d80>),\n",
       " Template(_id=11, _name='speed-command', body=<Graph identifier=283ef3bf-1e70-453d-b6eb-0c9e65c8d3d7 (<class 'rdflib.graph.Graph'>)>, optional_args=[], _bm=<buildingmotif.building_motif.building_motif.BuildingMOTIF object at 0x114a02d80>),\n",
       " Template(_id=12, _name='inlet-cp', body=<Graph identifier=95a79aa9-89c5-486e-b32e-2b1afc88f7f9 (<class 'rdflib.graph.Graph'>)>, optional_args=['mapsto'], _bm=<buildingmotif.building_motif.building_motif.BuildingMOTIF object at 0x114a02d80>),\n",
       " Template(_id=13, _name='outlet-cp', body=<Graph identifier=f92044a8-9a35-4333-8b52-b53cb1d54b27 (<class 'rdflib.graph.Graph'>)>, optional_args=['mapsto'], _bm=<buildingmotif.building_motif.building_motif.BuildingMOTIF object at 0x114a02d80>),\n",
       " Template(_id=14, _name='bidirectional-cp', body=<Graph identifier=75d46c55-2919-44e6-9d0f-cff7c9b3b889 (<class 'rdflib.graph.Graph'>)>, optional_args=['mapsto'], _bm=<buildingmotif.building_motif.building_motif.BuildingMOTIF object at 0x114a02d80>),\n",
       " Template(_id=15, _name='pipe', body=<Graph identifier=a25b329f-b6b6-4b29-a616-c2510ed1c459 (<class 'rdflib.graph.Graph'>)>, optional_args=[], _bm=<buildingmotif.building_motif.building_motif.BuildingMOTIF object at 0x114a02d80>),\n",
       " Template(_id=16, _name='tank', body=<Graph identifier=9c5ed657-9967-42e7-8b74-aa3794dd3281 (<class 'rdflib.graph.Graph'>)>, optional_args=['role', 'bi-cp', 'in', 'out'], _bm=<buildingmotif.building_motif.building_motif.BuildingMOTIF object at 0x114a02d80>),\n",
       " Template(_id=17, _name='bladder', body=<Graph identifier=7f141e3e-079b-4b9c-ba2a-cf6d46080c50 (<class 'rdflib.graph.Graph'>)>, optional_args=['role'], _bm=<buildingmotif.building_motif.building_motif.BuildingMOTIF object at 0x114a02d80>),\n",
       " Template(_id=18, _name='valve', body=<Graph identifier=604efa58-d2b8-4652-944e-1c2b63cb15c3 (<class 'rdflib.graph.Graph'>)>, optional_args=['role'], _bm=<buildingmotif.building_motif.building_motif.BuildingMOTIF object at 0x114a02d80>),\n",
       " Template(_id=19, _name='filter', body=<Graph identifier=d7336d17-886c-462f-963e-4e33bba5a1d3 (<class 'rdflib.graph.Graph'>)>, optional_args=['role'], _bm=<buildingmotif.building_motif.building_motif.BuildingMOTIF object at 0x114a02d80>),\n",
       " Template(_id=20, _name='membrane', body=<Graph identifier=d90b59fb-122d-41b4-b9c5-c2a57bcefc7e (<class 'rdflib.graph.Graph'>)>, optional_args=['role'], _bm=<buildingmotif.building_motif.building_motif.BuildingMOTIF object at 0x114a02d80>),\n",
       " Template(_id=21, _name='membrane-module', body=<Graph identifier=7a308527-dce9-4552-9d81-942cb2d1d846 (<class 'rdflib.graph.Graph'>)>, optional_args=['role'], _bm=<buildingmotif.building_motif.building_motif.BuildingMOTIF object at 0x114a02d80>),\n",
       " Template(_id=22, _name='pump', body=<Graph identifier=1b024d11-4c4d-4a9e-900d-4befd7a1e5da (<class 'rdflib.graph.Graph'>)>, optional_args=['role'], _bm=<buildingmotif.building_motif.building_motif.BuildingMOTIF object at 0x114a02d80>),\n",
       " Template(_id=23, _name='check-valve', body=<Graph identifier=69e5fb1d-4162-4088-93f1-8206145bfc0a (<class 'rdflib.graph.Graph'>)>, optional_args=['role'], _bm=<buildingmotif.building_motif.building_motif.BuildingMOTIF object at 0x114a02d80>),\n",
       " Template(_id=24, _name='vfd', body=<Graph identifier=5c3a2b28-0a80-4ea7-a074-c6b4aa4f7a9d (<class 'rdflib.graph.Graph'>)>, optional_args=['role'], _bm=<buildingmotif.building_motif.building_motif.BuildingMOTIF object at 0x114a02d80>),\n",
       " Template(_id=25, _name='pump-with-vfd', body=<Graph identifier=603ebe71-7584-40b9-8638-f6d401ad1f50 (<class 'rdflib.graph.Graph'>)>, optional_args=[], _bm=<buildingmotif.building_motif.building_motif.BuildingMOTIF object at 0x114a02d80>),\n",
       " Template(_id=26, _name='controller', body=<Graph identifier=8d20093b-8df7-42c7-8b1c-dbe558f1b938 (<class 'rdflib.graph.Graph'>)>, optional_args=[], _bm=<buildingmotif.building_motif.building_motif.BuildingMOTIF object at 0x114a02d80>)]"
      ]
     },
     "execution_count": 4,
     "metadata": {},
     "output_type": "execute_result"
    }
   ],
   "source": [
    "templates.get_templates()"
   ]
  },
  {
   "cell_type": "code",
   "execution_count": 5,
   "metadata": {},
   "outputs": [],
   "source": [
    "tank_temp = templates.get_template_by_name('tank')\n",
    "filter_temp = templates.get_template_by_name('filter')\n",
    "pipe_temp = templates.get_template_by_name('pipe')\n",
    "bladder_temp = templates.get_template_by_name('bladder')\n",
    "membrane_module_temp = templates.get_template_by_name('membrane-module')\n",
    "pump_temp = templates.get_template_by_name('pump')\n",
    "valve_temp = templates.get_template_by_name('valve')\n",
    "check_valve_temp = templates.get_template_by_name('check-valve')"
   ]
  },
  {
   "cell_type": "code",
   "execution_count": 6,
   "metadata": {},
   "outputs": [],
   "source": [
    "membrane_module_temp = templates.get_template_by_name('membrane-module')"
   ]
  },
  {
   "cell_type": "code",
   "execution_count": 7,
   "metadata": {},
   "outputs": [],
   "source": [
    "a = membrane_module_temp.get_dependencies()[2]"
   ]
  },
  {
   "cell_type": "code",
   "execution_count": 8,
   "metadata": {},
   "outputs": [
    {
     "name": "stdout",
     "output_type": "stream",
     "text": [
      "WARNING: Automatically filling dependency for:  membrane\n"
     ]
    }
   ],
   "source": [
    "dependencies = membrane_module_temp.get_dependencies()\n",
    "for dep in dependencies:\n",
    "    # TODO: Shouldn't do this, only works for the simplest contained equipment e.g. membraine module\n",
    "    if dep.args['name'] not in (['in', 'out', 'role']):\n",
    "        print(\"WARNING: Automatically filling dependency for: \", dep.args['name'])\n",
    "    "
   ]
  },
  {
   "cell_type": "code",
   "execution_count": 9,
   "metadata": {},
   "outputs": [],
   "source": [
    "DEFAULT_MEDIUM = S223['Medium-Water']\n",
    "# this needs correcting\n",
    "CONTROL_MEDIUM = S223['Medium-Electricity']\n",
    "def remove_optional(graph):\n",
    "    # TODO: Probably not supposed to do this, how should I actually use templates and optional params?\n",
    "    # Probably a better way to compose templates - definitely for hasRole, not sure for mapsTo\n",
    "    # Works for this case, not where there are more things stemming from optional params, maybe should instead be done with template builder or removing dependencies? \n",
    "    graph.update('DELETE {wbs:delete ?p ?o} WHERE { wbs:delete ?p ?o . }')\n",
    "    graph.update('DELETE {?s ?p wbs:delete} WHERE { ?s ?p wbs:delete . }')\n",
    "\n",
    "def create_equipment(equip_name, equip_temp, optional_dict = {}, in_medium = DEFAULT_MEDIUM, out_medium = DEFAULT_MEDIUM, role = None):\n",
    "    equip_dict = {'in': WBS[f'{equip_name}-in'],\n",
    "    'in-medium': in_medium,\n",
    "    'name': WBS[f'{equip_name}'],\n",
    "    'out': WBS[f'{equip_name}-out'],\n",
    "    'out-medium': out_medium,\n",
    "    }\n",
    "    if role:\n",
    "        equip_dict['role'] = S223[role]\n",
    "\n",
    "    equip = equip_temp.inline_dependencies().evaluate(equip_dict)\n",
    "    if isinstance(equip, Graph):\n",
    "        print(\"EQUIP HAS ALL NEEDED PROPERTIES: \", equip_name)\n",
    "        equip_graph = equip\n",
    "    else:\n",
    "        print(\"DELETING TEMPLATE PARAMETERS: \", equip.parameters)\n",
    "        equip_graph = equip.evaluate({param: WBS['delete'] for param in equip.parameters})\n",
    "        remove_optional(equip_graph)\n",
    "    wbs.add_graph(equip_graph)\n",
    "    return equip_dict\n",
    "\n",
    "def connect_equipment(source_dict, target_dict, source_cp = 'out', target_cp = 'in', conn_temp = pipe_temp, all_relations = False):\n",
    "    # take dictionary of source_uri equipment and outlet equipment, and connect them\n",
    "    # Having source_cp and target_cp as dictionary keys may be confusing\n",
    "    source_uri = source_dict['name']\n",
    "    target_uri = target_dict['name']\n",
    "    source_cp_uri = source_dict[source_cp]\n",
    "    target_cp_uri = target_dict[target_cp]\n",
    "    connection_uri = WBS[f'conn-{get_uri_end(source_uri)}-to-{get_uri_end(target_uri)}']\n",
    "\n",
    "    conn_dict = {\n",
    "            'in': source_cp_uri,\n",
    "            'out': target_cp_uri,\n",
    "            'name': connection_uri\n",
    "        }\n",
    "    # Template doesn't actually rely on in and out, just keeping these names for consistency\n",
    "    conn_graph = conn_temp.inline_dependencies().evaluate(conn_dict)\n",
    "    # Just adding these so we can skip inference, all below programmatically added by inference rules\n",
    "    if all_relations:\n",
    "        # Top level connections\n",
    "        wbs.graph.add((source_uri, S223['connected'], target_uri))\n",
    "        wbs.graph.add((source_uri, S223['connectedTo'], target_uri))\n",
    "\n",
    "        # source_uri relationships\n",
    "        wbs.graph.add((source_uri, S223['hasConnectionPoint'], source_cp_uri))\n",
    "        wbs.graph.add((source_uri, S223['cnx'], source_cp_uri))\n",
    "        wbs.graph.add((source_cp_uri, S223['isConnectionPointOf'], source_uri))\n",
    "        wbs.graph.add((source_uri, S223['connectedThrough'], connection_uri))\n",
    "\n",
    "        # target_uri relationships\n",
    "        wbs.graph.add((target_uri, S223['hasConnectionPoint'], target_cp_uri))\n",
    "        wbs.graph.add((target_uri, S223['cnx'], target_cp_uri))\n",
    "        wbs.graph.add((target_cp_uri, S223['isConnectionPointOf'], target_uri))\n",
    "        wbs.graph.add((target_uri, S223['connectedThrough'], connection_uri))\n",
    "\n",
    "        # C relationships\n",
    "        wbs.graph.add((connection_uri, S223['connectsTo'], target_uri))\n",
    "        wbs.graph.add((connection_uri, S223['connectsFrom'], source_uri))\n",
    "        wbs.graph.add((connection_uri, S223['cnx'], target_cp_uri))\n",
    "        wbs.graph.add((connection_uri, S223['cnx'], source_cp_uri))\n",
    "\n",
    "        # Connection point relationships\n",
    "        wbs.graph.add((source_cp_uri, S223['connectsThrough'], connection_uri))\n",
    "        wbs.graph.add((source_cp_uri, S223['connectsAt'], connection_uri))\n",
    "        wbs.graph.add((target_cp_uri, S223['connectsThrough'], connection_uri))\n",
    "        wbs.graph.add((target_cp_uri, S223['connectsAt'], connection_uri))\n",
    "    wbs.add_graph(conn_graph)\n",
    "    return conn_dict\n",
    "def get_uri_end(uri_ref):\n",
    "    uri_str = str(uri_ref)\n",
    "    match = re.search(r'[^/#]+$', uri_str)\n",
    "    if match:\n",
    "        return match.group(0)\n",
    "    else:\n",
    "        print(\"No match found, providing empty string\")\n",
    "        return \"\"\n",
    "\n",
    "def get_unique_uri(uri):\n",
    "    base_uri = str(uri)\n",
    "    # I guess start at 2 since first ones are not numbered\n",
    "    count = 2\n",
    "    new_uri = URIRef(base_uri)\n",
    "    # Check if the URI already exists in the graph\n",
    "    while (new_uri, None, None) in wbs.graph or (None, None, new_uri) in wbs.graph:\n",
    "        # Append an incremented number if it already exists\n",
    "        new_uri = URIRef(f\"{base_uri}-{count}\")\n",
    "        count += 1\n",
    "    return new_uri\n",
    "\n",
    "def add_properties(target, property_names):\n",
    "    prop_dict = {prop: WBS[f\"{get_uri_end(target)}-{prop}\"] for prop in property_names}\n",
    "    for prop, prop_uri in prop_dict.items():\n",
    "        property = templates.get_template_by_name(prop).evaluate({'name': prop_uri})\n",
    "        wbs.add_graph(property)\n",
    "        wbs.graph.add((target, S223['hasProperty'], prop_uri))\n",
    "    return prop_dict\n",
    "\n",
    "def make_brine(salt_percent):\n",
    "    # Takes salt percent as percent value between 0-100\n",
    "    brine_temp = templates.get_template_by_name('brine')\n",
    "    brine_dict = {\n",
    "        'name': WBS[f'brine-{salt_percent}'],\n",
    "        'salt-value': Literal(salt_percent),\n",
    "        'salt-name': WBS[f'salt-{salt_percent}'],\n",
    "        'water-value': Literal(100 - salt_percent),\n",
    "        'water-name': WBS[f'water-{1-salt_percent}']\n",
    "    }\n",
    "    brine = brine_temp.inline_dependencies().evaluate(brine_dict)\n",
    "    wbs.add_graph(brine)\n",
    "    return brine_dict\n",
    "\n",
    "def add_connection_point(equip_dict, cp_type = 'inlet-cp', medium = DEFAULT_MEDIUM):\n",
    "    # could provide option to name point as input \n",
    "    name = get_unique_uri(WBS[f'{get_uri_end(equip_dict[\"name\"])}-{cp_type}'])\n",
    "\n",
    "    cp_dict = {\n",
    "        'name': name,\n",
    "        'medium': medium\n",
    "    }\n",
    "    cp_graph = templates.get_template_by_name(cp_type).inline_dependencies().evaluate(cp_dict)\n",
    "    if isinstance(cp_graph, Graph):\n",
    "        print(\"CP HAS ALL NEEDED PROPERTIES: \", name)\n",
    "        cp_graph = cp_graph\n",
    "    else:\n",
    "        print(\"DELETING TEMPLATE PARAMETERS: \", cp_graph.parameters)\n",
    "        cp_graph = cp_graph.evaluate({param: WBS['delete'] for param in cp_graph.parameters})\n",
    "        remove_optional(cp_graph)\n",
    "    wbs.add_graph(cp_graph)\n",
    "    wbs.graph.add((equip_dict['name'], S223['hasConnectionPoint'], cp_dict['name']))\n",
    "    wbs.graph.add((equip_dict['name'], S223['cnx'], cp_dict['name']))\n",
    "    \n",
    "    count = 1\n",
    "    equip_cp_key = cp_type\n",
    "    while equip_cp_key in equip_dict.keys():\n",
    "        equip_cp_key = f'{cp_type}-{count}'\n",
    "        count += 1\n",
    "    equip_dict[equip_cp_key] = name\n",
    "    return equip_cp_key\n",
    "\n",
    "def add_vfd_to_pump(equip_dict, control_medium = CONTROL_MEDIUM):\n",
    "    # Should be a controls medium, will update\n",
    "    # partly mapped arguments in template, should decide what to do about that\n",
    "    equip_dict.update({'vfd-name': get_unique_uri(WBS[f'{get_uri_end(equip_dict[\"name\"])}-vfd']), \n",
    "                        'pump-name': get_unique_uri(WBS[f'{get_uri_end(equip_dict[\"name\"])}-pump']), \n",
    "                        'elec-in': get_unique_uri(WBS[f'{get_uri_end(equip_dict[\"name\"])}-elec-in']),\n",
    "                        'elec-in-medium': control_medium,\n",
    "                        'pump-name-out-medium': equip_dict['in-medium'],\n",
    "                        'pump-elec-in': get_unique_uri(WBS[f'{get_uri_end(equip_dict[\"name\"])}-pump-elec-in']), \n",
    "                        'pump-out': get_unique_uri(WBS[f'{get_uri_end(equip_dict[\"name\"])}-pump-out']), \n",
    "                        'on-off-command': get_unique_uri(WBS[f'{get_uri_end(equip_dict[\"name\"])}-on-off-command']),\n",
    "                        'speed-command': get_unique_uri(WBS[f'{get_uri_end(equip_dict[\"name\"])}-speed-command']), \n",
    "                        'elec-medium': control_medium,\n",
    "                        'vfd-name-out-medium': control_medium,\n",
    "                        'vfd-out': get_unique_uri(WBS[f'{get_uri_end(equip_dict[\"name\"])}-vfd-out']),\n",
    "                        'vfd-in': get_unique_uri(WBS[f'{get_uri_end(equip_dict[\"name\"])}-vfd-in']),\n",
    "                        'vfd-name-in-medium': control_medium,\n",
    "                        'pump-name-in-medium': equip_dict['in-medium'],\n",
    "                        'pump-in': get_unique_uri(WBS[f'{get_uri_end(equip_dict[\"name\"])}-pump-in']),})\n",
    "    vfd_pump_graph = templates.get_template_by_name('pump-with-vfd').inline_dependencies().evaluate(equip_dict)\n",
    "    if isinstance(vfd_pump_graph, Graph):\n",
    "        print(\"PUMP WITH VFD HAS ALL NEEDED PROPERTIES: \", equip_dict['name'])\n",
    "    else:\n",
    "        print(\"DELETING TEMPLATE PARAMETERS: \", vfd_pump_graph.parameters)\n",
    "        vfd_pump_graph = vfd_pump_graph.evaluate({param: WBS['delete'] for param in vfd_pump_graph.parameters})\n",
    "        remove_optional(vfd_pump_graph)\n",
    "    wbs.add_graph(vfd_pump_graph)\n",
    "    return equip_dict\n",
    "def add_controller(name, equip_dict_list, control_medium = CONTROL_MEDIUM):\n",
    "    controller_dict = {'name': name}\n",
    "    controller_graph = templates.get_template_by_name('controller').inline_dependencies().evaluate(controller_dict)\n",
    "    wbs.add_graph(controller_graph)\n",
    "    for equip_dict in equip_dict_list:\n",
    "        cp_name = add_connection_point(controller_dict, 'outlet-cp', control_medium)\n",
    "        connect_equipment(controller_dict, equip_dict,\n",
    "                        cp_name,\n",
    "                        'elec-in')\n",
    "    return controller_dict\n",
    "    "
   ]
  },
  {
   "cell_type": "code",
   "execution_count": 10,
   "metadata": {},
   "outputs": [],
   "source": [
    "brine_temp = templates.get_template_by_name('brine').inline_dependencies()"
   ]
  },
  {
   "cell_type": "code",
   "execution_count": 11,
   "metadata": {},
   "outputs": [
    {
     "data": {
      "text/plain": [
       "{'name': rdflib.term.URIRef('urn:ex/brine-3.5'),\n",
       " 'salt-value': rdflib.term.Literal('3.5', datatype=rdflib.term.URIRef('http://www.w3.org/2001/XMLSchema#double')),\n",
       " 'salt-name': rdflib.term.URIRef('urn:ex/salt-3.5'),\n",
       " 'water-value': rdflib.term.Literal('96.5', datatype=rdflib.term.URIRef('http://www.w3.org/2001/XMLSchema#double')),\n",
       " 'water-name': rdflib.term.URIRef('urn:ex/water--2.5')}"
      ]
     },
     "execution_count": 11,
     "metadata": {},
     "output_type": "execute_result"
    }
   ],
   "source": [
    "make_brine(3.5)"
   ]
  },
  {
   "cell_type": "code",
   "execution_count": 12,
   "metadata": {},
   "outputs": [
    {
     "name": "stdout",
     "output_type": "stream",
     "text": [
      "DELETING TEMPLATE PARAMETERS:  {'bi-cp', 'bi-cp-medium', 'in-mapsto', 'out-mapsto', 'bi-cp-mapsto'}\n",
      "EQUIP HAS ALL NEEDED PROPERTIES:  supply-valve\n",
      "EQUIP HAS ALL NEEDED PROPERTIES:  supply-filter\n",
      "EQUIP HAS ALL NEEDED PROPERTIES:  three-way-valve-1\n",
      "CP HAS ALL NEEDED PROPERTIES:  urn:ex/three-way-valve-1-inlet-cp\n",
      "EQUIP HAS ALL NEEDED PROPERTIES:  circulation-pump\n",
      "EQUIP HAS ALL NEEDED PROPERTIES:  check-valve\n",
      "EQUIP HAS ALL NEEDED PROPERTIES:  bladder\n",
      "EQUIP HAS ALL NEEDED PROPERTIES:  check-valve-2\n",
      "DELETING TEMPLATE PARAMETERS:  {'membrane-in-mapsto', 'membrane', 'in-mapsto', 'membrane-out', 'membrane-role', 'membrane-out-medium', 'membrane-out-mapsto', 'role', 'out-mapsto', 'membrane-in', 'membrane-in-medium'}\n",
      "DELETING TEMPLATE PARAMETERS:  {'in-mapsto', 'out-mapsto'}\n",
      "EQUIP HAS ALL NEEDED PROPERTIES:  three-way-valve-2\n",
      "CP HAS ALL NEEDED PROPERTIES:  urn:ex/three-way-valve-2-outlet-cp\n",
      "DELETING TEMPLATE PARAMETERS:  {'bi-cp', 'bi-cp-medium', 'in-mapsto', 'role', 'out-mapsto', 'bi-cp-mapsto'}\n",
      "CP HAS ALL NEEDED PROPERTIES:  urn:ex/membrane-module-outlet-cp\n",
      "EQUIP HAS ALL NEEDED PROPERTIES:  permeate-valve\n",
      "DELETING TEMPLATE PARAMETERS:  {'bi-cp', 'bi-cp-medium', 'in-mapsto', 'role', 'out-mapsto', 'bi-cp-mapsto'}\n",
      "CP HAS ALL NEEDED PROPERTIES:  urn:ex/bladder-bidirectional-cp\n",
      "EQUIP HAS ALL NEEDED PROPERTIES:  bladder-valve\n",
      "CP HAS ALL NEEDED PROPERTIES:  urn:ex/bladder-valve-bidirectional-cp\n",
      "EQUIP HAS ALL NEEDED PROPERTIES:  check-valve-bladder-to-makeup\n",
      "EQUIP HAS ALL NEEDED PROPERTIES:  check-valve-makeup-to-bladder\n",
      "DELETING TEMPLATE PARAMETERS:  {'bi-cp', 'bi-cp-medium', 'in-mapsto', 'out-mapsto', 'bi-cp-mapsto'}\n",
      "EQUIP HAS ALL NEEDED PROPERTIES:  makeup-tank-valve\n",
      "EQUIP HAS ALL NEEDED PROPERTIES:  makeup-tank-filter\n",
      "EQUIP HAS ALL NEEDED PROPERTIES:  high-pressure-pump\n",
      "DELETING TEMPLATE PARAMETERS:  {'in-mapsto', 'out-mapsto'}\n"
     ]
    },
    {
     "name": "stderr",
     "output_type": "stream",
     "text": [
      "/Users/lazlopaul/Desktop/NAWI/water-ontology/venv/lib/python3.12/site-packages/buildingmotif/dataclasses/template.py:372: UserWarning: Parameters \"bi-cp, bi-cp-medium, out-mapsto, in-mapsto, bi-cp-mapsto\" were not provided during evaluation\n",
      "  warnings.warn(\n",
      "/Users/lazlopaul/Desktop/NAWI/water-ontology/venv/lib/python3.12/site-packages/buildingmotif/dataclasses/template.py:372: UserWarning: Parameters \"membrane-in-mapsto, membrane, in-mapsto, membrane-out, membrane-role, membrane-out-medium, membrane-out-mapsto, role, out-mapsto, membrane-in, membrane-in-medium\" were not provided during evaluation\n",
      "  warnings.warn(\n",
      "/Users/lazlopaul/Desktop/NAWI/water-ontology/venv/lib/python3.12/site-packages/buildingmotif/dataclasses/template.py:372: UserWarning: Parameters \"in-mapsto, out-mapsto\" were not provided during evaluation\n",
      "  warnings.warn(\n",
      "/Users/lazlopaul/Desktop/NAWI/water-ontology/venv/lib/python3.12/site-packages/buildingmotif/dataclasses/template.py:372: UserWarning: Parameters \"bi-cp, bi-cp-medium, role, out-mapsto, in-mapsto, bi-cp-mapsto\" were not provided during evaluation\n",
      "  warnings.warn(\n"
     ]
    }
   ],
   "source": [
    "# need to re-examine brine percentages, kind of random, not sure how many different percentages there are\n",
    "supply_water_dict = make_brine(3.5)\n",
    "pre_membrane_brine_water_dict = make_brine(10)\n",
    "brine_water_dict = make_brine(20)\n",
    "permeate_water_dict = make_brine(0.05)\n",
    "# makeup shoulld be same as pre-membrane brine, but not sure\n",
    "\n",
    "DEFAULT_MEDIUM = supply_water_dict['name']\n",
    "\n",
    "supply_dict = create_equipment(\"supply-tank\", tank_temp, role = S223['Role-Supply'])\n",
    "supply_prop_dict = add_properties(supply_dict['out'], ['ph','temperature','conductivity'])\n",
    "supply_valve_dict = create_equipment(\"supply-valve\", valve_temp)\n",
    "connect_equipment(supply_dict, supply_valve_dict)\n",
    "supply_filter_dict = create_equipment(\"supply-filter\", filter_temp)\n",
    "connect_equipment(supply_valve_dict, supply_filter_dict)\n",
    "\n",
    "three_way_valve_1_dict = create_equipment(\"three-way-valve-1\", valve_temp, out_medium=pre_membrane_brine_water_dict['name'])\n",
    "three_way_valve_1_inlet_cp = add_connection_point(three_way_valve_1_dict, 'inlet-cp')\n",
    "connect_equipment(supply_filter_dict, three_way_valve_1_dict)\n",
    "\n",
    "DEFAULT_MEDIUM = pre_membrane_brine_water_dict['name']\n",
    "\n",
    "# Pump should have VFD - other properties associated with that\n",
    "circulation_pump_dict = create_equipment(\"circulation-pump\", pump_temp)\n",
    "connect_equipment(three_way_valve_1_dict, circulation_pump_dict)\n",
    "# Didn't asign a unit to pressure yet, maybe also want to make it differential on inlet and outlet of pump\n",
    "circulation_pump_prop_dict = add_properties(circulation_pump_dict['name'], ['pressure'])\n",
    "check_valve_dict = create_equipment(\"check-valve\", check_valve_temp)\n",
    "check_valve_prop_dict = add_properties(check_valve_dict['in'], ['flow-rate'])\n",
    "connect_equipment(circulation_pump_dict, check_valve_dict)\n",
    "bladder_dict = create_equipment(\"bladder\", bladder_temp)\n",
    "connect_equipment(check_valve_dict, bladder_dict)\n",
    "check_valve_2_dict = create_equipment(\"check-valve-2\", check_valve_temp)\n",
    "connect_equipment(bladder_dict, check_valve_2_dict)\n",
    "# Membrane module probably has multiple modules, may need to build it differently, also needs multiple connection points\n",
    "membrane_module_dict = create_equipment(\"membrane-module\", membrane_module_temp, out_medium=brine_water_dict['name'])\n",
    "connect_equipment(check_valve_2_dict, membrane_module_dict)\n",
    "\n",
    "DEFAULT_MEDIUM = brine_water_dict['name']\n",
    "\n",
    "membrane_module_prop_dict = add_properties(membrane_module_dict['name'], ['pressure'])\n",
    "relief_valve_dict = create_equipment(\"relief-valve\", valve_temp, role = S223['Role-Relief'])\n",
    "connect_equipment(membrane_module_dict, relief_valve_dict)\n",
    "relief_valve_prop = add_properties(relief_valve_dict['out'], ['temperature'])\n",
    "\n",
    "three_way_valve_2_dict = create_equipment(\"three-way-valve-2\", valve_temp)\n",
    "three_way_valve_2_outlet_cp = add_connection_point(three_way_valve_2_dict, 'outlet-cp')\n",
    "connect_equipment(relief_valve_dict, three_way_valve_2_dict)\n",
    "# connecting three way valves \n",
    "connect_equipment(three_way_valve_2_dict, three_way_valve_1_dict, source_cp = three_way_valve_2_outlet_cp, target_cp= three_way_valve_1_inlet_cp)\n",
    "\n",
    "brine_tank_dict = create_equipment(\"brine-tank\", tank_temp, in_medium=brine_water_dict['name'], out_medium=brine_water_dict['name'])\n",
    "brine_tank_prop_dict = add_properties(brine_tank_dict['in'], ['ph','conductivity'])\n",
    "connect_equipment(three_way_valve_1_dict, brine_tank_dict)\n",
    "\n",
    "DEFAULT_MEDIUM = permeate_water_dict['name']\n",
    "\n",
    "membrane_module_outlet_cp = add_connection_point(membrane_module_dict, 'outlet-cp')\n",
    "permeate_valve_dict = create_equipment(\"permeate-valve\", valve_temp)\n",
    "connect_equipment(membrane_module_dict, permeate_valve_dict, source_cp = membrane_module_outlet_cp)\n",
    "permeate_tank_dict = create_equipment(\"permeate-tank\", tank_temp)\n",
    "add_properties(permeate_tank_dict['in'], ['ph','flow-rate','conductivity'])\n",
    "connect_equipment(permeate_valve_dict, permeate_tank_dict)\n",
    "\n",
    "#Maybe it's just water in the makeup tank\n",
    "DEFAULT_MEDIUM = S223['Medium-Water']\n",
    "\n",
    "bladder_bidirectional_cp = add_connection_point(bladder_dict, 'bidirectional-cp')\n",
    "bladder_valve_dict = create_equipment(\"bladder-valve\", valve_temp)\n",
    "bladder_valve_bidirectional_cp = add_connection_point(bladder_valve_dict, 'bidirectional-cp')\n",
    "# Check if some inferencing or adjustment to this function is needed for bidirectional equips\n",
    "connect_equipment(bladder_dict, bladder_valve_dict, source_cp = bladder_bidirectional_cp, target_cp = bladder_valve_bidirectional_cp)\n",
    "check_valve_bladder_makeup_dict = create_equipment(\"check-valve-bladder-to-makeup\", check_valve_temp)\n",
    "connect_equipment(bladder_valve_dict, check_valve_bladder_makeup_dict)\n",
    "check_valve_makeup_bladder_dict = create_equipment(\"check-valve-makeup-to-bladder\", check_valve_temp)\n",
    "connect_equipment(check_valve_makeup_bladder_dict, bladder_valve_dict)\n",
    "# Rather than adding connection points - would probably be useful to create accurate templates that map 223P to brick-like objects\n",
    "makeup_tank_dict = create_equipment(\"makeup-tank\", tank_temp, role = S223['Role-Makeup'])\n",
    "makeup_tank_valve_dict = create_equipment(\"makeup-tank-valve\", valve_temp)\n",
    "connect_equipment(makeup_tank_dict, makeup_tank_valve_dict)\n",
    "makeup_tank_filter_dict = create_equipment(\"makeup-tank-filter\", filter_temp)\n",
    "connect_equipment(makeup_tank_valve_dict, makeup_tank_filter_dict)\n",
    "# Filter needs VFD\n",
    "high_pressure_pump_dict = create_equipment(\"high-pressure-pump\", pump_temp)\n",
    "connect_equipment(makeup_tank_filter_dict, high_pressure_pump_dict)\n",
    "high_pressure_pump_relief_valve_dict = create_equipment(\"high-pressure-pump-relief-valve\", pump_temp, role=S223['Role-Relief'])\n",
    "connect_equipment(high_pressure_pump_dict, high_pressure_pump_relief_valve_dict)\n",
    "# Perhaps these properties should be on the connection \n",
    "# Need a convention - properties not essential to an equipment are on the connection rather than inlet/outlet? Properties usually on inlet/outlets?\n",
    "makeup_line_prop_dict = add_properties(check_valve_makeup_bladder_dict['in'], ['pressure','flow-rate'])\n"
   ]
  },
  {
   "cell_type": "code",
   "execution_count": 13,
   "metadata": {},
   "outputs": [
    {
     "name": "stdout",
     "output_type": "stream",
     "text": [
      "PUMP WITH VFD HAS ALL NEEDED PROPERTIES:  urn:ex/circulation-pump\n",
      "PUMP WITH VFD HAS ALL NEEDED PROPERTIES:  urn:ex/high-pressure-pump\n",
      "CP HAS ALL NEEDED PROPERTIES:  urn:ex/pump-controller-outlet-cp\n",
      "CP HAS ALL NEEDED PROPERTIES:  urn:ex/pump-controller-outlet-cp-2\n"
     ]
    },
    {
     "data": {
      "text/plain": [
       "{'name': rdflib.term.URIRef('urn:ex/pump-controller'),\n",
       " 'outlet-cp': rdflib.term.URIRef('urn:ex/pump-controller-outlet-cp'),\n",
       " 'outlet-cp-1': rdflib.term.URIRef('urn:ex/pump-controller-outlet-cp-2')}"
      ]
     },
     "execution_count": 13,
     "metadata": {},
     "output_type": "execute_result"
    }
   ],
   "source": [
    "# adding control network \n",
    "circulation_pump_dict = add_vfd_to_pump(circulation_pump_dict)\n",
    "high_pressure_pump_dict = add_vfd_to_pump(high_pressure_pump_dict)\n",
    "# adding controller \n",
    "add_controller(WBS[\"pump-controller\"], [circulation_pump_dict, high_pressure_pump_dict])"
   ]
  },
  {
   "cell_type": "code",
   "execution_count": null,
   "metadata": {},
   "outputs": [],
   "source": []
  },
  {
   "cell_type": "code",
   "execution_count": 14,
   "metadata": {},
   "outputs": [
    {
     "data": {
      "text/plain": [
       "<Graph identifier=ca6cd1e1-b628-4598-b22b-b0e07e4ce38f (<class 'rdflib.graph.Graph'>)>"
      ]
     },
     "execution_count": 14,
     "metadata": {},
     "output_type": "execute_result"
    }
   ],
   "source": [
    "wbs.graph.serialize(\"warsinger-bladder-model.ttl\", format=\"turtle\")"
   ]
  },
  {
   "cell_type": "code",
   "execution_count": null,
   "metadata": {},
   "outputs": [],
   "source": []
  }
 ],
 "metadata": {
  "kernelspec": {
   "display_name": "venv",
   "language": "python",
   "name": "python3"
  },
  "language_info": {
   "codemirror_mode": {
    "name": "ipython",
    "version": 3
   },
   "file_extension": ".py",
   "mimetype": "text/x-python",
   "name": "python",
   "nbconvert_exporter": "python",
   "pygments_lexer": "ipython3",
   "version": "3.12.4"
  }
 },
 "nbformat": 4,
 "nbformat_minor": 2
}
