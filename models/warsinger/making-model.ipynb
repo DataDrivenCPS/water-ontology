{
 "cells": [
  {
   "cell_type": "code",
   "execution_count": 17,
   "metadata": {},
   "outputs": [],
   "source": [
    "from rdflib import Namespace, Graph, Literal, URIRef\n",
    "import re\n",
    "from buildingmotif import BuildingMOTIF\n",
    "from buildingmotif.dataclasses import Library, Model\n",
    "from buildingmotif.namespaces import bind_prefixes"
   ]
  },
  {
   "cell_type": "code",
   "execution_count": 18,
   "metadata": {},
   "outputs": [],
   "source": [
    "# setup our buildingmotif instance\n",
    "bm = BuildingMOTIF(\"sqlite://\")\n",
    "\n",
    "# create the model w/ a namespace\n",
    "WBS = Namespace(\"urn:ex/\")\n",
    "S223 = Namespace(\"http://data.ashrae.org/standard223#\")\n",
    "wbs = Model.create(WBS)\n",
    "bind_prefixes(wbs.graph)\n",
    "wbs.graph.bind(\"wbs\", WBS)\n",
    "wbs.graph.bind(\"s223\", S223)\n",
    "wbs.graph.bind(\"nawi\", Namespace(\"urn:nawi-water-ontology#\"))\n",
    "things = []"
   ]
  },
  {
   "cell_type": "code",
   "execution_count": 19,
   "metadata": {},
   "outputs": [
    {
     "name": "stderr",
     "output_type": "stream",
     "text": [
      "2024-11-05 17:49:11,080 | root |  ERROR: Error creating template brine from file ../warsinger/templates/media.yml: DELETE statement on table 'deps_association_table' expected to delete 28 row(s); Only 29 were matched.\n"
     ]
    },
    {
     "ename": "StaleDataError",
     "evalue": "DELETE statement on table 'deps_association_table' expected to delete 28 row(s); Only 29 were matched.",
     "output_type": "error",
     "traceback": [
      "\u001b[0;31m---------------------------------------------------------------------------\u001b[0m",
      "\u001b[0;31mStaleDataError\u001b[0m                            Traceback (most recent call last)",
      "Cell \u001b[0;32mIn[19], line 1\u001b[0m\n\u001b[0;32m----> 1\u001b[0m templates \u001b[38;5;241m=\u001b[39m \u001b[43mLibrary\u001b[49m\u001b[38;5;241;43m.\u001b[39;49m\u001b[43mload\u001b[49m\u001b[43m(\u001b[49m\u001b[43mdirectory\u001b[49m\u001b[38;5;241;43m=\u001b[39;49m\u001b[38;5;124;43m'\u001b[39;49m\u001b[38;5;124;43m../warsinger/templates\u001b[39;49m\u001b[38;5;124;43m'\u001b[39;49m\u001b[43m)\u001b[49m\n\u001b[1;32m      2\u001b[0m s223 \u001b[38;5;241m=\u001b[39m Library\u001b[38;5;241m.\u001b[39mload(ontology_graph\u001b[38;5;241m=\u001b[39m\u001b[38;5;124m\"\u001b[39m\u001b[38;5;124m../../s223/collections/MODEL_SP223_all-v1.0.ttl\u001b[39m\u001b[38;5;124m\"\u001b[39m)\n",
      "File \u001b[0;32m~/Desktop/NAWI/water-ontology/venv/lib/python3.12/site-packages/buildingmotif/dataclasses/library.py:194\u001b[0m, in \u001b[0;36mLibrary.load\u001b[0;34m(cls, db_id, ontology_graph, directory, name, overwrite)\u001b[0m\n\u001b[1;32m    192\u001b[0m     \u001b[38;5;28;01mif\u001b[39;00m \u001b[38;5;129;01mnot\u001b[39;00m src\u001b[38;5;241m.\u001b[39mexists():\n\u001b[1;32m    193\u001b[0m         \u001b[38;5;28;01mraise\u001b[39;00m \u001b[38;5;167;01mException\u001b[39;00m(\u001b[38;5;124mf\u001b[39m\u001b[38;5;124m\"\u001b[39m\u001b[38;5;124mDirectory \u001b[39m\u001b[38;5;132;01m{\u001b[39;00msrc\u001b[38;5;132;01m}\u001b[39;00m\u001b[38;5;124m does not exist\u001b[39m\u001b[38;5;124m\"\u001b[39m)\n\u001b[0;32m--> 194\u001b[0m     \u001b[38;5;28;01mreturn\u001b[39;00m \u001b[38;5;28;43mcls\u001b[39;49m\u001b[38;5;241;43m.\u001b[39;49m\u001b[43m_load_from_directory\u001b[49m\u001b[43m(\u001b[49m\u001b[43msrc\u001b[49m\u001b[43m,\u001b[49m\u001b[43m \u001b[49m\u001b[43moverwrite\u001b[49m\u001b[38;5;241;43m=\u001b[39;49m\u001b[43moverwrite\u001b[49m\u001b[43m)\u001b[49m\n\u001b[1;32m    195\u001b[0m \u001b[38;5;28;01melif\u001b[39;00m name \u001b[38;5;129;01mis\u001b[39;00m \u001b[38;5;129;01mnot\u001b[39;00m \u001b[38;5;28;01mNone\u001b[39;00m:\n\u001b[1;32m    196\u001b[0m     bm \u001b[38;5;241m=\u001b[39m get_building_motif()\n",
      "File \u001b[0;32m~/Desktop/NAWI/water-ontology/venv/lib/python3.12/site-packages/buildingmotif/dataclasses/library.py:344\u001b[0m, in \u001b[0;36mLibrary._load_from_directory\u001b[0;34m(cls, directory, overwrite)\u001b[0m\n\u001b[1;32m    342\u001b[0m \u001b[38;5;66;03m# read all .yml files\u001b[39;00m\n\u001b[1;32m    343\u001b[0m \u001b[38;5;28;01mfor\u001b[39;00m file \u001b[38;5;129;01min\u001b[39;00m directory\u001b[38;5;241m.\u001b[39mrglob(\u001b[38;5;124m\"\u001b[39m\u001b[38;5;124m*.yml\u001b[39m\u001b[38;5;124m\"\u001b[39m):\n\u001b[0;32m--> 344\u001b[0m     \u001b[43mlib\u001b[49m\u001b[38;5;241;43m.\u001b[39;49m\u001b[43m_read_yml_file\u001b[49m\u001b[43m(\u001b[49m\u001b[43mfile\u001b[49m\u001b[43m,\u001b[49m\u001b[43m \u001b[49m\u001b[43mtemplate_id_lookup\u001b[49m\u001b[43m,\u001b[49m\u001b[43m \u001b[49m\u001b[43mdependency_cache\u001b[49m\u001b[43m)\u001b[49m\n\u001b[1;32m    345\u001b[0m \u001b[38;5;66;03m# now that we have all the templates, we can populate the dependencies\u001b[39;00m\n\u001b[1;32m    346\u001b[0m lib\u001b[38;5;241m.\u001b[39m_resolve_template_dependencies(template_id_lookup, dependency_cache)\n",
      "File \u001b[0;32m~/Desktop/NAWI/water-ontology/venv/lib/python3.12/site-packages/buildingmotif/dataclasses/library.py:436\u001b[0m, in \u001b[0;36mLibrary._read_yml_file\u001b[0;34m(self, file, template_id_lookup, dependency_cache)\u001b[0m\n\u001b[1;32m    432\u001b[0m \u001b[38;5;28;01mexcept\u001b[39;00m \u001b[38;5;167;01mException\u001b[39;00m \u001b[38;5;28;01mas\u001b[39;00m e:\n\u001b[1;32m    433\u001b[0m     logging\u001b[38;5;241m.\u001b[39merror(\n\u001b[1;32m    434\u001b[0m         \u001b[38;5;124mf\u001b[39m\u001b[38;5;124m\"\u001b[39m\u001b[38;5;124mError creating template \u001b[39m\u001b[38;5;132;01m{\u001b[39;00mtempl_name\u001b[38;5;132;01m}\u001b[39;00m\u001b[38;5;124m from file \u001b[39m\u001b[38;5;132;01m{\u001b[39;00mfile\u001b[38;5;132;01m}\u001b[39;00m\u001b[38;5;124m: \u001b[39m\u001b[38;5;132;01m{\u001b[39;00me\u001b[38;5;132;01m}\u001b[39;00m\u001b[38;5;124m\"\u001b[39m\n\u001b[1;32m    435\u001b[0m     )\n\u001b[0;32m--> 436\u001b[0m     \u001b[38;5;28;01mraise\u001b[39;00m e\n\u001b[1;32m    437\u001b[0m dependency_cache[templ\u001b[38;5;241m.\u001b[39mid] \u001b[38;5;241m=\u001b[39m deps\n\u001b[1;32m    438\u001b[0m template_id_lookup[templ\u001b[38;5;241m.\u001b[39mname] \u001b[38;5;241m=\u001b[39m templ\u001b[38;5;241m.\u001b[39mid\n",
      "File \u001b[0;32m~/Desktop/NAWI/water-ontology/venv/lib/python3.12/site-packages/buildingmotif/dataclasses/library.py:431\u001b[0m, in \u001b[0;36mLibrary._read_yml_file\u001b[0;34m(self, file, template_id_lookup, dependency_cache)\u001b[0m\n\u001b[1;32m    429\u001b[0m templ_spec[\u001b[38;5;124m\"\u001b[39m\u001b[38;5;124moptional_args\u001b[39m\u001b[38;5;124m\"\u001b[39m] \u001b[38;5;241m=\u001b[39m templ_spec\u001b[38;5;241m.\u001b[39mpop(\u001b[38;5;124m\"\u001b[39m\u001b[38;5;124moptional\u001b[39m\u001b[38;5;124m\"\u001b[39m, [])\n\u001b[1;32m    430\u001b[0m \u001b[38;5;28;01mtry\u001b[39;00m:\n\u001b[0;32m--> 431\u001b[0m     templ \u001b[38;5;241m=\u001b[39m \u001b[38;5;28;43mself\u001b[39;49m\u001b[38;5;241;43m.\u001b[39;49m\u001b[43mcreate_template\u001b[49m\u001b[43m(\u001b[49m\u001b[38;5;241;43m*\u001b[39;49m\u001b[38;5;241;43m*\u001b[39;49m\u001b[43mtempl_spec\u001b[49m\u001b[43m)\u001b[49m\n\u001b[1;32m    432\u001b[0m \u001b[38;5;28;01mexcept\u001b[39;00m \u001b[38;5;167;01mException\u001b[39;00m \u001b[38;5;28;01mas\u001b[39;00m e:\n\u001b[1;32m    433\u001b[0m     logging\u001b[38;5;241m.\u001b[39merror(\n\u001b[1;32m    434\u001b[0m         \u001b[38;5;124mf\u001b[39m\u001b[38;5;124m\"\u001b[39m\u001b[38;5;124mError creating template \u001b[39m\u001b[38;5;132;01m{\u001b[39;00mtempl_name\u001b[38;5;132;01m}\u001b[39;00m\u001b[38;5;124m from file \u001b[39m\u001b[38;5;132;01m{\u001b[39;00mfile\u001b[38;5;132;01m}\u001b[39;00m\u001b[38;5;124m: \u001b[39m\u001b[38;5;132;01m{\u001b[39;00me\u001b[38;5;132;01m}\u001b[39;00m\u001b[38;5;124m\"\u001b[39m\n\u001b[1;32m    435\u001b[0m     )\n",
      "File \u001b[0;32m~/Desktop/NAWI/water-ontology/venv/lib/python3.12/site-packages/buildingmotif/dataclasses/library.py:474\u001b[0m, in \u001b[0;36mLibrary.create_template\u001b[0;34m(self, name, body, optional_args)\u001b[0m\n\u001b[1;32m    457\u001b[0m \u001b[38;5;28;01mdef\u001b[39;00m \u001b[38;5;21mcreate_template\u001b[39m(\n\u001b[1;32m    458\u001b[0m     \u001b[38;5;28mself\u001b[39m,\n\u001b[1;32m    459\u001b[0m     name: \u001b[38;5;28mstr\u001b[39m,\n\u001b[1;32m    460\u001b[0m     body: Optional[rdflib\u001b[38;5;241m.\u001b[39mGraph] \u001b[38;5;241m=\u001b[39m \u001b[38;5;28;01mNone\u001b[39;00m,\n\u001b[1;32m    461\u001b[0m     optional_args: Optional[List[\u001b[38;5;28mstr\u001b[39m]] \u001b[38;5;241m=\u001b[39m \u001b[38;5;28;01mNone\u001b[39;00m,\n\u001b[1;32m    462\u001b[0m ) \u001b[38;5;241m-\u001b[39m\u001b[38;5;241m>\u001b[39m Template:\n\u001b[1;32m    463\u001b[0m \u001b[38;5;250m    \u001b[39m\u001b[38;5;124;03m\"\"\"Create template in this library.\u001b[39;00m\n\u001b[1;32m    464\u001b[0m \n\u001b[1;32m    465\u001b[0m \u001b[38;5;124;03m    :param name: name\u001b[39;00m\n\u001b[0;32m   (...)\u001b[0m\n\u001b[1;32m    472\u001b[0m \u001b[38;5;124;03m    :rtype: Template\u001b[39;00m\n\u001b[1;32m    473\u001b[0m \u001b[38;5;124;03m    \"\"\"\u001b[39;00m\n\u001b[0;32m--> 474\u001b[0m     db_template \u001b[38;5;241m=\u001b[39m \u001b[38;5;28;43mself\u001b[39;49m\u001b[38;5;241;43m.\u001b[39;49m\u001b[43m_bm\u001b[49m\u001b[38;5;241;43m.\u001b[39;49m\u001b[43mtable_connection\u001b[49m\u001b[38;5;241;43m.\u001b[39;49m\u001b[43mcreate_db_template\u001b[49m\u001b[43m(\u001b[49m\u001b[43mname\u001b[49m\u001b[43m,\u001b[49m\u001b[43m \u001b[49m\u001b[38;5;28;43mself\u001b[39;49m\u001b[38;5;241;43m.\u001b[39;49m\u001b[43m_id\u001b[49m\u001b[43m)\u001b[49m\n\u001b[1;32m    475\u001b[0m     body \u001b[38;5;241m=\u001b[39m \u001b[38;5;28mself\u001b[39m\u001b[38;5;241m.\u001b[39m_bm\u001b[38;5;241m.\u001b[39mgraph_connection\u001b[38;5;241m.\u001b[39mcreate_graph(\n\u001b[1;32m    476\u001b[0m         db_template\u001b[38;5;241m.\u001b[39mbody_id, body \u001b[38;5;28;01mif\u001b[39;00m body \u001b[38;5;28;01melse\u001b[39;00m rdflib\u001b[38;5;241m.\u001b[39mGraph()\n\u001b[1;32m    477\u001b[0m     )\n\u001b[1;32m    478\u001b[0m     \u001b[38;5;66;03m# ensure the \"param\" namespace is bound to the graph\u001b[39;00m\n",
      "File \u001b[0;32m~/Desktop/NAWI/water-ontology/venv/lib/python3.12/site-packages/buildingmotif/database/table_connection.py:271\u001b[0m, in \u001b[0;36mTableConnection.create_db_template\u001b[0;34m(self, name, library_id)\u001b[0m\n\u001b[1;32m    261\u001b[0m \u001b[38;5;250m\u001b[39m\u001b[38;5;124;03m\"\"\"Create database template.\u001b[39;00m\n\u001b[1;32m    262\u001b[0m \n\u001b[1;32m    263\u001b[0m \u001b[38;5;124;03m:param name: name of DBTemplate\u001b[39;00m\n\u001b[0;32m   (...)\u001b[0m\n\u001b[1;32m    268\u001b[0m \u001b[38;5;124;03m:rtype: DBTemplate\u001b[39;00m\n\u001b[1;32m    269\u001b[0m \u001b[38;5;124;03m\"\"\"\u001b[39;00m\n\u001b[1;32m    270\u001b[0m \u001b[38;5;28mself\u001b[39m\u001b[38;5;241m.\u001b[39mlogger\u001b[38;5;241m.\u001b[39mdebug(\u001b[38;5;124mf\u001b[39m\u001b[38;5;124m\"\u001b[39m\u001b[38;5;124mCreating database template: \u001b[39m\u001b[38;5;124m'\u001b[39m\u001b[38;5;132;01m{\u001b[39;00mname\u001b[38;5;132;01m}\u001b[39;00m\u001b[38;5;124m'\u001b[39m\u001b[38;5;124m\"\u001b[39m)\n\u001b[0;32m--> 271\u001b[0m library \u001b[38;5;241m=\u001b[39m \u001b[38;5;28;43mself\u001b[39;49m\u001b[38;5;241;43m.\u001b[39;49m\u001b[43mget_db_library_by_id\u001b[49m\u001b[43m(\u001b[49m\u001b[43mlibrary_id\u001b[49m\u001b[43m)\u001b[49m\n\u001b[1;32m    272\u001b[0m template \u001b[38;5;241m=\u001b[39m DBTemplate(\n\u001b[1;32m    273\u001b[0m     name\u001b[38;5;241m=\u001b[39mname,\n\u001b[1;32m    274\u001b[0m     body_id\u001b[38;5;241m=\u001b[39m\u001b[38;5;28mstr\u001b[39m(uuid\u001b[38;5;241m.\u001b[39muuid4()),\n\u001b[1;32m    275\u001b[0m     optional_args\u001b[38;5;241m=\u001b[39m[],\n\u001b[1;32m    276\u001b[0m     library\u001b[38;5;241m=\u001b[39mlibrary,\n\u001b[1;32m    277\u001b[0m )\n\u001b[1;32m    279\u001b[0m \u001b[38;5;28mself\u001b[39m\u001b[38;5;241m.\u001b[39mbm\u001b[38;5;241m.\u001b[39msession\u001b[38;5;241m.\u001b[39madd(template)\n",
      "File \u001b[0;32m~/Desktop/NAWI/water-ontology/venv/lib/python3.12/site-packages/buildingmotif/database/table_connection.py:219\u001b[0m, in \u001b[0;36mTableConnection.get_db_library_by_id\u001b[0;34m(self, id)\u001b[0m\n\u001b[1;32m    211\u001b[0m \u001b[38;5;28;01mdef\u001b[39;00m \u001b[38;5;21mget_db_library_by_id\u001b[39m(\u001b[38;5;28mself\u001b[39m, \u001b[38;5;28mid\u001b[39m: \u001b[38;5;28mint\u001b[39m) \u001b[38;5;241m-\u001b[39m\u001b[38;5;241m>\u001b[39m DBLibrary:\n\u001b[1;32m    212\u001b[0m \u001b[38;5;250m    \u001b[39m\u001b[38;5;124;03m\"\"\"Get database library by id.\u001b[39;00m\n\u001b[1;32m    213\u001b[0m \n\u001b[1;32m    214\u001b[0m \u001b[38;5;124;03m    :param id: id of DBLibrary\u001b[39;00m\n\u001b[0;32m   (...)\u001b[0m\n\u001b[1;32m    217\u001b[0m \u001b[38;5;124;03m    :rtype: DBLibrary\u001b[39;00m\n\u001b[1;32m    218\u001b[0m \u001b[38;5;124;03m    \"\"\"\u001b[39;00m\n\u001b[0;32m--> 219\u001b[0m     db_library \u001b[38;5;241m=\u001b[39m \u001b[38;5;28;43mself\u001b[39;49m\u001b[38;5;241;43m.\u001b[39;49m\u001b[43mbm\u001b[49m\u001b[38;5;241;43m.\u001b[39;49m\u001b[43msession\u001b[49m\u001b[38;5;241;43m.\u001b[39;49m\u001b[43mquery\u001b[49m\u001b[43m(\u001b[49m\u001b[43mDBLibrary\u001b[49m\u001b[43m)\u001b[49m\u001b[38;5;241;43m.\u001b[39;49m\u001b[43mfilter\u001b[49m\u001b[43m(\u001b[49m\u001b[43mDBLibrary\u001b[49m\u001b[38;5;241;43m.\u001b[39;49m\u001b[43mid\u001b[49m\u001b[43m \u001b[49m\u001b[38;5;241;43m==\u001b[39;49m\u001b[43m \u001b[49m\u001b[38;5;28;43mid\u001b[39;49m\u001b[43m)\u001b[49m\u001b[38;5;241;43m.\u001b[39;49m\u001b[43mone\u001b[49m\u001b[43m(\u001b[49m\u001b[43m)\u001b[49m\n\u001b[1;32m    220\u001b[0m     \u001b[38;5;28;01mreturn\u001b[39;00m db_library\n",
      "File \u001b[0;32m~/Desktop/NAWI/water-ontology/venv/lib/python3.12/site-packages/sqlalchemy/orm/query.py:2870\u001b[0m, in \u001b[0;36mQuery.one\u001b[0;34m(self)\u001b[0m\n\u001b[1;32m   2852\u001b[0m \u001b[38;5;28;01mdef\u001b[39;00m \u001b[38;5;21mone\u001b[39m(\u001b[38;5;28mself\u001b[39m):\n\u001b[1;32m   2853\u001b[0m \u001b[38;5;250m    \u001b[39m\u001b[38;5;124;03m\"\"\"Return exactly one result or raise an exception.\u001b[39;00m\n\u001b[1;32m   2854\u001b[0m \n\u001b[1;32m   2855\u001b[0m \u001b[38;5;124;03m    Raises ``sqlalchemy.orm.exc.NoResultFound`` if the query selects\u001b[39;00m\n\u001b[0;32m   (...)\u001b[0m\n\u001b[1;32m   2868\u001b[0m \n\u001b[1;32m   2869\u001b[0m \u001b[38;5;124;03m    \"\"\"\u001b[39;00m\n\u001b[0;32m-> 2870\u001b[0m     \u001b[38;5;28;01mreturn\u001b[39;00m \u001b[38;5;28;43mself\u001b[39;49m\u001b[38;5;241;43m.\u001b[39;49m\u001b[43m_iter\u001b[49m\u001b[43m(\u001b[49m\u001b[43m)\u001b[49m\u001b[38;5;241m.\u001b[39mone()\n",
      "File \u001b[0;32m~/Desktop/NAWI/water-ontology/venv/lib/python3.12/site-packages/sqlalchemy/orm/query.py:2916\u001b[0m, in \u001b[0;36mQuery._iter\u001b[0;34m(self)\u001b[0m\n\u001b[1;32m   2913\u001b[0m params \u001b[38;5;241m=\u001b[39m \u001b[38;5;28mself\u001b[39m\u001b[38;5;241m.\u001b[39m_params\n\u001b[1;32m   2915\u001b[0m statement \u001b[38;5;241m=\u001b[39m \u001b[38;5;28mself\u001b[39m\u001b[38;5;241m.\u001b[39m_statement_20()\n\u001b[0;32m-> 2916\u001b[0m result \u001b[38;5;241m=\u001b[39m \u001b[38;5;28;43mself\u001b[39;49m\u001b[38;5;241;43m.\u001b[39;49m\u001b[43msession\u001b[49m\u001b[38;5;241;43m.\u001b[39;49m\u001b[43mexecute\u001b[49m\u001b[43m(\u001b[49m\n\u001b[1;32m   2917\u001b[0m \u001b[43m    \u001b[49m\u001b[43mstatement\u001b[49m\u001b[43m,\u001b[49m\n\u001b[1;32m   2918\u001b[0m \u001b[43m    \u001b[49m\u001b[43mparams\u001b[49m\u001b[43m,\u001b[49m\n\u001b[1;32m   2919\u001b[0m \u001b[43m    \u001b[49m\u001b[43mexecution_options\u001b[49m\u001b[38;5;241;43m=\u001b[39;49m\u001b[43m{\u001b[49m\u001b[38;5;124;43m\"\u001b[39;49m\u001b[38;5;124;43m_sa_orm_load_options\u001b[39;49m\u001b[38;5;124;43m\"\u001b[39;49m\u001b[43m:\u001b[49m\u001b[43m \u001b[49m\u001b[38;5;28;43mself\u001b[39;49m\u001b[38;5;241;43m.\u001b[39;49m\u001b[43mload_options\u001b[49m\u001b[43m}\u001b[49m\u001b[43m,\u001b[49m\n\u001b[1;32m   2920\u001b[0m \u001b[43m\u001b[49m\u001b[43m)\u001b[49m\n\u001b[1;32m   2922\u001b[0m \u001b[38;5;66;03m# legacy: automatically set scalars, unique\u001b[39;00m\n\u001b[1;32m   2923\u001b[0m \u001b[38;5;28;01mif\u001b[39;00m result\u001b[38;5;241m.\u001b[39m_attributes\u001b[38;5;241m.\u001b[39mget(\u001b[38;5;124m\"\u001b[39m\u001b[38;5;124mis_single_entity\u001b[39m\u001b[38;5;124m\"\u001b[39m, \u001b[38;5;28;01mFalse\u001b[39;00m):\n",
      "File \u001b[0;32m~/Desktop/NAWI/water-ontology/venv/lib/python3.12/site-packages/sqlalchemy/orm/session.py:1665\u001b[0m, in \u001b[0;36mSession.execute\u001b[0;34m(self, statement, params, execution_options, bind_arguments, _parent_execute_state, _add_event, **kw)\u001b[0m\n\u001b[1;32m   1659\u001b[0m execution_options \u001b[38;5;241m=\u001b[39m util\u001b[38;5;241m.\u001b[39mcoerce_to_immutabledict(execution_options)\n\u001b[1;32m   1661\u001b[0m \u001b[38;5;28;01mif\u001b[39;00m compile_state_cls \u001b[38;5;129;01mis\u001b[39;00m \u001b[38;5;129;01mnot\u001b[39;00m \u001b[38;5;28;01mNone\u001b[39;00m:\n\u001b[1;32m   1662\u001b[0m     (\n\u001b[1;32m   1663\u001b[0m         statement,\n\u001b[1;32m   1664\u001b[0m         execution_options,\n\u001b[0;32m-> 1665\u001b[0m     ) \u001b[38;5;241m=\u001b[39m \u001b[43mcompile_state_cls\u001b[49m\u001b[38;5;241;43m.\u001b[39;49m\u001b[43morm_pre_session_exec\u001b[49m\u001b[43m(\u001b[49m\n\u001b[1;32m   1666\u001b[0m \u001b[43m        \u001b[49m\u001b[38;5;28;43mself\u001b[39;49m\u001b[43m,\u001b[49m\n\u001b[1;32m   1667\u001b[0m \u001b[43m        \u001b[49m\u001b[43mstatement\u001b[49m\u001b[43m,\u001b[49m\n\u001b[1;32m   1668\u001b[0m \u001b[43m        \u001b[49m\u001b[43mparams\u001b[49m\u001b[43m,\u001b[49m\n\u001b[1;32m   1669\u001b[0m \u001b[43m        \u001b[49m\u001b[43mexecution_options\u001b[49m\u001b[43m,\u001b[49m\n\u001b[1;32m   1670\u001b[0m \u001b[43m        \u001b[49m\u001b[43mbind_arguments\u001b[49m\u001b[43m,\u001b[49m\n\u001b[1;32m   1671\u001b[0m \u001b[43m        \u001b[49m\u001b[43m_parent_execute_state\u001b[49m\u001b[43m \u001b[49m\u001b[38;5;129;43;01mis\u001b[39;49;00m\u001b[43m \u001b[49m\u001b[38;5;129;43;01mnot\u001b[39;49;00m\u001b[43m \u001b[49m\u001b[38;5;28;43;01mNone\u001b[39;49;00m\u001b[43m,\u001b[49m\n\u001b[1;32m   1672\u001b[0m \u001b[43m    \u001b[49m\u001b[43m)\u001b[49m\n\u001b[1;32m   1673\u001b[0m \u001b[38;5;28;01melse\u001b[39;00m:\n\u001b[1;32m   1674\u001b[0m     bind_arguments\u001b[38;5;241m.\u001b[39msetdefault(\u001b[38;5;124m\"\u001b[39m\u001b[38;5;124mclause\u001b[39m\u001b[38;5;124m\"\u001b[39m, statement)\n",
      "File \u001b[0;32m~/Desktop/NAWI/water-ontology/venv/lib/python3.12/site-packages/sqlalchemy/orm/context.py:312\u001b[0m, in \u001b[0;36mORMCompileState.orm_pre_session_exec\u001b[0;34m(cls, session, statement, params, execution_options, bind_arguments, is_reentrant_invoke)\u001b[0m\n\u001b[1;32m    309\u001b[0m         bind_arguments[\u001b[38;5;124m\"\u001b[39m\u001b[38;5;124mmapper\u001b[39m\u001b[38;5;124m\"\u001b[39m] \u001b[38;5;241m=\u001b[39m plugin_subject\u001b[38;5;241m.\u001b[39mmapper\n\u001b[1;32m    311\u001b[0m \u001b[38;5;28;01mif\u001b[39;00m load_options\u001b[38;5;241m.\u001b[39m_autoflush:\n\u001b[0;32m--> 312\u001b[0m     \u001b[43msession\u001b[49m\u001b[38;5;241;43m.\u001b[39;49m\u001b[43m_autoflush\u001b[49m\u001b[43m(\u001b[49m\u001b[43m)\u001b[49m\n\u001b[1;32m    314\u001b[0m \u001b[38;5;28;01mreturn\u001b[39;00m statement, execution_options\n",
      "File \u001b[0;32m~/Desktop/NAWI/water-ontology/venv/lib/python3.12/site-packages/sqlalchemy/orm/session.py:2253\u001b[0m, in \u001b[0;36mSession._autoflush\u001b[0;34m(self)\u001b[0m\n\u001b[1;32m   2251\u001b[0m \u001b[38;5;28;01mif\u001b[39;00m \u001b[38;5;28mself\u001b[39m\u001b[38;5;241m.\u001b[39mautoflush \u001b[38;5;129;01mand\u001b[39;00m \u001b[38;5;129;01mnot\u001b[39;00m \u001b[38;5;28mself\u001b[39m\u001b[38;5;241m.\u001b[39m_flushing:\n\u001b[1;32m   2252\u001b[0m     \u001b[38;5;28;01mtry\u001b[39;00m:\n\u001b[0;32m-> 2253\u001b[0m         \u001b[38;5;28;43mself\u001b[39;49m\u001b[38;5;241;43m.\u001b[39;49m\u001b[43mflush\u001b[49m\u001b[43m(\u001b[49m\u001b[43m)\u001b[49m\n\u001b[1;32m   2254\u001b[0m     \u001b[38;5;28;01mexcept\u001b[39;00m sa_exc\u001b[38;5;241m.\u001b[39mStatementError \u001b[38;5;28;01mas\u001b[39;00m e:\n\u001b[1;32m   2255\u001b[0m         \u001b[38;5;66;03m# note we are reraising StatementError as opposed to\u001b[39;00m\n\u001b[1;32m   2256\u001b[0m         \u001b[38;5;66;03m# raising FlushError with \"chaining\" to remain compatible\u001b[39;00m\n\u001b[1;32m   2257\u001b[0m         \u001b[38;5;66;03m# with code that catches StatementError, IntegrityError,\u001b[39;00m\n\u001b[1;32m   2258\u001b[0m         \u001b[38;5;66;03m# etc.\u001b[39;00m\n\u001b[1;32m   2259\u001b[0m         e\u001b[38;5;241m.\u001b[39madd_detail(\n\u001b[1;32m   2260\u001b[0m             \u001b[38;5;124m\"\u001b[39m\u001b[38;5;124mraised as a result of Query-invoked autoflush; \u001b[39m\u001b[38;5;124m\"\u001b[39m\n\u001b[1;32m   2261\u001b[0m             \u001b[38;5;124m\"\u001b[39m\u001b[38;5;124mconsider using a session.no_autoflush block if this \u001b[39m\u001b[38;5;124m\"\u001b[39m\n\u001b[1;32m   2262\u001b[0m             \u001b[38;5;124m\"\u001b[39m\u001b[38;5;124mflush is occurring prematurely\u001b[39m\u001b[38;5;124m\"\u001b[39m\n\u001b[1;32m   2263\u001b[0m         )\n",
      "File \u001b[0;32m~/Desktop/NAWI/water-ontology/venv/lib/python3.12/site-packages/sqlalchemy/orm/session.py:3449\u001b[0m, in \u001b[0;36mSession.flush\u001b[0;34m(self, objects)\u001b[0m\n\u001b[1;32m   3447\u001b[0m \u001b[38;5;28;01mtry\u001b[39;00m:\n\u001b[1;32m   3448\u001b[0m     \u001b[38;5;28mself\u001b[39m\u001b[38;5;241m.\u001b[39m_flushing \u001b[38;5;241m=\u001b[39m \u001b[38;5;28;01mTrue\u001b[39;00m\n\u001b[0;32m-> 3449\u001b[0m     \u001b[38;5;28;43mself\u001b[39;49m\u001b[38;5;241;43m.\u001b[39;49m\u001b[43m_flush\u001b[49m\u001b[43m(\u001b[49m\u001b[43mobjects\u001b[49m\u001b[43m)\u001b[49m\n\u001b[1;32m   3450\u001b[0m \u001b[38;5;28;01mfinally\u001b[39;00m:\n\u001b[1;32m   3451\u001b[0m     \u001b[38;5;28mself\u001b[39m\u001b[38;5;241m.\u001b[39m_flushing \u001b[38;5;241m=\u001b[39m \u001b[38;5;28;01mFalse\u001b[39;00m\n",
      "File \u001b[0;32m~/Desktop/NAWI/water-ontology/venv/lib/python3.12/site-packages/sqlalchemy/orm/session.py:3588\u001b[0m, in \u001b[0;36mSession._flush\u001b[0;34m(self, objects)\u001b[0m\n\u001b[1;32m   3585\u001b[0m     transaction\u001b[38;5;241m.\u001b[39mcommit()\n\u001b[1;32m   3587\u001b[0m \u001b[38;5;28;01mexcept\u001b[39;00m:\n\u001b[0;32m-> 3588\u001b[0m \u001b[43m    \u001b[49m\u001b[38;5;28;43;01mwith\u001b[39;49;00m\u001b[43m \u001b[49m\u001b[43mutil\u001b[49m\u001b[38;5;241;43m.\u001b[39;49m\u001b[43msafe_reraise\u001b[49m\u001b[43m(\u001b[49m\u001b[43m)\u001b[49m\u001b[43m:\u001b[49m\n\u001b[1;32m   3589\u001b[0m \u001b[43m        \u001b[49m\u001b[43mtransaction\u001b[49m\u001b[38;5;241;43m.\u001b[39;49m\u001b[43mrollback\u001b[49m\u001b[43m(\u001b[49m\u001b[43m_capture_exception\u001b[49m\u001b[38;5;241;43m=\u001b[39;49m\u001b[38;5;28;43;01mTrue\u001b[39;49;00m\u001b[43m)\u001b[49m\n",
      "File \u001b[0;32m~/Desktop/NAWI/water-ontology/venv/lib/python3.12/site-packages/sqlalchemy/util/langhelpers.py:70\u001b[0m, in \u001b[0;36msafe_reraise.__exit__\u001b[0;34m(self, type_, value, traceback)\u001b[0m\n\u001b[1;32m     68\u001b[0m     \u001b[38;5;28mself\u001b[39m\u001b[38;5;241m.\u001b[39m_exc_info \u001b[38;5;241m=\u001b[39m \u001b[38;5;28;01mNone\u001b[39;00m  \u001b[38;5;66;03m# remove potential circular references\u001b[39;00m\n\u001b[1;32m     69\u001b[0m     \u001b[38;5;28;01mif\u001b[39;00m \u001b[38;5;129;01mnot\u001b[39;00m \u001b[38;5;28mself\u001b[39m\u001b[38;5;241m.\u001b[39mwarn_only:\n\u001b[0;32m---> 70\u001b[0m         \u001b[43mcompat\u001b[49m\u001b[38;5;241;43m.\u001b[39;49m\u001b[43mraise_\u001b[49m\u001b[43m(\u001b[49m\n\u001b[1;32m     71\u001b[0m \u001b[43m            \u001b[49m\u001b[43mexc_value\u001b[49m\u001b[43m,\u001b[49m\n\u001b[1;32m     72\u001b[0m \u001b[43m            \u001b[49m\u001b[43mwith_traceback\u001b[49m\u001b[38;5;241;43m=\u001b[39;49m\u001b[43mexc_tb\u001b[49m\u001b[43m,\u001b[49m\n\u001b[1;32m     73\u001b[0m \u001b[43m        \u001b[49m\u001b[43m)\u001b[49m\n\u001b[1;32m     74\u001b[0m \u001b[38;5;28;01melse\u001b[39;00m:\n\u001b[1;32m     75\u001b[0m     \u001b[38;5;28;01mif\u001b[39;00m \u001b[38;5;129;01mnot\u001b[39;00m compat\u001b[38;5;241m.\u001b[39mpy3k \u001b[38;5;129;01mand\u001b[39;00m \u001b[38;5;28mself\u001b[39m\u001b[38;5;241m.\u001b[39m_exc_info \u001b[38;5;129;01mand\u001b[39;00m \u001b[38;5;28mself\u001b[39m\u001b[38;5;241m.\u001b[39m_exc_info[\u001b[38;5;241m1\u001b[39m]:\n\u001b[1;32m     76\u001b[0m         \u001b[38;5;66;03m# emulate Py3K's behavior of telling us when an exception\u001b[39;00m\n\u001b[1;32m     77\u001b[0m         \u001b[38;5;66;03m# occurs in an exception handler.\u001b[39;00m\n",
      "File \u001b[0;32m~/Desktop/NAWI/water-ontology/venv/lib/python3.12/site-packages/sqlalchemy/util/compat.py:211\u001b[0m, in \u001b[0;36mraise_\u001b[0;34m(***failed resolving arguments***)\u001b[0m\n\u001b[1;32m    208\u001b[0m     exception\u001b[38;5;241m.\u001b[39m__cause__ \u001b[38;5;241m=\u001b[39m replace_context\n\u001b[1;32m    210\u001b[0m \u001b[38;5;28;01mtry\u001b[39;00m:\n\u001b[0;32m--> 211\u001b[0m     \u001b[38;5;28;01mraise\u001b[39;00m exception\n\u001b[1;32m    212\u001b[0m \u001b[38;5;28;01mfinally\u001b[39;00m:\n\u001b[1;32m    213\u001b[0m     \u001b[38;5;66;03m# credit to\u001b[39;00m\n\u001b[1;32m    214\u001b[0m     \u001b[38;5;66;03m# https://cosmicpercolator.com/2016/01/13/exception-leaks-in-python-2-and-3/\u001b[39;00m\n\u001b[1;32m    215\u001b[0m     \u001b[38;5;66;03m# as the __traceback__ object creates a cycle\u001b[39;00m\n\u001b[1;32m    216\u001b[0m     \u001b[38;5;28;01mdel\u001b[39;00m exception, replace_context, from_, with_traceback\n",
      "File \u001b[0;32m~/Desktop/NAWI/water-ontology/venv/lib/python3.12/site-packages/sqlalchemy/orm/session.py:3549\u001b[0m, in \u001b[0;36mSession._flush\u001b[0;34m(self, objects)\u001b[0m\n\u001b[1;32m   3547\u001b[0m \u001b[38;5;28mself\u001b[39m\u001b[38;5;241m.\u001b[39m_warn_on_events \u001b[38;5;241m=\u001b[39m \u001b[38;5;28;01mTrue\u001b[39;00m\n\u001b[1;32m   3548\u001b[0m \u001b[38;5;28;01mtry\u001b[39;00m:\n\u001b[0;32m-> 3549\u001b[0m     \u001b[43mflush_context\u001b[49m\u001b[38;5;241;43m.\u001b[39;49m\u001b[43mexecute\u001b[49m\u001b[43m(\u001b[49m\u001b[43m)\u001b[49m\n\u001b[1;32m   3550\u001b[0m \u001b[38;5;28;01mfinally\u001b[39;00m:\n\u001b[1;32m   3551\u001b[0m     \u001b[38;5;28mself\u001b[39m\u001b[38;5;241m.\u001b[39m_warn_on_events \u001b[38;5;241m=\u001b[39m \u001b[38;5;28;01mFalse\u001b[39;00m\n",
      "File \u001b[0;32m~/Desktop/NAWI/water-ontology/venv/lib/python3.12/site-packages/sqlalchemy/orm/unitofwork.py:456\u001b[0m, in \u001b[0;36mUOWTransaction.execute\u001b[0;34m(self)\u001b[0m\n\u001b[1;32m    454\u001b[0m \u001b[38;5;28;01melse\u001b[39;00m:\n\u001b[1;32m    455\u001b[0m     \u001b[38;5;28;01mfor\u001b[39;00m rec \u001b[38;5;129;01min\u001b[39;00m topological\u001b[38;5;241m.\u001b[39msort(\u001b[38;5;28mself\u001b[39m\u001b[38;5;241m.\u001b[39mdependencies, postsort_actions):\n\u001b[0;32m--> 456\u001b[0m         \u001b[43mrec\u001b[49m\u001b[38;5;241;43m.\u001b[39;49m\u001b[43mexecute\u001b[49m\u001b[43m(\u001b[49m\u001b[38;5;28;43mself\u001b[39;49m\u001b[43m)\u001b[49m\n",
      "File \u001b[0;32m~/Desktop/NAWI/water-ontology/venv/lib/python3.12/site-packages/sqlalchemy/orm/unitofwork.py:577\u001b[0m, in \u001b[0;36mProcessAll.execute\u001b[0;34m(self, uow)\u001b[0m\n\u001b[1;32m    575\u001b[0m states \u001b[38;5;241m=\u001b[39m \u001b[38;5;28mself\u001b[39m\u001b[38;5;241m.\u001b[39m_elements(uow)\n\u001b[1;32m    576\u001b[0m \u001b[38;5;28;01mif\u001b[39;00m \u001b[38;5;28mself\u001b[39m\u001b[38;5;241m.\u001b[39misdelete:\n\u001b[0;32m--> 577\u001b[0m     \u001b[38;5;28;43mself\u001b[39;49m\u001b[38;5;241;43m.\u001b[39;49m\u001b[43mdependency_processor\u001b[49m\u001b[38;5;241;43m.\u001b[39;49m\u001b[43mprocess_deletes\u001b[49m\u001b[43m(\u001b[49m\u001b[43muow\u001b[49m\u001b[43m,\u001b[49m\u001b[43m \u001b[49m\u001b[43mstates\u001b[49m\u001b[43m)\u001b[49m\n\u001b[1;32m    578\u001b[0m \u001b[38;5;28;01melse\u001b[39;00m:\n\u001b[1;32m    579\u001b[0m     \u001b[38;5;28mself\u001b[39m\u001b[38;5;241m.\u001b[39mdependency_processor\u001b[38;5;241m.\u001b[39mprocess_saves(uow, states)\n",
      "File \u001b[0;32m~/Desktop/NAWI/water-ontology/venv/lib/python3.12/site-packages/sqlalchemy/orm/dependency.py:1110\u001b[0m, in \u001b[0;36mManyToManyDP.process_deletes\u001b[0;34m(self, uowcommit, states)\u001b[0m\n\u001b[1;32m   1107\u001b[0m \u001b[38;5;28;01mif\u001b[39;00m processed \u001b[38;5;129;01mis\u001b[39;00m \u001b[38;5;129;01mnot\u001b[39;00m \u001b[38;5;28;01mNone\u001b[39;00m:\n\u001b[1;32m   1108\u001b[0m     processed\u001b[38;5;241m.\u001b[39mupdate(tmp)\n\u001b[0;32m-> 1110\u001b[0m \u001b[38;5;28;43mself\u001b[39;49m\u001b[38;5;241;43m.\u001b[39;49m\u001b[43m_run_crud\u001b[49m\u001b[43m(\u001b[49m\n\u001b[1;32m   1111\u001b[0m \u001b[43m    \u001b[49m\u001b[43muowcommit\u001b[49m\u001b[43m,\u001b[49m\u001b[43m \u001b[49m\u001b[43msecondary_insert\u001b[49m\u001b[43m,\u001b[49m\u001b[43m \u001b[49m\u001b[43msecondary_update\u001b[49m\u001b[43m,\u001b[49m\u001b[43m \u001b[49m\u001b[43msecondary_delete\u001b[49m\n\u001b[1;32m   1112\u001b[0m \u001b[43m\u001b[49m\u001b[43m)\u001b[49m\n",
      "File \u001b[0;32m~/Desktop/NAWI/water-ontology/venv/lib/python3.12/site-packages/sqlalchemy/orm/dependency.py:1207\u001b[0m, in \u001b[0;36mManyToManyDP._run_crud\u001b[0;34m(self, uowcommit, secondary_insert, secondary_update, secondary_delete)\u001b[0m\n\u001b[1;32m   1202\u001b[0m     result \u001b[38;5;241m=\u001b[39m connection\u001b[38;5;241m.\u001b[39mexecute(statement, secondary_delete)\n\u001b[1;32m   1204\u001b[0m     \u001b[38;5;28;01mif\u001b[39;00m (\n\u001b[1;32m   1205\u001b[0m         result\u001b[38;5;241m.\u001b[39msupports_sane_multi_rowcount()\n\u001b[1;32m   1206\u001b[0m     ) \u001b[38;5;129;01mand\u001b[39;00m result\u001b[38;5;241m.\u001b[39mrowcount \u001b[38;5;241m!=\u001b[39m \u001b[38;5;28mlen\u001b[39m(secondary_delete):\n\u001b[0;32m-> 1207\u001b[0m         \u001b[38;5;28;01mraise\u001b[39;00m exc\u001b[38;5;241m.\u001b[39mStaleDataError(\n\u001b[1;32m   1208\u001b[0m             \u001b[38;5;124m\"\u001b[39m\u001b[38;5;124mDELETE statement on table \u001b[39m\u001b[38;5;124m'\u001b[39m\u001b[38;5;132;01m%s\u001b[39;00m\u001b[38;5;124m'\u001b[39m\u001b[38;5;124m expected to delete \u001b[39m\u001b[38;5;124m\"\u001b[39m\n\u001b[1;32m   1209\u001b[0m             \u001b[38;5;124m\"\u001b[39m\u001b[38;5;132;01m%d\u001b[39;00m\u001b[38;5;124m row(s); Only \u001b[39m\u001b[38;5;132;01m%d\u001b[39;00m\u001b[38;5;124m were matched.\u001b[39m\u001b[38;5;124m\"\u001b[39m\n\u001b[1;32m   1210\u001b[0m             \u001b[38;5;241m%\u001b[39m (\n\u001b[1;32m   1211\u001b[0m                 \u001b[38;5;28mself\u001b[39m\u001b[38;5;241m.\u001b[39msecondary\u001b[38;5;241m.\u001b[39mdescription,\n\u001b[1;32m   1212\u001b[0m                 \u001b[38;5;28mlen\u001b[39m(secondary_delete),\n\u001b[1;32m   1213\u001b[0m                 result\u001b[38;5;241m.\u001b[39mrowcount,\n\u001b[1;32m   1214\u001b[0m             )\n\u001b[1;32m   1215\u001b[0m         )\n\u001b[1;32m   1217\u001b[0m \u001b[38;5;28;01mif\u001b[39;00m secondary_update:\n\u001b[1;32m   1218\u001b[0m     associationrow \u001b[38;5;241m=\u001b[39m secondary_update[\u001b[38;5;241m0\u001b[39m]\n",
      "\u001b[0;31mStaleDataError\u001b[0m: DELETE statement on table 'deps_association_table' expected to delete 28 row(s); Only 29 were matched."
     ]
    }
   ],
   "source": [
    "templates = Library.load(directory='../warsinger/templates')\n",
    "s223 = Library.load(ontology_graph=\"../../s223/collections/MODEL_SP223_all-v1.0.ttl\")"
   ]
  },
  {
   "cell_type": "code",
   "execution_count": 4,
   "metadata": {},
   "outputs": [
    {
     "data": {
      "text/plain": [
       "[Template(_id=1, _name='brine', body=<Graph identifier=4fb58335-0fe5-4479-b25f-472bbf4c3937 (<class 'rdflib.graph.Graph'>)>, optional_args=['constituent-salt', 'constituent-water'], _bm=<buildingmotif.building_motif.building_motif.BuildingMOTIF object at 0x105a33ce0>),\n",
       " Template(_id=2, _name='constituent-salt', body=<Graph identifier=f39b70b5-02b7-4b13-9957-4e1941239fc6 (<class 'rdflib.graph.Graph'>)>, optional_args=[], _bm=<buildingmotif.building_motif.building_motif.BuildingMOTIF object at 0x105a33ce0>),\n",
       " Template(_id=3, _name='constituent-water', body=<Graph identifier=49dccaf9-df9a-46d6-b531-76b09d41fa6c (<class 'rdflib.graph.Graph'>)>, optional_args=[], _bm=<buildingmotif.building_motif.building_motif.BuildingMOTIF object at 0x105a33ce0>),\n",
       " Template(_id=4, _name='ph', body=<Graph identifier=a47df7f0-5ce6-4d8b-ae29-3e050a816633 (<class 'rdflib.graph.Graph'>)>, optional_args=[], _bm=<buildingmotif.building_motif.building_motif.BuildingMOTIF object at 0x105a33ce0>),\n",
       " Template(_id=5, _name='pressure', body=<Graph identifier=2ba5de34-2585-497d-94a1-bbfeac0f0e47 (<class 'rdflib.graph.Graph'>)>, optional_args=[], _bm=<buildingmotif.building_motif.building_motif.BuildingMOTIF object at 0x105a33ce0>),\n",
       " Template(_id=6, _name='conductivity', body=<Graph identifier=c78722f1-dff7-4e96-9261-a5268e9d1cab (<class 'rdflib.graph.Graph'>)>, optional_args=[], _bm=<buildingmotif.building_motif.building_motif.BuildingMOTIF object at 0x105a33ce0>),\n",
       " Template(_id=7, _name='temperature', body=<Graph identifier=0166a09e-6f17-408c-878d-a818ab33b845 (<class 'rdflib.graph.Graph'>)>, optional_args=[], _bm=<buildingmotif.building_motif.building_motif.BuildingMOTIF object at 0x105a33ce0>),\n",
       " Template(_id=8, _name='flow-rate', body=<Graph identifier=2de2f02d-99c2-4581-89e3-4ebf452952a4 (<class 'rdflib.graph.Graph'>)>, optional_args=[], _bm=<buildingmotif.building_motif.building_motif.BuildingMOTIF object at 0x105a33ce0>),\n",
       " Template(_id=9, _name='opening-ratio', body=<Graph identifier=0e1ac0de-010e-45ff-a23c-93ab28d77991 (<class 'rdflib.graph.Graph'>)>, optional_args=[], _bm=<buildingmotif.building_motif.building_motif.BuildingMOTIF object at 0x105a33ce0>),\n",
       " Template(_id=10, _name='on-off-command', body=<Graph identifier=62867993-1b95-4b51-875e-3791d9bad700 (<class 'rdflib.graph.Graph'>)>, optional_args=[], _bm=<buildingmotif.building_motif.building_motif.BuildingMOTIF object at 0x105a33ce0>),\n",
       " Template(_id=11, _name='speed-command', body=<Graph identifier=dbada4c0-a088-4de7-81b4-bafeb85b047e (<class 'rdflib.graph.Graph'>)>, optional_args=[], _bm=<buildingmotif.building_motif.building_motif.BuildingMOTIF object at 0x105a33ce0>),\n",
       " Template(_id=12, _name='inlet-cp', body=<Graph identifier=32167533-1cda-421e-898e-a63071549a44 (<class 'rdflib.graph.Graph'>)>, optional_args=['mapsto'], _bm=<buildingmotif.building_motif.building_motif.BuildingMOTIF object at 0x105a33ce0>),\n",
       " Template(_id=13, _name='outlet-cp', body=<Graph identifier=b2801f23-328c-4038-bc71-700b795169d7 (<class 'rdflib.graph.Graph'>)>, optional_args=['mapsto'], _bm=<buildingmotif.building_motif.building_motif.BuildingMOTIF object at 0x105a33ce0>),\n",
       " Template(_id=14, _name='bidirectional-cp', body=<Graph identifier=7f893653-517c-4754-a8d4-bef12b88b1bc (<class 'rdflib.graph.Graph'>)>, optional_args=['mapsto'], _bm=<buildingmotif.building_motif.building_motif.BuildingMOTIF object at 0x105a33ce0>),\n",
       " Template(_id=15, _name='pipe', body=<Graph identifier=d6b33ac8-95f3-419f-aafb-fffd7e03726c (<class 'rdflib.graph.Graph'>)>, optional_args=[], _bm=<buildingmotif.building_motif.building_motif.BuildingMOTIF object at 0x105a33ce0>),\n",
       " Template(_id=16, _name='tank', body=<Graph identifier=cab11b60-bcac-4623-a996-0fdb7daf8a47 (<class 'rdflib.graph.Graph'>)>, optional_args=['role', 'bi-cp', 'in', 'out'], _bm=<buildingmotif.building_motif.building_motif.BuildingMOTIF object at 0x105a33ce0>),\n",
       " Template(_id=17, _name='bladder', body=<Graph identifier=3ae42f92-dab8-43c8-9b40-60dc43495558 (<class 'rdflib.graph.Graph'>)>, optional_args=['role'], _bm=<buildingmotif.building_motif.building_motif.BuildingMOTIF object at 0x105a33ce0>),\n",
       " Template(_id=18, _name='valve', body=<Graph identifier=12dda9d9-ba2d-4576-8efe-32c490dde76c (<class 'rdflib.graph.Graph'>)>, optional_args=['role'], _bm=<buildingmotif.building_motif.building_motif.BuildingMOTIF object at 0x105a33ce0>),\n",
       " Template(_id=19, _name='filter', body=<Graph identifier=0af81718-08a2-45b0-b9d6-63c47ce50044 (<class 'rdflib.graph.Graph'>)>, optional_args=['role'], _bm=<buildingmotif.building_motif.building_motif.BuildingMOTIF object at 0x105a33ce0>),\n",
       " Template(_id=20, _name='membrane', body=<Graph identifier=86cc56a3-7290-43a8-80c7-95a780b73c95 (<class 'rdflib.graph.Graph'>)>, optional_args=['role'], _bm=<buildingmotif.building_motif.building_motif.BuildingMOTIF object at 0x105a33ce0>),\n",
       " Template(_id=21, _name='membrane-module', body=<Graph identifier=816cafb1-9da2-47b8-b236-c5328c335f92 (<class 'rdflib.graph.Graph'>)>, optional_args=['role'], _bm=<buildingmotif.building_motif.building_motif.BuildingMOTIF object at 0x105a33ce0>),\n",
       " Template(_id=22, _name='pump', body=<Graph identifier=f5319a7c-bc80-48f4-8f01-9de432a8f679 (<class 'rdflib.graph.Graph'>)>, optional_args=['role'], _bm=<buildingmotif.building_motif.building_motif.BuildingMOTIF object at 0x105a33ce0>),\n",
       " Template(_id=23, _name='check-valve', body=<Graph identifier=22809c3f-7417-4b9b-87ea-57d529bb27d8 (<class 'rdflib.graph.Graph'>)>, optional_args=['role'], _bm=<buildingmotif.building_motif.building_motif.BuildingMOTIF object at 0x105a33ce0>),\n",
       " Template(_id=24, _name='vfd', body=<Graph identifier=beccfd0a-94d6-4f89-abfd-970cdc94f9f1 (<class 'rdflib.graph.Graph'>)>, optional_args=['role'], _bm=<buildingmotif.building_motif.building_motif.BuildingMOTIF object at 0x105a33ce0>),\n",
       " Template(_id=25, _name='pump-with-vfd', body=<Graph identifier=2c65c9fb-d5a3-41a6-a522-e748261b5216 (<class 'rdflib.graph.Graph'>)>, optional_args=[], _bm=<buildingmotif.building_motif.building_motif.BuildingMOTIF object at 0x105a33ce0>),\n",
       " Template(_id=26, _name='controller', body=<Graph identifier=b8165891-27d2-4990-a0e6-ab1a202b4286 (<class 'rdflib.graph.Graph'>)>, optional_args=[], _bm=<buildingmotif.building_motif.building_motif.BuildingMOTIF object at 0x105a33ce0>)]"
      ]
     },
     "execution_count": 4,
     "metadata": {},
     "output_type": "execute_result"
    }
   ],
   "source": [
    "templates.get_templates()"
   ]
  },
  {
   "cell_type": "code",
   "execution_count": 5,
   "metadata": {},
   "outputs": [],
   "source": [
    "tank_temp = templates.get_template_by_name('tank')\n",
    "filter_temp = templates.get_template_by_name('filter')\n",
    "pipe_temp = templates.get_template_by_name('pipe')\n",
    "bladder_temp = templates.get_template_by_name('bladder')\n",
    "membrane_module_temp = templates.get_template_by_name('membrane-module')\n",
    "pump_temp = templates.get_template_by_name('pump')\n",
    "valve_temp = templates.get_template_by_name('valve')\n",
    "check_valve_temp = templates.get_template_by_name('check-valve')"
   ]
  },
  {
   "cell_type": "code",
   "execution_count": 6,
   "metadata": {},
   "outputs": [],
   "source": [
    "membrane_module_temp = templates.get_template_by_name('membrane-module')"
   ]
  },
  {
   "cell_type": "code",
   "execution_count": 7,
   "metadata": {},
   "outputs": [],
   "source": [
    "a = membrane_module_temp.get_dependencies()[2]"
   ]
  },
  {
   "cell_type": "code",
   "execution_count": 8,
   "metadata": {},
   "outputs": [
    {
     "name": "stdout",
     "output_type": "stream",
     "text": [
      "WARNING: Automatically filling dependency for:  membrane\n"
     ]
    }
   ],
   "source": [
    "dependencies = membrane_module_temp.get_dependencies()\n",
    "for dep in dependencies:\n",
    "    # TODO: Shouldn't do this, only works for the simplest contained equipment e.g. membraine module\n",
    "    if dep.args['name'] not in (['in', 'out', 'role']):\n",
    "        print(\"WARNING: Automatically filling dependency for: \", dep.args['name'])\n",
    "    "
   ]
  },
  {
   "cell_type": "code",
   "execution_count": 9,
   "metadata": {},
   "outputs": [],
   "source": [
    "DEFAULT_MEDIUM = S223['Medium-Water']\n",
    "# this needs correcting\n",
    "CONTROL_MEDIUM = S223['Medium-Electricity']\n",
    "ADD_ALL_CNX_RELATIONS = True\n",
    "def remove_optional(graph):\n",
    "    # TODO: Probably not supposed to do this, how should I actually use templates and optional params?\n",
    "    # Probably a better way to compose templates - definitely for hasRole, not sure for mapsTo\n",
    "    # Works for this case, not where there are more things stemming from optional params, maybe should instead be done with template builder or removing dependencies? \n",
    "    graph.update('DELETE {wbs:delete ?p ?o} WHERE { wbs:delete ?p ?o . }')\n",
    "    graph.update('DELETE {?s ?p wbs:delete} WHERE { ?s ?p wbs:delete . }')\n",
    "\n",
    "def create_equipment(equip_name, equip_temp, optional_dict = {}, in_medium = DEFAULT_MEDIUM, out_medium = DEFAULT_MEDIUM, role = None):\n",
    "    equip_dict = {'in': WBS[f'{equip_name}-in'],\n",
    "    'in-medium': in_medium,\n",
    "    'name': WBS[f'{equip_name}'],\n",
    "    'out': WBS[f'{equip_name}-out'],\n",
    "    'out-medium': out_medium,\n",
    "    }\n",
    "    if role:\n",
    "        equip_dict['role'] = role\n",
    "\n",
    "    equip = equip_temp.inline_dependencies().evaluate(equip_dict)\n",
    "    if isinstance(equip, Graph):\n",
    "        print(\"EQUIP HAS ALL NEEDED PROPERTIES: \", equip_name)\n",
    "        equip_graph = equip\n",
    "    else:\n",
    "        print(\"DELETING TEMPLATE PARAMETERS: \", equip.parameters)\n",
    "        equip_graph = equip.evaluate({param: WBS['delete'] for param in equip.parameters})\n",
    "        remove_optional(equip_graph)\n",
    "    wbs.add_graph(equip_graph)\n",
    "    return equip_dict\n",
    "\n",
    "def connect_equipment(source_dict, target_dict, source_cp = 'out', target_cp = 'in', conn_temp = pipe_temp, all_relations = ADD_ALL_CNX_RELATIONS):\n",
    "    # take dictionary of source_uri equipment and outlet equipment, and connect them\n",
    "    # Having source_cp and target_cp as dictionary keys may be confusing\n",
    "    source_uri = source_dict['name']\n",
    "    target_uri = target_dict['name']\n",
    "    source_cp_uri = source_dict[source_cp]\n",
    "    target_cp_uri = target_dict[target_cp]\n",
    "    connection_uri = WBS[f'conn-{get_uri_end(source_uri)}-to-{get_uri_end(target_uri)}']\n",
    "\n",
    "    conn_dict = {\n",
    "            'in': source_cp_uri,\n",
    "            'out': target_cp_uri,\n",
    "            'name': connection_uri\n",
    "        }\n",
    "    # Template doesn't actually rely on in and out, just keeping these names for consistency\n",
    "    conn_graph = conn_temp.inline_dependencies().evaluate(conn_dict)\n",
    "    # Just adding these so we can skip inference, all below programmatically added by inference rules\n",
    "    if all_relations:\n",
    "        # Top level connections\n",
    "        wbs.graph.add((source_uri, S223['connected'], target_uri))\n",
    "        wbs.graph.add((source_uri, S223['connectedTo'], target_uri))\n",
    "\n",
    "        # source_uri relationships\n",
    "        wbs.graph.add((source_uri, S223['hasConnectionPoint'], source_cp_uri))\n",
    "        wbs.graph.add((source_uri, S223['cnx'], source_cp_uri))\n",
    "        # wbs.graph.add((source_cp_uri, S223['isConnectionPointOf'], source_uri))\n",
    "        wbs.graph.add((source_uri, S223['connectedThrough'], connection_uri))\n",
    "\n",
    "        # target_uri relationships\n",
    "        wbs.graph.add((target_uri, S223['hasConnectionPoint'], target_cp_uri))\n",
    "        wbs.graph.add((target_uri, S223['cnx'], target_cp_uri))\n",
    "        # wbs.graph.add((target_cp_uri, S223['isConnectionPointOf'], target_uri))\n",
    "        wbs.graph.add((target_uri, S223['connectedThrough'], connection_uri))\n",
    "\n",
    "        # C relationships\n",
    "        wbs.graph.add((connection_uri, S223['connectsTo'], target_uri))\n",
    "        wbs.graph.add((connection_uri, S223['connectsFrom'], source_uri))\n",
    "        wbs.graph.add((connection_uri, S223['cnx'], target_cp_uri))\n",
    "        wbs.graph.add((connection_uri, S223['cnx'], source_cp_uri))\n",
    "\n",
    "        # Connection point relationships\n",
    "        wbs.graph.add((source_cp_uri, S223['connectsThrough'], connection_uri))\n",
    "        wbs.graph.add((source_cp_uri, S223['connectsAt'], connection_uri))\n",
    "        wbs.graph.add((target_cp_uri, S223['connectsThrough'], connection_uri))\n",
    "        wbs.graph.add((target_cp_uri, S223['connectsAt'], connection_uri))\n",
    "    wbs.add_graph(conn_graph)\n",
    "    return conn_dict\n",
    "def get_uri_end(uri_ref):\n",
    "    uri_str = str(uri_ref)\n",
    "    match = re.search(r'[^/#]+$', uri_str)\n",
    "    if match:\n",
    "        return match.group(0)\n",
    "    else:\n",
    "        print(\"No match found, providing empty string\")\n",
    "        return \"\"\n",
    "\n",
    "def get_unique_uri(uri):\n",
    "    base_uri = str(uri)\n",
    "    # I guess start at 2 since first ones are not numbered\n",
    "    count = 2\n",
    "    new_uri = URIRef(base_uri)\n",
    "    # Check if the URI already exists in the graph\n",
    "    while (new_uri, None, None) in wbs.graph or (None, None, new_uri) in wbs.graph:\n",
    "        # Append an incremented number if it already exists\n",
    "        new_uri = URIRef(f\"{base_uri}-{count}\")\n",
    "        count += 1\n",
    "    return new_uri\n",
    "\n",
    "def add_properties(target, property_names):\n",
    "    prop_dict = {prop: WBS[f\"{get_uri_end(target)}-{prop}\"] for prop in property_names}\n",
    "    for prop, prop_uri in prop_dict.items():\n",
    "        property = templates.get_template_by_name(prop).evaluate({'name': prop_uri})\n",
    "        wbs.add_graph(property)\n",
    "        wbs.graph.add((target, S223['hasProperty'], prop_uri))\n",
    "    return prop_dict\n",
    "\n",
    "def make_brine(salt_percent):\n",
    "    # Takes salt percent as percent value between 0-100\n",
    "    brine_temp = templates.get_template_by_name('brine')\n",
    "    brine_dict = {\n",
    "        'name': WBS[f'brine-{salt_percent}'],\n",
    "        'salt-value': Literal(salt_percent),\n",
    "        'salt-name': WBS[f'salt-{salt_percent}'],\n",
    "        'water-value': Literal(100 - salt_percent),\n",
    "        'water-name': WBS[f'water-{100-salt_percent}']\n",
    "    }\n",
    "    brine = brine_temp.inline_dependencies().evaluate(brine_dict)\n",
    "    wbs.add_graph(brine)\n",
    "    return brine_dict\n",
    "\n",
    "def add_connection_point(equip_dict, cp_type = 'inlet-cp', medium = DEFAULT_MEDIUM):\n",
    "    # could provide option to name point as input \n",
    "    name = get_unique_uri(WBS[f'{get_uri_end(equip_dict[\"name\"])}-{cp_type}'])\n",
    "\n",
    "    cp_dict = {\n",
    "        'name': name,\n",
    "        'medium': medium\n",
    "    }\n",
    "    cp_graph = templates.get_template_by_name(cp_type).inline_dependencies().evaluate(cp_dict)\n",
    "    if isinstance(cp_graph, Graph):\n",
    "        print(\"CP HAS ALL NEEDED PROPERTIES: \", name)\n",
    "        cp_graph = cp_graph\n",
    "    else:\n",
    "        print(\"DELETING TEMPLATE PARAMETERS: \", cp_graph.parameters)\n",
    "        cp_graph = cp_graph.evaluate({param: WBS['delete'] for param in cp_graph.parameters})\n",
    "        remove_optional(cp_graph)\n",
    "    wbs.add_graph(cp_graph)\n",
    "    wbs.graph.add((equip_dict['name'], S223['hasConnectionPoint'], cp_dict['name']))\n",
    "    wbs.graph.add((equip_dict['name'], S223['cnx'], cp_dict['name']))\n",
    "    \n",
    "    count = 1\n",
    "    equip_cp_key = cp_type\n",
    "    while equip_cp_key in equip_dict.keys():\n",
    "        equip_cp_key = f'{cp_type}-{count}'\n",
    "        count += 1\n",
    "    equip_dict[equip_cp_key] = name\n",
    "    return equip_cp_key\n",
    "\n",
    "def add_vfd_to_pump(equip_dict, control_medium = CONTROL_MEDIUM):\n",
    "    # Should be a controls medium, will update\n",
    "    # partly mapped arguments in template, should decide what to do about that\n",
    "    equip_dict.update({'vfd-name': get_unique_uri(WBS[f'{get_uri_end(equip_dict[\"name\"])}-vfd']), \n",
    "                        'pump-name': get_unique_uri(WBS[f'{get_uri_end(equip_dict[\"name\"])}-pump']), \n",
    "                        'elec-in': get_unique_uri(WBS[f'{get_uri_end(equip_dict[\"name\"])}-elec-in']),\n",
    "                        'elec-in-medium': control_medium,\n",
    "                        'pump-name-out-medium': equip_dict['in-medium'],\n",
    "                        'pump-elec-in': get_unique_uri(WBS[f'{get_uri_end(equip_dict[\"name\"])}-pump-elec-in']), \n",
    "                        'pump-out': get_unique_uri(WBS[f'{get_uri_end(equip_dict[\"name\"])}-pump-out']), \n",
    "                        'on-off-command': get_unique_uri(WBS[f'{get_uri_end(equip_dict[\"name\"])}-on-off-command']),\n",
    "                        'speed-command': get_unique_uri(WBS[f'{get_uri_end(equip_dict[\"name\"])}-speed-command']), \n",
    "                        'elec-medium': control_medium,\n",
    "                        'vfd-name-out-medium': control_medium,\n",
    "                        'vfd-out': get_unique_uri(WBS[f'{get_uri_end(equip_dict[\"name\"])}-vfd-out']),\n",
    "                        'vfd-in': get_unique_uri(WBS[f'{get_uri_end(equip_dict[\"name\"])}-vfd-in']),\n",
    "                        'vfd-name-in-medium': control_medium,\n",
    "                        'pump-name-in-medium': equip_dict['in-medium'],\n",
    "                        'pump-in': get_unique_uri(WBS[f'{get_uri_end(equip_dict[\"name\"])}-pump-in']),})\n",
    "    vfd_pump_graph = templates.get_template_by_name('pump-with-vfd').inline_dependencies().evaluate(equip_dict)\n",
    "    if isinstance(vfd_pump_graph, Graph):\n",
    "        print(\"PUMP WITH VFD HAS ALL NEEDED PROPERTIES: \", equip_dict['name'])\n",
    "    else:\n",
    "        print(\"DELETING TEMPLATE PARAMETERS: \", vfd_pump_graph.parameters)\n",
    "        vfd_pump_graph = vfd_pump_graph.evaluate({param: WBS['delete'] for param in vfd_pump_graph.parameters})\n",
    "        remove_optional(vfd_pump_graph)\n",
    "    wbs.add_graph(vfd_pump_graph)\n",
    "    return equip_dict\n",
    "def add_controller(name, equip_dict_list, control_medium = CONTROL_MEDIUM):\n",
    "    controller_dict = {'name': name}\n",
    "    controller_graph = templates.get_template_by_name('controller').inline_dependencies().evaluate(controller_dict)\n",
    "    wbs.add_graph(controller_graph)\n",
    "    for equip_dict in equip_dict_list:\n",
    "        cp_name = add_connection_point(controller_dict, 'outlet-cp', control_medium)\n",
    "        connect_equipment(controller_dict, equip_dict,\n",
    "                        cp_name,\n",
    "                        'elec-in')\n",
    "    return controller_dict\n",
    "    "
   ]
  },
  {
   "cell_type": "code",
   "execution_count": 10,
   "metadata": {},
   "outputs": [],
   "source": [
    "brine_temp = templates.get_template_by_name('brine').inline_dependencies()"
   ]
  },
  {
   "cell_type": "code",
   "execution_count": 11,
   "metadata": {},
   "outputs": [
    {
     "data": {
      "text/plain": [
       "{'name': rdflib.term.URIRef('urn:ex/brine-3.5'),\n",
       " 'salt-value': rdflib.term.Literal('3.5', datatype=rdflib.term.URIRef('http://www.w3.org/2001/XMLSchema#double')),\n",
       " 'salt-name': rdflib.term.URIRef('urn:ex/salt-3.5'),\n",
       " 'water-value': rdflib.term.Literal('96.5', datatype=rdflib.term.URIRef('http://www.w3.org/2001/XMLSchema#double')),\n",
       " 'water-name': rdflib.term.URIRef('urn:ex/water-96.5')}"
      ]
     },
     "execution_count": 11,
     "metadata": {},
     "output_type": "execute_result"
    }
   ],
   "source": [
    "make_brine(3.5)"
   ]
  },
  {
   "cell_type": "code",
   "execution_count": 12,
   "metadata": {},
   "outputs": [
    {
     "name": "stdout",
     "output_type": "stream",
     "text": [
      "DELETING TEMPLATE PARAMETERS:  {'bi-cp-medium', 'bi-cp', 'out-mapsto', 'bi-cp-mapsto', 'in-mapsto'}\n",
      "EQUIP HAS ALL NEEDED PROPERTIES:  supply-valve\n",
      "EQUIP HAS ALL NEEDED PROPERTIES:  supply-filter\n",
      "EQUIP HAS ALL NEEDED PROPERTIES:  three-way-valve-1\n",
      "CP HAS ALL NEEDED PROPERTIES:  urn:ex/three-way-valve-1-inlet-cp\n",
      "EQUIP HAS ALL NEEDED PROPERTIES:  circulation-pump\n",
      "EQUIP HAS ALL NEEDED PROPERTIES:  check-valve\n",
      "EQUIP HAS ALL NEEDED PROPERTIES:  bladder\n",
      "EQUIP HAS ALL NEEDED PROPERTIES:  check-valve-2\n",
      "DELETING TEMPLATE PARAMETERS:  {'membrane-out-medium', 'membrane-out-mapsto', 'membrane-in', 'membrane-in-mapsto', 'membrane-role', 'membrane-out', 'out-mapsto', 'membrane-in-medium', 'role', 'in-mapsto', 'membrane'}\n",
      "DELETING TEMPLATE PARAMETERS:  {'out-mapsto', 'in-mapsto'}\n",
      "EQUIP HAS ALL NEEDED PROPERTIES:  three-way-valve-2\n",
      "CP HAS ALL NEEDED PROPERTIES:  urn:ex/three-way-valve-2-outlet-cp\n",
      "DELETING TEMPLATE PARAMETERS:  {'bi-cp-medium', 'bi-cp', 'out-mapsto', 'bi-cp-mapsto', 'role', 'in-mapsto'}\n",
      "CP HAS ALL NEEDED PROPERTIES:  urn:ex/membrane-module-outlet-cp\n",
      "EQUIP HAS ALL NEEDED PROPERTIES:  permeate-valve\n"
     ]
    },
    {
     "name": "stderr",
     "output_type": "stream",
     "text": [
      "/Users/lazlopaul/Desktop/NAWI/water-ontology/venv/lib/python3.12/site-packages/buildingmotif/dataclasses/template.py:372: UserWarning: Parameters \"bi-cp, out-mapsto, bi-cp-mapsto, in-mapsto, bi-cp-medium\" were not provided during evaluation\n",
      "  warnings.warn(\n",
      "/Users/lazlopaul/Desktop/NAWI/water-ontology/venv/lib/python3.12/site-packages/buildingmotif/dataclasses/template.py:372: UserWarning: Parameters \"membrane-out-medium, membrane-out-mapsto, membrane-in, membrane-in-mapsto, membrane-role, membrane-out, out-mapsto, membrane-in-medium, role, in-mapsto, membrane\" were not provided during evaluation\n",
      "  warnings.warn(\n",
      "/Users/lazlopaul/Desktop/NAWI/water-ontology/venv/lib/python3.12/site-packages/buildingmotif/dataclasses/template.py:372: UserWarning: Parameters \"out-mapsto, in-mapsto\" were not provided during evaluation\n",
      "  warnings.warn(\n",
      "/Users/lazlopaul/Desktop/NAWI/water-ontology/venv/lib/python3.12/site-packages/buildingmotif/dataclasses/template.py:372: UserWarning: Parameters \"bi-cp, out-mapsto, bi-cp-mapsto, role, in-mapsto, bi-cp-medium\" were not provided during evaluation\n",
      "  warnings.warn(\n"
     ]
    },
    {
     "name": "stdout",
     "output_type": "stream",
     "text": [
      "DELETING TEMPLATE PARAMETERS:  {'bi-cp-medium', 'bi-cp', 'out-mapsto', 'bi-cp-mapsto', 'role', 'in-mapsto'}\n",
      "CP HAS ALL NEEDED PROPERTIES:  urn:ex/bladder-bidirectional-cp\n",
      "EQUIP HAS ALL NEEDED PROPERTIES:  bladder-valve\n",
      "CP HAS ALL NEEDED PROPERTIES:  urn:ex/bladder-valve-bidirectional-cp\n",
      "EQUIP HAS ALL NEEDED PROPERTIES:  check-valve-bladder-to-makeup\n",
      "EQUIP HAS ALL NEEDED PROPERTIES:  check-valve-makeup-to-bladder\n",
      "DELETING TEMPLATE PARAMETERS:  {'bi-cp-medium', 'bi-cp', 'out-mapsto', 'bi-cp-mapsto', 'in-mapsto'}\n",
      "EQUIP HAS ALL NEEDED PROPERTIES:  makeup-tank-valve\n",
      "EQUIP HAS ALL NEEDED PROPERTIES:  makeup-tank-filter\n",
      "EQUIP HAS ALL NEEDED PROPERTIES:  high-pressure-pump\n",
      "DELETING TEMPLATE PARAMETERS:  {'out-mapsto', 'in-mapsto'}\n"
     ]
    }
   ],
   "source": [
    "# need to re-examine brine percentages, kind of random, not sure how many different percentages there are\n",
    "supply_water_dict = make_brine(3.5)\n",
    "pre_membrane_brine_water_dict = make_brine(10)\n",
    "brine_water_dict = make_brine(20)\n",
    "permeate_water_dict = make_brine(0.05)\n",
    "# makeup shoulld be same as pre-membrane brine, but not sure\n",
    "\n",
    "DEFAULT_MEDIUM = supply_water_dict['name']\n",
    "\n",
    "supply_dict = create_equipment(\"supply-tank\", tank_temp, role = S223['Role-Supply'])\n",
    "supply_prop_dict = add_properties(supply_dict['out'], ['ph','temperature','conductivity'])\n",
    "supply_valve_dict = create_equipment(\"supply-valve\", valve_temp)\n",
    "supply_conn_dict = connect_equipment(supply_dict, supply_valve_dict)\n",
    "supply_filter_dict = create_equipment(\"supply-filter\", filter_temp)\n",
    "supply_valve_conn_dict = connect_equipment(supply_valve_dict, supply_filter_dict)\n",
    "\n",
    "three_way_valve_1_dict = create_equipment(\"three-way-valve-1\", valve_temp, out_medium=pre_membrane_brine_water_dict['name'])\n",
    "three_way_valve_1_inlet_cp = add_connection_point(three_way_valve_1_dict, 'inlet-cp')\n",
    "supply_filter_conn_dict = connect_equipment(supply_filter_dict, three_way_valve_1_dict)\n",
    "\n",
    "DEFAULT_MEDIUM = pre_membrane_brine_water_dict['name']\n",
    "\n",
    "# Pump should have VFD - other properties associated with that\n",
    "circulation_pump_dict = create_equipment(\"circulation-pump\", pump_temp)\n",
    "three_way_valve_1_conn_dict = connect_equipment(three_way_valve_1_dict, circulation_pump_dict)\n",
    "# Didn't asign a unit to pressure yet, maybe also want to make it differential on inlet and outlet of pump\n",
    "circulation_pump_prop_dict = add_properties(circulation_pump_dict['name'], ['pressure'])\n",
    "check_valve_dict = create_equipment(\"check-valve\", check_valve_temp)\n",
    "check_valve_prop_dict = add_properties(check_valve_dict['in'], ['flow-rate'])\n",
    "circulation_pump_conn_dict = connect_equipment(circulation_pump_dict, check_valve_dict)\n",
    "bladder_dict = create_equipment(\"bladder\", bladder_temp)\n",
    "check_valve_conn_dict = connect_equipment(check_valve_dict, bladder_dict)\n",
    "check_valve_2_dict = create_equipment(\"check-valve-2\", check_valve_temp)\n",
    "bladder_conn_dict = connect_equipment(bladder_dict, check_valve_2_dict)\n",
    "# Membrane module probably has multiple modules, may need to build it differently, also needs multiple connection points\n",
    "membrane_module_dict = create_equipment(\"membrane-module\", membrane_module_temp, out_medium=brine_water_dict['name'])\n",
    "connect_equipment(check_valve_2_dict, membrane_module_dict)\n",
    "\n",
    "DEFAULT_MEDIUM = brine_water_dict['name']\n",
    "\n",
    "membrane_module_prop_dict = add_properties(membrane_module_dict['name'], ['pressure'])\n",
    "relief_valve_dict = create_equipment(\"relief-valve\", valve_temp, role = S223['Role-Relief'])\n",
    "connect_equipment(membrane_module_dict, relief_valve_dict)\n",
    "relief_valve_prop = add_properties(relief_valve_dict['out'], ['temperature'])\n",
    "\n",
    "three_way_valve_2_dict = create_equipment(\"three-way-valve-2\", valve_temp)\n",
    "three_way_valve_2_outlet_cp = add_connection_point(three_way_valve_2_dict, 'outlet-cp')\n",
    "connect_equipment(relief_valve_dict, three_way_valve_2_dict)\n",
    "# connecting three way valves \n",
    "connect_equipment(three_way_valve_2_dict, three_way_valve_1_dict, source_cp = three_way_valve_2_outlet_cp, target_cp= three_way_valve_1_inlet_cp)\n",
    "\n",
    "brine_tank_dict = create_equipment(\"brine-tank\", tank_temp, in_medium=brine_water_dict['name'], out_medium=brine_water_dict['name'])\n",
    "brine_tank_prop_dict = add_properties(brine_tank_dict['in'], ['ph','conductivity'])\n",
    "connect_equipment(three_way_valve_1_dict, brine_tank_dict)\n",
    "\n",
    "DEFAULT_MEDIUM = permeate_water_dict['name']\n",
    "\n",
    "membrane_module_outlet_cp = add_connection_point(membrane_module_dict, 'outlet-cp')\n",
    "permeate_valve_dict = create_equipment(\"permeate-valve\", valve_temp)\n",
    "connect_equipment(membrane_module_dict, permeate_valve_dict, source_cp = membrane_module_outlet_cp)\n",
    "permeate_tank_dict = create_equipment(\"permeate-tank\", tank_temp)\n",
    "add_properties(permeate_tank_dict['in'], ['ph','flow-rate','conductivity'])\n",
    "connect_equipment(permeate_valve_dict, permeate_tank_dict)\n",
    "\n",
    "#Maybe it's just water in the makeup tank\n",
    "DEFAULT_MEDIUM = S223['Medium-Water']\n",
    "\n",
    "bladder_bidirectional_cp = add_connection_point(bladder_dict, 'bidirectional-cp')\n",
    "bladder_valve_dict = create_equipment(\"bladder-valve\", valve_temp)\n",
    "bladder_valve_bidirectional_cp = add_connection_point(bladder_valve_dict, 'bidirectional-cp')\n",
    "# Check if some inferencing or adjustment to this function is needed for bidirectional equips\n",
    "connect_equipment(bladder_dict, bladder_valve_dict, source_cp = bladder_bidirectional_cp, target_cp = bladder_valve_bidirectional_cp)\n",
    "check_valve_bladder_makeup_dict = create_equipment(\"check-valve-bladder-to-makeup\", check_valve_temp)\n",
    "connect_equipment(bladder_valve_dict, check_valve_bladder_makeup_dict)\n",
    "check_valve_makeup_bladder_dict = create_equipment(\"check-valve-makeup-to-bladder\", check_valve_temp)\n",
    "connect_equipment(check_valve_makeup_bladder_dict, bladder_valve_dict)\n",
    "# Rather than adding connection points - would probably be useful to create accurate templates that map 223P to brick-like objects\n",
    "makeup_tank_dict = create_equipment(\"makeup-tank\", tank_temp, role = S223['Role-Makeup'])\n",
    "makeup_tank_valve_dict = create_equipment(\"makeup-tank-valve\", valve_temp)\n",
    "connect_equipment(makeup_tank_dict, makeup_tank_valve_dict)\n",
    "makeup_tank_filter_dict = create_equipment(\"makeup-tank-filter\", filter_temp)\n",
    "connect_equipment(makeup_tank_valve_dict, makeup_tank_filter_dict)\n",
    "# Filter needs VFD\n",
    "high_pressure_pump_dict = create_equipment(\"high-pressure-pump\", pump_temp)\n",
    "connect_equipment(makeup_tank_filter_dict, high_pressure_pump_dict)\n",
    "high_pressure_pump_relief_valve_dict = create_equipment(\"high-pressure-pump-relief-valve\", pump_temp, role=S223['Role-Relief'])\n",
    "connect_equipment(high_pressure_pump_dict, high_pressure_pump_relief_valve_dict)\n",
    "# Perhaps these properties should be on the connection \n",
    "# Need a convention - properties not essential to an equipment are on the connection rather than inlet/outlet? Properties usually on inlet/outlets?\n",
    "makeup_line_prop_dict = add_properties(check_valve_makeup_bladder_dict['in'], ['pressure','flow-rate'])\n"
   ]
  },
  {
   "cell_type": "code",
   "execution_count": 13,
   "metadata": {},
   "outputs": [
    {
     "name": "stdout",
     "output_type": "stream",
     "text": [
      "PUMP WITH VFD HAS ALL NEEDED PROPERTIES:  urn:ex/circulation-pump\n",
      "PUMP WITH VFD HAS ALL NEEDED PROPERTIES:  urn:ex/high-pressure-pump\n",
      "CP HAS ALL NEEDED PROPERTIES:  urn:ex/pump-controller-outlet-cp\n",
      "CP HAS ALL NEEDED PROPERTIES:  urn:ex/pump-controller-outlet-cp-2\n"
     ]
    },
    {
     "data": {
      "text/plain": [
       "{'name': rdflib.term.URIRef('urn:ex/pump-controller'),\n",
       " 'outlet-cp': rdflib.term.URIRef('urn:ex/pump-controller-outlet-cp'),\n",
       " 'outlet-cp-1': rdflib.term.URIRef('urn:ex/pump-controller-outlet-cp-2')}"
      ]
     },
     "execution_count": 13,
     "metadata": {},
     "output_type": "execute_result"
    }
   ],
   "source": [
    "# adding control network \n",
    "circulation_pump_dict = add_vfd_to_pump(circulation_pump_dict)\n",
    "high_pressure_pump_dict = add_vfd_to_pump(high_pressure_pump_dict)\n",
    "# adding controller \n",
    "add_controller(WBS[\"pump-controller\"], [circulation_pump_dict, high_pressure_pump_dict])"
   ]
  },
  {
   "cell_type": "code",
   "execution_count": 14,
   "metadata": {},
   "outputs": [
    {
     "data": {
      "text/plain": [
       "<Graph identifier=b665cfc5-a199-4c4b-9db1-f6e19bc10ad0 (<class 'rdflib.graph.Graph'>)>"
      ]
     },
     "execution_count": 14,
     "metadata": {},
     "output_type": "execute_result"
    }
   ],
   "source": [
    "wbs.graph.serialize(\"warsinger-bladder-model.ttl\", format=\"turtle\")"
   ]
  },
  {
   "cell_type": "code",
   "execution_count": 15,
   "metadata": {},
   "outputs": [],
   "source": [
    "# Create property graph for pyvis based on templates or dictionaries?\n",
    "# Probably better to do based on queries. "
   ]
  },
  {
   "cell_type": "code",
   "execution_count": 16,
   "metadata": {},
   "outputs": [
    {
     "data": {
      "text/plain": [
       "<Graph identifier=b665cfc5-a199-4c4b-9db1-f6e19bc10ad0 (<class 'rdflib.graph.Graph'>)>"
      ]
     },
     "execution_count": 16,
     "metadata": {},
     "output_type": "execute_result"
    }
   ],
   "source": [
    "wbs.graph.parse('../../s223/collections/MODEL_SP223_all-v1.0.ttl', format=\"turtle\")\n",
    "# wbs.graph.parse('../../water/', format=\"turtle\")"
   ]
  },
  {
   "cell_type": "code",
   "execution_count": null,
   "metadata": {},
   "outputs": [],
   "source": []
  }
 ],
 "metadata": {
  "kernelspec": {
   "display_name": "venv",
   "language": "python",
   "name": "python3"
  },
  "language_info": {
   "codemirror_mode": {
    "name": "ipython",
    "version": 3
   },
   "file_extension": ".py",
   "mimetype": "text/x-python",
   "name": "python",
   "nbconvert_exporter": "python",
   "pygments_lexer": "ipython3",
   "version": "3.12.4"
  }
 },
 "nbformat": 4,
 "nbformat_minor": 2
}
