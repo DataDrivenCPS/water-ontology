{
 "cells": [
  {
   "cell_type": "code",
   "execution_count": 417,
   "metadata": {},
   "outputs": [],
   "source": [
    "from rdflib import Namespace, Graph, Literal, URIRef\n",
    "import re\n",
    "from buildingmotif import BuildingMOTIF\n",
    "from buildingmotif.dataclasses import Library, Model\n",
    "from buildingmotif.namespaces import bind_prefixes"
   ]
  },
  {
   "cell_type": "code",
   "execution_count": 418,
   "metadata": {},
   "outputs": [],
   "source": [
    "# setup our buildingmotif instance\n",
    "bm = BuildingMOTIF(\"sqlite://\")\n",
    "\n",
    "# create the model w/ a namespace\n",
    "BLDG = Namespace(\"urn:ex/\")\n",
    "S223 = Namespace(\"http://data.ashrae.org/standard223#\")\n",
    "bldg = Model.create(BLDG)\n",
    "bind_prefixes(bldg.graph)\n",
    "bldg.graph.bind(\"bldg\", BLDG)\n",
    "bldg.graph.bind(\"s223\", S223)\n",
    "\n",
    "things = []"
   ]
  },
  {
   "cell_type": "code",
   "execution_count": 419,
   "metadata": {},
   "outputs": [
    {
     "name": "stderr",
     "output_type": "stream",
     "text": [
      "/Users/lazlopaul/Desktop/NAWI/water-ontology/venv/lib/python3.12/site-packages/buildingmotif/database/table_connection.py:423: SAWarning: Identity map already had an identity for (<class 'buildingmotif.database.tables.DepsAssociation'>, (1,), None), replacing it with newly flushed object.   Are there load operations occurring inside of an event handler within the flush?\n",
      "  self.bm.session.flush()\n",
      "/Users/lazlopaul/Desktop/NAWI/water-ontology/venv/lib/python3.12/site-packages/buildingmotif/database/table_connection.py:423: SAWarning: Identity map already had an identity for (<class 'buildingmotif.database.tables.DepsAssociation'>, (2,), None), replacing it with newly flushed object.   Are there load operations occurring inside of an event handler within the flush?\n",
      "  self.bm.session.flush()\n",
      "/Users/lazlopaul/Desktop/NAWI/water-ontology/venv/lib/python3.12/site-packages/buildingmotif/database/table_connection.py:423: SAWarning: Identity map already had an identity for (<class 'buildingmotif.database.tables.DepsAssociation'>, (3,), None), replacing it with newly flushed object.   Are there load operations occurring inside of an event handler within the flush?\n",
      "  self.bm.session.flush()\n",
      "/Users/lazlopaul/Desktop/NAWI/water-ontology/venv/lib/python3.12/site-packages/buildingmotif/database/table_connection.py:423: SAWarning: Identity map already had an identity for (<class 'buildingmotif.database.tables.DepsAssociation'>, (4,), None), replacing it with newly flushed object.   Are there load operations occurring inside of an event handler within the flush?\n",
      "  self.bm.session.flush()\n",
      "/Users/lazlopaul/Desktop/NAWI/water-ontology/venv/lib/python3.12/site-packages/buildingmotif/database/table_connection.py:423: SAWarning: Identity map already had an identity for (<class 'buildingmotif.database.tables.DepsAssociation'>, (5,), None), replacing it with newly flushed object.   Are there load operations occurring inside of an event handler within the flush?\n",
      "  self.bm.session.flush()\n",
      "/Users/lazlopaul/Desktop/NAWI/water-ontology/venv/lib/python3.12/site-packages/buildingmotif/database/table_connection.py:423: SAWarning: Identity map already had an identity for (<class 'buildingmotif.database.tables.DepsAssociation'>, (6,), None), replacing it with newly flushed object.   Are there load operations occurring inside of an event handler within the flush?\n",
      "  self.bm.session.flush()\n",
      "/Users/lazlopaul/Desktop/NAWI/water-ontology/venv/lib/python3.12/site-packages/buildingmotif/database/table_connection.py:423: SAWarning: Identity map already had an identity for (<class 'buildingmotif.database.tables.DepsAssociation'>, (7,), None), replacing it with newly flushed object.   Are there load operations occurring inside of an event handler within the flush?\n",
      "  self.bm.session.flush()\n",
      "/Users/lazlopaul/Desktop/NAWI/water-ontology/venv/lib/python3.12/site-packages/buildingmotif/database/table_connection.py:423: SAWarning: Identity map already had an identity for (<class 'buildingmotif.database.tables.DepsAssociation'>, (8,), None), replacing it with newly flushed object.   Are there load operations occurring inside of an event handler within the flush?\n",
      "  self.bm.session.flush()\n",
      "/Users/lazlopaul/Desktop/NAWI/water-ontology/venv/lib/python3.12/site-packages/buildingmotif/database/table_connection.py:423: SAWarning: Identity map already had an identity for (<class 'buildingmotif.database.tables.DepsAssociation'>, (9,), None), replacing it with newly flushed object.   Are there load operations occurring inside of an event handler within the flush?\n",
      "  self.bm.session.flush()\n",
      "/Users/lazlopaul/Desktop/NAWI/water-ontology/venv/lib/python3.12/site-packages/buildingmotif/database/table_connection.py:423: SAWarning: Identity map already had an identity for (<class 'buildingmotif.database.tables.DepsAssociation'>, (10,), None), replacing it with newly flushed object.   Are there load operations occurring inside of an event handler within the flush?\n",
      "  self.bm.session.flush()\n",
      "/Users/lazlopaul/Desktop/NAWI/water-ontology/venv/lib/python3.12/site-packages/buildingmotif/database/table_connection.py:423: SAWarning: Identity map already had an identity for (<class 'buildingmotif.database.tables.DepsAssociation'>, (11,), None), replacing it with newly flushed object.   Are there load operations occurring inside of an event handler within the flush?\n",
      "  self.bm.session.flush()\n",
      "/Users/lazlopaul/Desktop/NAWI/water-ontology/venv/lib/python3.12/site-packages/buildingmotif/database/table_connection.py:423: SAWarning: Identity map already had an identity for (<class 'buildingmotif.database.tables.DepsAssociation'>, (12,), None), replacing it with newly flushed object.   Are there load operations occurring inside of an event handler within the flush?\n",
      "  self.bm.session.flush()\n",
      "/Users/lazlopaul/Desktop/NAWI/water-ontology/venv/lib/python3.12/site-packages/buildingmotif/database/table_connection.py:423: SAWarning: Identity map already had an identity for (<class 'buildingmotif.database.tables.DepsAssociation'>, (13,), None), replacing it with newly flushed object.   Are there load operations occurring inside of an event handler within the flush?\n",
      "  self.bm.session.flush()\n",
      "/Users/lazlopaul/Desktop/NAWI/water-ontology/venv/lib/python3.12/site-packages/buildingmotif/database/table_connection.py:423: SAWarning: Identity map already had an identity for (<class 'buildingmotif.database.tables.DepsAssociation'>, (14,), None), replacing it with newly flushed object.   Are there load operations occurring inside of an event handler within the flush?\n",
      "  self.bm.session.flush()\n",
      "/Users/lazlopaul/Desktop/NAWI/water-ontology/venv/lib/python3.12/site-packages/buildingmotif/database/table_connection.py:423: SAWarning: Identity map already had an identity for (<class 'buildingmotif.database.tables.DepsAssociation'>, (15,), None), replacing it with newly flushed object.   Are there load operations occurring inside of an event handler within the flush?\n",
      "  self.bm.session.flush()\n",
      "/Users/lazlopaul/Desktop/NAWI/water-ontology/venv/lib/python3.12/site-packages/buildingmotif/database/table_connection.py:423: SAWarning: Identity map already had an identity for (<class 'buildingmotif.database.tables.DepsAssociation'>, (16,), None), replacing it with newly flushed object.   Are there load operations occurring inside of an event handler within the flush?\n",
      "  self.bm.session.flush()\n",
      "/Users/lazlopaul/Desktop/NAWI/water-ontology/venv/lib/python3.12/site-packages/buildingmotif/database/table_connection.py:423: SAWarning: Identity map already had an identity for (<class 'buildingmotif.database.tables.DepsAssociation'>, (17,), None), replacing it with newly flushed object.   Are there load operations occurring inside of an event handler within the flush?\n",
      "  self.bm.session.flush()\n",
      "/Users/lazlopaul/Desktop/NAWI/water-ontology/venv/lib/python3.12/site-packages/buildingmotif/database/table_connection.py:423: SAWarning: Identity map already had an identity for (<class 'buildingmotif.database.tables.DepsAssociation'>, (18,), None), replacing it with newly flushed object.   Are there load operations occurring inside of an event handler within the flush?\n",
      "  self.bm.session.flush()\n",
      "/Users/lazlopaul/Desktop/NAWI/water-ontology/venv/lib/python3.12/site-packages/buildingmotif/database/table_connection.py:423: SAWarning: Identity map already had an identity for (<class 'buildingmotif.database.tables.DepsAssociation'>, (19,), None), replacing it with newly flushed object.   Are there load operations occurring inside of an event handler within the flush?\n",
      "  self.bm.session.flush()\n",
      "/Users/lazlopaul/Desktop/NAWI/water-ontology/venv/lib/python3.12/site-packages/buildingmotif/database/table_connection.py:423: SAWarning: Identity map already had an identity for (<class 'buildingmotif.database.tables.DepsAssociation'>, (20,), None), replacing it with newly flushed object.   Are there load operations occurring inside of an event handler within the flush?\n",
      "  self.bm.session.flush()\n"
     ]
    }
   ],
   "source": [
    "templates = Library.load(directory='../warsinger/templates')\n",
    "s223 = Library.load(ontology_graph=\"../../s223/collections/MODEL_SP223_all-v1.0.ttl\")"
   ]
  },
  {
   "cell_type": "code",
   "execution_count": 420,
   "metadata": {},
   "outputs": [
    {
     "data": {
      "text/plain": [
       "[Template(_id=1, _name='brine', body=<Graph identifier=8f0da9e8-10e6-4865-98f2-f292405b4e69 (<class 'rdflib.graph.Graph'>)>, optional_args=['constituent-salt', 'constituent-water'], _bm=<buildingmotif.building_motif.building_motif.BuildingMOTIF object at 0x1204a9580>),\n",
       " Template(_id=2, _name='constituent-salt', body=<Graph identifier=576c6a41-249f-4c25-9322-ecb46e6850be (<class 'rdflib.graph.Graph'>)>, optional_args=[], _bm=<buildingmotif.building_motif.building_motif.BuildingMOTIF object at 0x1204a9580>),\n",
       " Template(_id=3, _name='constituent-water', body=<Graph identifier=0d092458-5b86-44de-a8ae-f43ebfb25040 (<class 'rdflib.graph.Graph'>)>, optional_args=[], _bm=<buildingmotif.building_motif.building_motif.BuildingMOTIF object at 0x1204a9580>),\n",
       " Template(_id=4, _name='ph', body=<Graph identifier=e7753636-f986-4bbc-bd66-602bd7b65ed2 (<class 'rdflib.graph.Graph'>)>, optional_args=[], _bm=<buildingmotif.building_motif.building_motif.BuildingMOTIF object at 0x1204a9580>),\n",
       " Template(_id=5, _name='pressure', body=<Graph identifier=8d3b6cf1-0b54-4eb4-af93-818d11968fb3 (<class 'rdflib.graph.Graph'>)>, optional_args=[], _bm=<buildingmotif.building_motif.building_motif.BuildingMOTIF object at 0x1204a9580>),\n",
       " Template(_id=6, _name='conductivity', body=<Graph identifier=d31e75ac-e329-46d5-94d8-a0c574d77d20 (<class 'rdflib.graph.Graph'>)>, optional_args=[], _bm=<buildingmotif.building_motif.building_motif.BuildingMOTIF object at 0x1204a9580>),\n",
       " Template(_id=7, _name='temperature', body=<Graph identifier=2ab39dfa-baad-47ef-b311-a54d1281decd (<class 'rdflib.graph.Graph'>)>, optional_args=[], _bm=<buildingmotif.building_motif.building_motif.BuildingMOTIF object at 0x1204a9580>),\n",
       " Template(_id=8, _name='flow-rate', body=<Graph identifier=bd9002e5-9b31-407a-84f5-84846f7431e1 (<class 'rdflib.graph.Graph'>)>, optional_args=[], _bm=<buildingmotif.building_motif.building_motif.BuildingMOTIF object at 0x1204a9580>),\n",
       " Template(_id=9, _name='opening-ratio', body=<Graph identifier=9097b349-6973-4ab4-aad4-fc272ca835fe (<class 'rdflib.graph.Graph'>)>, optional_args=[], _bm=<buildingmotif.building_motif.building_motif.BuildingMOTIF object at 0x1204a9580>),\n",
       " Template(_id=10, _name='inlet-cp', body=<Graph identifier=dd6a9ef0-32a2-42ad-81db-842d501cfa34 (<class 'rdflib.graph.Graph'>)>, optional_args=['mapsto'], _bm=<buildingmotif.building_motif.building_motif.BuildingMOTIF object at 0x1204a9580>),\n",
       " Template(_id=11, _name='outlet-cp', body=<Graph identifier=9d6ea9ba-8cb6-416b-8bf9-251d09aec741 (<class 'rdflib.graph.Graph'>)>, optional_args=['mapsto'], _bm=<buildingmotif.building_motif.building_motif.BuildingMOTIF object at 0x1204a9580>),\n",
       " Template(_id=12, _name='bidirectional-cp', body=<Graph identifier=dc69324f-e6a1-40db-9795-dfb6c1e96aec (<class 'rdflib.graph.Graph'>)>, optional_args=['mapsto'], _bm=<buildingmotif.building_motif.building_motif.BuildingMOTIF object at 0x1204a9580>),\n",
       " Template(_id=13, _name='pipe', body=<Graph identifier=558ec09b-2856-46b2-9630-e69107ef3a13 (<class 'rdflib.graph.Graph'>)>, optional_args=[], _bm=<buildingmotif.building_motif.building_motif.BuildingMOTIF object at 0x1204a9580>),\n",
       " Template(_id=14, _name='tank', body=<Graph identifier=a49f560b-2fda-4a69-95d5-4c08de05c0ba (<class 'rdflib.graph.Graph'>)>, optional_args=['role', 'bi-cp', 'in', 'out'], _bm=<buildingmotif.building_motif.building_motif.BuildingMOTIF object at 0x1204a9580>),\n",
       " Template(_id=15, _name='bladder', body=<Graph identifier=8dc212ea-d072-42e0-8f34-bb19f3d6dd9a (<class 'rdflib.graph.Graph'>)>, optional_args=['role'], _bm=<buildingmotif.building_motif.building_motif.BuildingMOTIF object at 0x1204a9580>),\n",
       " Template(_id=16, _name='valve', body=<Graph identifier=e5fcb7d3-9c8c-46a9-be2f-361bb4eea10d (<class 'rdflib.graph.Graph'>)>, optional_args=['role'], _bm=<buildingmotif.building_motif.building_motif.BuildingMOTIF object at 0x1204a9580>),\n",
       " Template(_id=17, _name='filter', body=<Graph identifier=37852022-f219-48de-b988-be3b734f9f54 (<class 'rdflib.graph.Graph'>)>, optional_args=['role'], _bm=<buildingmotif.building_motif.building_motif.BuildingMOTIF object at 0x1204a9580>),\n",
       " Template(_id=18, _name='membrane', body=<Graph identifier=faac90a1-3664-40ad-9663-bc694dea2fab (<class 'rdflib.graph.Graph'>)>, optional_args=['role'], _bm=<buildingmotif.building_motif.building_motif.BuildingMOTIF object at 0x1204a9580>),\n",
       " Template(_id=19, _name='membrane-module', body=<Graph identifier=d8f66a85-a54e-4b00-a33b-0b193ba75831 (<class 'rdflib.graph.Graph'>)>, optional_args=['role'], _bm=<buildingmotif.building_motif.building_motif.BuildingMOTIF object at 0x1204a9580>),\n",
       " Template(_id=20, _name='pump', body=<Graph identifier=7a37ffb8-3f07-458c-94d9-559ed67ebb71 (<class 'rdflib.graph.Graph'>)>, optional_args=['role'], _bm=<buildingmotif.building_motif.building_motif.BuildingMOTIF object at 0x1204a9580>),\n",
       " Template(_id=21, _name='check-valve', body=<Graph identifier=07824629-fa8c-430c-b0dd-31aa98597b92 (<class 'rdflib.graph.Graph'>)>, optional_args=['role'], _bm=<buildingmotif.building_motif.building_motif.BuildingMOTIF object at 0x1204a9580>)]"
      ]
     },
     "execution_count": 420,
     "metadata": {},
     "output_type": "execute_result"
    }
   ],
   "source": [
    "templates.get_templates()"
   ]
  },
  {
   "cell_type": "code",
   "execution_count": 421,
   "metadata": {},
   "outputs": [],
   "source": [
    "tank_temp = templates.get_template_by_name('tank')\n",
    "filter_temp = templates.get_template_by_name('filter')\n",
    "pipe_temp = templates.get_template_by_name('pipe')\n",
    "bladder_temp = templates.get_template_by_name('bladder')\n",
    "membrane_module_temp = templates.get_template_by_name('membrane-module')\n",
    "pump_temp = templates.get_template_by_name('pump')\n",
    "valve_temp = templates.get_template_by_name('valve')\n",
    "check_valve_temp = templates.get_template_by_name('check-valve')"
   ]
  },
  {
   "cell_type": "code",
   "execution_count": 422,
   "metadata": {},
   "outputs": [],
   "source": [
    "membrane_module_temp = templates.get_template_by_name('membrane-module')"
   ]
  },
  {
   "cell_type": "code",
   "execution_count": 423,
   "metadata": {},
   "outputs": [],
   "source": [
    "a = membrane_module_temp.get_dependencies()[2]"
   ]
  },
  {
   "cell_type": "code",
   "execution_count": 424,
   "metadata": {},
   "outputs": [
    {
     "name": "stdout",
     "output_type": "stream",
     "text": [
      "WARNING: Automatically filling dependency for:  membrane\n"
     ]
    }
   ],
   "source": [
    "dependencies = membrane_module_temp.get_dependencies()\n",
    "for dep in dependencies:\n",
    "    # TODO: Shouldn't do this, only works for the simplest contained equipment e.g. membraine module\n",
    "    if dep.args['name'] not in (['in', 'out', 'role']):\n",
    "        print(\"WARNING: Automatically filling dependency for: \", dep.args['name'])\n",
    "    "
   ]
  },
  {
   "cell_type": "code",
   "execution_count": 425,
   "metadata": {},
   "outputs": [],
   "source": [
    "DEFAULT_MEDIUM = S223['Medium-Water']\n",
    "def remove_optional(graph):\n",
    "    # TODO: Probably not supposed to do this, how should I actually use templates and optional params?\n",
    "    # Probably a better way to compose templates - definitely for hasRole, not sure for mapsTo\n",
    "    # Works for this case, not where there are more things stemming from optional params, maybe should instead be done with template builder or removing dependencies? \n",
    "    graph.update('DELETE {bldg:delete ?p ?o} WHERE { bldg:delete ?p ?o . }')\n",
    "    graph.update('DELETE {?s ?p bldg:delete} WHERE { ?s ?p bldg:delete . }')\n",
    "\n",
    "def create_equipment(equip_name, equip_temp, optional_dict = {}, in_medium = DEFAULT_MEDIUM, out_medium = DEFAULT_MEDIUM, role = None):\n",
    "    equip_dict = {'in': BLDG[f'{equip_name}-in'],\n",
    "    'in-medium': in_medium,\n",
    "    'name': BLDG[f'{equip_name}'],\n",
    "    'out': BLDG[f'{equip_name}-out'],\n",
    "    'out-medium': out_medium,\n",
    "    }\n",
    "    if role:\n",
    "        equip_dict['role'] = S223[role]\n",
    "\n",
    "    equip = equip_temp.inline_dependencies().evaluate(equip_dict)\n",
    "    if isinstance(equip, Graph):\n",
    "        print(\"EQUIP HAS ALL NEEDED PROPERTIES: \", equip_name)\n",
    "        equip_graph = equip\n",
    "    else:\n",
    "        equip_graph = equip.evaluate({param: BLDG['delete'] for param in equip.parameters})\n",
    "        remove_optional(equip_graph)\n",
    "    bldg.add_graph(equip_graph)\n",
    "    return equip_dict\n",
    "\n",
    "def connect_equipment(source_dict, target_dict, source_cp = 'out', target_cp = 'in', conn_temp = pipe_temp, all_relations = False):\n",
    "    # take dictionary of source_uri equipment and outlet equipment, and connect them\n",
    "    source_uri = source_dict['name']\n",
    "    target_uri = target_dict['name']\n",
    "    source_cp_uri = source_dict[source_cp]\n",
    "    target_cp_uri = target_dict[target_cp]\n",
    "    connection_uri = BLDG[f'conn-{get_uri_end(source_uri)}-to-{get_uri_end(target_uri)}']\n",
    "\n",
    "    conn_dict = {\n",
    "            'in': source_cp_uri,\n",
    "            'out': target_cp_uri,\n",
    "            'name': connection_uri\n",
    "        }\n",
    "    # Template doesn't actually rely on in and out, just keeping these names for consistency\n",
    "    conn_graph = conn_temp.inline_dependencies().evaluate(conn_dict)\n",
    "    # Just adding these so we can skip inference, all below programmatically added by inference rules\n",
    "    if all_relations:\n",
    "        # Top level connections\n",
    "        bldg.graph.add((source_uri, S223['connected'], target_uri))\n",
    "        bldg.graph.add((source_uri, S223['connectedTo'], target_uri))\n",
    "\n",
    "        # source_uri relationships\n",
    "        bldg.graph.add((source_uri, S223['hasConnectionPoint'], source_cp_uri))\n",
    "        bldg.graph.add((source_uri, S223['cnx'], source_cp_uri))\n",
    "        bldg.graph.add((source_cp_uri, S223['isConnectionPointOf'], source_uri))\n",
    "        bldg.graph.add((source_uri, S223['connectedThrough'], connection_uri))\n",
    "\n",
    "        # target_uri relationships\n",
    "        bldg.graph.add((target_uri, S223['hasConnectionPoint'], target_cp_uri))\n",
    "        bldg.graph.add((target_uri, S223['cnx'], target_cp_uri))\n",
    "        bldg.graph.add((target_cp_uri, S223['isConnectionPointOf'], target_uri))\n",
    "        bldg.graph.add((target_uri, S223['connectedThrough'], connection_uri))\n",
    "\n",
    "        # C relationships\n",
    "        bldg.graph.add((connection_uri, S223['connectsTo'], target_uri))\n",
    "        bldg.graph.add((connection_uri, S223['connectsFrom'], source_uri))\n",
    "        bldg.graph.add((connection_uri, S223['cnx'], target_cp_uri))\n",
    "        bldg.graph.add((connection_uri, S223['cnx'], source_cp_uri))\n",
    "\n",
    "        # Connection point relationships\n",
    "        bldg.graph.add((source_cp_uri, S223['connectsThrough'], connection_uri))\n",
    "        bldg.graph.add((source_cp_uri, S223['connectsAt'], connection_uri))\n",
    "        bldg.graph.add((target_cp_uri, S223['connectsThrough'], connection_uri))\n",
    "        bldg.graph.add((target_cp_uri, S223['connectsAt'], connection_uri))\n",
    "    bldg.add_graph(conn_graph)\n",
    "    return conn_dict\n",
    "def get_uri_end(uri_ref):\n",
    "    uri_str = str(uri_ref)\n",
    "    match = re.search(r'[^/#]+$', uri_str)\n",
    "    if match:\n",
    "        return match.group(0)\n",
    "    else:\n",
    "        print(\"No match found, providing empty string\")\n",
    "        return \"\"\n",
    "\n",
    "def get_unique_uri(uri):\n",
    "    base_uri = str(uri)\n",
    "    # I guess start at 2 since first ones are not numbered\n",
    "    count = 2\n",
    "    new_uri = URIRef(base_uri)\n",
    "    # Check if the URI already exists in the graph\n",
    "    while (new_uri, None, None) in bldg.graph or (None, None, new_uri) in bldg.graph:\n",
    "        # Append an incremented number if it already exists\n",
    "        new_uri = URIRef(f\"{base_uri}-{count}\")\n",
    "        count += 1\n",
    "    return new_uri\n",
    "\n",
    "def add_properties(target, property_names):\n",
    "    prop_dict = {prop: BLDG[f\"{get_uri_end(target)}-{prop}\"] for prop in property_names}\n",
    "    for prop, prop_uri in prop_dict.items():\n",
    "        property = templates.get_template_by_name(prop).evaluate({'name': prop_uri})\n",
    "        bldg.add_graph(property)\n",
    "        bldg.graph.add((target, S223['hasProperty'], prop_uri))\n",
    "    return prop_dict\n",
    "\n",
    "def make_brine(salt_percent):\n",
    "    # Takes salt percent as percent value between 0-100\n",
    "    brine_temp = templates.get_template_by_name('brine')\n",
    "    brine_dict = {\n",
    "        'name': BLDG[f'brine-{salt_percent}'],\n",
    "        'salt-value': Literal(salt_percent),\n",
    "        'salt-name': BLDG[f'salt-{salt_percent}'],\n",
    "        'water-value': Literal(100 - salt_percent),\n",
    "        'water-name': BLDG[f'water-{1-salt_percent}']\n",
    "    }\n",
    "    brine = brine_temp.inline_dependencies().evaluate(brine_dict)\n",
    "    bldg.add_graph(brine)\n",
    "    return brine_dict\n",
    "\n",
    "def add_connection_point(equip_dict, cp_type = 'inlet-cp', medium = DEFAULT_MEDIUM):\n",
    "    cp_name = get_unique_uri(BLDG[f'{get_uri_end(equip_dict[\"name\"])}-{cp_type}'])\n",
    "    cp_dict = {\n",
    "        'name': cp_name,\n",
    "        'medium': medium\n",
    "    }\n",
    "    cp_graph = templates.get_template_by_name(cp_type).inline_dependencies().evaluate(cp_dict)\n",
    "    if isinstance(cp_graph, Graph):\n",
    "        print(\"CP HAS ALL NEEDED PROPERTIES: \", cp_name)\n",
    "        cp_graph = cp_graph\n",
    "    else:\n",
    "        cp_graph = cp_graph.evaluate({param: BLDG['delete'] for param in cp_graph.parameters})\n",
    "        remove_optional(cp_graph)\n",
    "    bldg.add_graph(cp_graph)\n",
    "    bldg.graph.add((equip_dict['name'], S223['hasConnectionPoint'], cp_dict['name']))\n",
    "    bldg.graph.add((equip_dict['name'], S223['cnx'], cp_dict['name']))\n",
    "    \n",
    "    count = 2\n",
    "    equip_cp_name = cp_type\n",
    "    while equip_cp_name in equip_dict.keys():\n",
    "        equip_cp_name = f'{cp_type}-{count}'\n",
    "        count += 1\n",
    "    equip_dict[equip_cp_name] = cp_name\n",
    "    return equip_cp_name"
   ]
  },
  {
   "cell_type": "code",
   "execution_count": 426,
   "metadata": {},
   "outputs": [],
   "source": [
    "brine_temp = templates.get_template_by_name('brine').inline_dependencies()"
   ]
  },
  {
   "cell_type": "code",
   "execution_count": 427,
   "metadata": {},
   "outputs": [
    {
     "data": {
      "text/plain": [
       "{'name': rdflib.term.URIRef('urn:ex/brine-3.5'),\n",
       " 'salt-value': rdflib.term.Literal('3.5', datatype=rdflib.term.URIRef('http://www.w3.org/2001/XMLSchema#double')),\n",
       " 'salt-name': rdflib.term.URIRef('urn:ex/salt-3.5'),\n",
       " 'water-value': rdflib.term.Literal('96.5', datatype=rdflib.term.URIRef('http://www.w3.org/2001/XMLSchema#double')),\n",
       " 'water-name': rdflib.term.URIRef('urn:ex/water--2.5')}"
      ]
     },
     "execution_count": 427,
     "metadata": {},
     "output_type": "execute_result"
    }
   ],
   "source": [
    "make_brine(3.5)"
   ]
  },
  {
   "cell_type": "code",
   "execution_count": 428,
   "metadata": {},
   "outputs": [
    {
     "name": "stdout",
     "output_type": "stream",
     "text": [
      "EQUIP HAS ALL NEEDED PROPERTIES:  supply-valve\n",
      "EQUIP HAS ALL NEEDED PROPERTIES:  supply-filter\n",
      "EQUIP HAS ALL NEEDED PROPERTIES:  three-way-valve-1\n",
      "CP HAS ALL NEEDED PROPERTIES:  urn:ex/three-way-valve-1-inlet-cp\n",
      "EQUIP HAS ALL NEEDED PROPERTIES:  circulation-pump\n",
      "EQUIP HAS ALL NEEDED PROPERTIES:  check-valve\n",
      "EQUIP HAS ALL NEEDED PROPERTIES:  bladder\n",
      "EQUIP HAS ALL NEEDED PROPERTIES:  check-valve-2\n",
      "EQUIP HAS ALL NEEDED PROPERTIES:  three-way-valve-2\n",
      "CP HAS ALL NEEDED PROPERTIES:  urn:ex/three-way-valve-2-outlet-cp\n",
      "CP HAS ALL NEEDED PROPERTIES:  urn:ex/membrane-module-outlet-cp\n",
      "EQUIP HAS ALL NEEDED PROPERTIES:  permeate-valve\n",
      "CP HAS ALL NEEDED PROPERTIES:  urn:ex/bladder-bidirectional-cp\n",
      "EQUIP HAS ALL NEEDED PROPERTIES:  bladder-valve\n",
      "CP HAS ALL NEEDED PROPERTIES:  urn:ex/bladder-valve-bidirectional-cp\n",
      "EQUIP HAS ALL NEEDED PROPERTIES:  check-valve-bladder-to-makeup\n",
      "EQUIP HAS ALL NEEDED PROPERTIES:  check-valve-makeup-to-bladder\n",
      "EQUIP HAS ALL NEEDED PROPERTIES:  makeup-tank-valve\n",
      "EQUIP HAS ALL NEEDED PROPERTIES:  makeup-tank-filter\n",
      "EQUIP HAS ALL NEEDED PROPERTIES:  high-pressure-pump\n"
     ]
    },
    {
     "name": "stderr",
     "output_type": "stream",
     "text": [
      "/Users/lazlopaul/Desktop/NAWI/water-ontology/venv/lib/python3.12/site-packages/buildingmotif/dataclasses/template.py:372: UserWarning: Parameters \"bi-cp, out-mapsto, bi-cp-mapsto, bi-cp-medium, in-mapsto\" were not provided during evaluation\n",
      "  warnings.warn(\n",
      "/Users/lazlopaul/Desktop/NAWI/water-ontology/venv/lib/python3.12/site-packages/buildingmotif/dataclasses/template.py:372: UserWarning: Parameters \"membrane-out, membrane-out-medium, role, membrane-role, membrane, membrane-in-mapsto, out-mapsto, membrane-out-mapsto, membrane-in-medium, membrane-in, in-mapsto\" were not provided during evaluation\n",
      "  warnings.warn(\n",
      "/Users/lazlopaul/Desktop/NAWI/water-ontology/venv/lib/python3.12/site-packages/buildingmotif/dataclasses/template.py:372: UserWarning: Parameters \"out-mapsto, in-mapsto\" were not provided during evaluation\n",
      "  warnings.warn(\n",
      "/Users/lazlopaul/Desktop/NAWI/water-ontology/venv/lib/python3.12/site-packages/buildingmotif/dataclasses/template.py:372: UserWarning: Parameters \"bi-cp, out-mapsto, bi-cp-mapsto, bi-cp-medium, role, in-mapsto\" were not provided during evaluation\n",
      "  warnings.warn(\n"
     ]
    }
   ],
   "source": [
    "\n",
    "# need to re-examine brine percentages, kind of random, not sure how many different percentages there are\n",
    "supply_water_dict = make_brine(3.5)\n",
    "pre_membrane_brine_water_dict = make_brine(10)\n",
    "brine_water_dict = make_brine(20)\n",
    "permeate_water_dict = make_brine(0.05)\n",
    "# makeup shoulld be same as pre-membrane brine, but not sure\n",
    "\n",
    "DEFAULT_MEDIUM = supply_water_dict['name']\n",
    "\n",
    "supply_dict = create_equipment(\"supply-tank\", tank_temp, role = S223['Role-Supply'])\n",
    "supply_prop_dict = add_properties(supply_dict['out'], ['ph','temperature','conductivity'])\n",
    "supply_valve_dict = create_equipment(\"supply-valve\", valve_temp)\n",
    "connect_equipment(supply_dict, supply_valve_dict)\n",
    "supply_filter_dict = create_equipment(\"supply-filter\", filter_temp)\n",
    "connect_equipment(supply_valve_dict, supply_filter_dict)\n",
    "\n",
    "three_way_valve_1_dict = create_equipment(\"three-way-valve-1\", valve_temp, out_medium=pre_membrane_brine_water_dict['name'])\n",
    "three_way_valve_1_inlet_cp = add_connection_point(three_way_valve_1_dict, 'inlet-cp')\n",
    "connect_equipment(supply_filter_dict, three_way_valve_1_dict)\n",
    "\n",
    "DEFAULT_MEDIUM = pre_membrane_brine_water_dict['name']\n",
    "\n",
    "# Pump should have VFD - other properties associated with that\n",
    "circulation_pump_dict = create_equipment(\"circulation-pump\", pump_temp)\n",
    "connect_equipment(three_way_valve_1_dict, circulation_pump_dict)\n",
    "# Didn't asign a unit to pressure yet, maybe also want to make it differential on inlet and outlet of pump\n",
    "circulation_pump_prop_dict = add_properties(circulation_pump_dict['name'], ['pressure'])\n",
    "check_valve_dict = create_equipment(\"check-valve\", check_valve_temp)\n",
    "check_valve_prop_dict = add_properties(check_valve_dict['in'], ['flow-rate'])\n",
    "connect_equipment(circulation_pump_dict, check_valve_dict)\n",
    "bladder_dict = create_equipment(\"bladder\", bladder_temp)\n",
    "connect_equipment(check_valve_dict, bladder_dict)\n",
    "check_valve_2_dict = create_equipment(\"check-valve-2\", check_valve_temp)\n",
    "connect_equipment(bladder_dict, check_valve_2_dict)\n",
    "# Membrane module probably has multiple modules, may need to build it differently, also needs multiple connection points\n",
    "membrane_module_dict = create_equipment(\"membrane-module\", membrane_module_temp, out_medium=brine_water_dict['name'])\n",
    "connect_equipment(check_valve_2_dict, membrane_module_dict)\n",
    "\n",
    "DEFAULT_MEDIUM = brine_water_dict['name']\n",
    "\n",
    "membrane_module_prop_dict = add_properties(membrane_module_dict['name'], ['pressure'])\n",
    "relief_valve_dict = create_equipment(\"relief-valve\", valve_temp, role = S223['Role-Relief'])\n",
    "connect_equipment(membrane_module_dict, relief_valve_dict)\n",
    "relief_valve_prop = add_properties(relief_valve_dict['out'], ['temperature'])\n",
    "\n",
    "three_way_valve_2_dict = create_equipment(\"three-way-valve-2\", valve_temp)\n",
    "three_way_valve_2_outlet_cp = add_connection_point(three_way_valve_2_dict, 'outlet-cp')\n",
    "connect_equipment(relief_valve_dict, three_way_valve_2_dict)\n",
    "# connecting three way valves \n",
    "connect_equipment(three_way_valve_2_dict, three_way_valve_1_dict, source_cp = three_way_valve_2_outlet_cp, target_cp= three_way_valve_1_inlet_cp)\n",
    "\n",
    "brine_tank_dict = create_equipment(\"brine-tank\", tank_temp, in_medium=brine_water_dict['name'], out_medium=brine_water_dict['name'])\n",
    "brine_tank_prop_dict = add_properties(brine_tank_dict['in'], ['ph','conductivity'])\n",
    "connect_equipment(three_way_valve_1_dict, brine_tank_dict)\n",
    "\n",
    "DEFAULT_MEDIUM = permeate_water_dict['name']\n",
    "\n",
    "membrane_module_outlet_cp = add_connection_point(membrane_module_dict, 'outlet-cp')\n",
    "permeate_valve_dict = create_equipment(\"permeate-valve\", valve_temp)\n",
    "connect_equipment(membrane_module_dict, permeate_valve_dict, source_cp = membrane_module_outlet_cp)\n",
    "permeate_tank_dict = create_equipment(\"permeate-tank\", tank_temp)\n",
    "add_properties(permeate_tank_dict['in'], ['ph','flow-rate','conductivity'])\n",
    "connect_equipment(permeate_valve_dict, permeate_tank_dict)\n",
    "\n",
    "#Maybe it's just water in the makeup tank\n",
    "DEFAULT_MEDIUM = S223['Medium-Water']\n",
    "\n",
    "bladder_bidirectional_cp = add_connection_point(bladder_dict, 'bidirectional-cp')\n",
    "bladder_valve_dict = create_equipment(\"bladder-valve\", valve_temp)\n",
    "bladder_valve_bidirectional_cp = add_connection_point(bladder_valve_dict, 'bidirectional-cp')\n",
    "# Check if some inferencing or adjustment to this function is needed for bidirectional equips\n",
    "connect_equipment(bladder_dict, bladder_valve_dict, source_cp = bladder_bidirectional_cp, target_cp = bladder_valve_bidirectional_cp)\n",
    "check_valve_bladder_makeup_dict = create_equipment(\"check-valve-bladder-to-makeup\", check_valve_temp)\n",
    "connect_equipment(bladder_valve_dict, check_valve_bladder_makeup_dict)\n",
    "check_valve_makeup_bladder_dict = create_equipment(\"check-valve-makeup-to-bladder\", check_valve_temp)\n",
    "connect_equipment(check_valve_makeup_bladder_dict, bladder_valve_dict)\n",
    "# Rather than adding connection points - would probably be useful to create accurate templates that map 223P to brick-like objects\n",
    "makeup_tank_dict = create_equipment(\"makeup-tank\", tank_temp, role = S223['Role-Makeup'])\n",
    "makeup_tank_valve_dict = create_equipment(\"makeup-tank-valve\", valve_temp)\n",
    "connect_equipment(makeup_tank_dict, makeup_tank_valve_dict)\n",
    "makeup_tank_filter_dict = create_equipment(\"makeup-tank-filter\", filter_temp)\n",
    "connect_equipment(makeup_tank_valve_dict, makeup_tank_filter_dict)\n",
    "# Filter needs VFD\n",
    "high_pressure_pump_dict = create_equipment(\"high-pressure-pump\", pump_temp)\n",
    "connect_equipment(makeup_tank_filter_dict, high_pressure_pump_dict)\n",
    "high_pressure_pump_relief_valve_dict = create_equipment(\"high-pressure-pump-relief-valve\", pump_temp, role=S223['Role-Relief'])\n",
    "connect_equipment(high_pressure_pump_dict, high_pressure_pump_relief_valve_dict)\n",
    "# Perhaps these properties should be on the connection \n",
    "# Need a convention - properties not essential to an equipment are on the connection rather than inlet/outlet? Properties usually on inlet/outlets?\n",
    "makeup_line_prop_dict = add_properties(check_valve_makeup_bladder_dict['in'], ['pressure','flow-rate'])"
   ]
  },
  {
   "cell_type": "code",
   "execution_count": 429,
   "metadata": {},
   "outputs": [
    {
     "data": {
      "text/plain": [
       "<Graph identifier=e8f91975-a1b2-4385-b5c8-5d6a04f948ac (<class 'rdflib.graph.Graph'>)>"
      ]
     },
     "execution_count": 429,
     "metadata": {},
     "output_type": "execute_result"
    }
   ],
   "source": [
    "bldg.graph.serialize(\"warsinger-bladder-model.ttl\", format=\"turtle\")"
   ]
  },
  {
   "cell_type": "code",
   "execution_count": null,
   "metadata": {},
   "outputs": [],
   "source": []
  }
 ],
 "metadata": {
  "kernelspec": {
   "display_name": "venv",
   "language": "python",
   "name": "python3"
  },
  "language_info": {
   "codemirror_mode": {
    "name": "ipython",
    "version": 3
   },
   "file_extension": ".py",
   "mimetype": "text/x-python",
   "name": "python",
   "nbconvert_exporter": "python",
   "pygments_lexer": "ipython3",
   "version": "3.12.4"
  }
 },
 "nbformat": 4,
 "nbformat_minor": 2
}
