{
 "cells": [
  {
   "cell_type": "markdown",
   "id": "79d5d7ce-4adc-4705-9b3d-ebc94cb03b29",
   "metadata": {
    "editable": true,
    "slideshow": {
     "slide_type": "slide"
    },
    "tags": []
   },
   "source": [
    "# Metadata Ontology for WWTFs\n",
    "\n",
    "Outline\n",
    "- Problem Definition\n",
    "- Graph-based Metadata\n",
    "- Application Examples"
   ]
  },
  {
   "cell_type": "markdown",
   "id": "fdd87f3c-3ede-4c5b-9a10-879f47a4d4d0",
   "metadata": {
    "editable": true,
    "slideshow": {
     "slide_type": "slide"
    },
    "tags": []
   },
   "source": [
    "## Problem Definition\n",
    "\n",
    "- Rising need for data-driven decision making for WWTFs\n",
    "- More data available for WWTF through sensors, actuators\n",
    "  - $\\rightarrow$ need to manage this data!\n",
    "- Identifiers, properties, data source descriptions are distributed across many sources\n",
    "  - PFD, P&ID, SCADA, others\n",
    "- Solution: simplify data management by unifying separate descriptions of the same WWTF"
   ]
  },
  {
   "cell_type": "markdown",
   "id": "10940296-c3bb-4b5a-a75b-b1513cccb2e1",
   "metadata": {
    "editable": true,
    "slideshow": {
     "slide_type": "slide"
    },
    "tags": []
   },
   "source": [
    "## Solution Overview\n",
    "\n",
    "<img style=\"width: 50%\" src=\"fig/metadata-graph.png\" />\n",
    "\n",
    "- represent equipment, unit processes, pipes, etc as *nodes* in a graph\n",
    "- rich relationships between these entities\n",
    "- use common labels to join different representations together"
   ]
  },
  {
   "cell_type": "markdown",
   "id": "601e7572-f8d2-4e36-9a37-a66da3b42b6a",
   "metadata": {
    "editable": true,
    "slideshow": {
     "slide_type": "slide"
    },
    "tags": []
   },
   "source": [
    "## Modeling Setup\n",
    "\n",
    "- use BuildingMOTIF library from NREL to create our graph of a water treatment system\n",
    "\n",
    "```python\n",
    "from buildingmotif import BuildingMOTIF\n",
    "from buildingmotif.model_builder import TemplateBuilderContext\n",
    "from buildingmotif.dataclasses import Library, Model\n",
    "from buildingmotif.namespaces import bind_prefixes\n",
    "from rdflib import Namespace\n",
    "from utils import write_to_file\n",
    "\n",
    "# setup our buildingmotif instance\n",
    "bm = BuildingMOTIF(\"sqlite://\", shacl_engine=\"topquadrant\")\n",
    "```"
   ]
  },
  {
   "cell_type": "markdown",
   "id": "f6702094-5b7c-4398-98aa-6031d64b8ce9",
   "metadata": {
    "editable": true,
    "slideshow": {
     "slide_type": "slide"
    },
    "tags": []
   },
   "source": [
    "## Modeling Setup (2)\n",
    "\n",
    "- create the Model to hold our graph\n",
    "- setup libraries of templates\n",
    "\n",
    "```python\n",
    "# create the model w/ a namespace\n",
    "BLDG = Namespace(\"urn:nrel_example/\")\n",
    "bldg = Model.create(BLDG)\n",
    "bind_prefixes(bldg.graph)\n",
    "bldg.graph.bind(\"bldg\", BLDG)\n",
    "\n",
    "nrel = Library.load(directory=\"BuildingMOTIF/libraries/ashrae/223p/nrel-templates\")\n",
    "water = Library.load(directory=\"water-templates\")\n",
    "s223 = Library.load(ontology_graph=\"223p.ttl\")\n",
    "```"
   ]
  },
  {
   "cell_type": "markdown",
   "id": "832422a7-af48-4b0c-9cdd-d89a755e97cc",
   "metadata": {
    "editable": true,
    "slideshow": {
     "slide_type": "slide"
    },
    "tags": []
   },
   "source": [
    "## Modeling Setup (3)\n",
    "\n",
    "- possible to build graphs by hand, but more convenient to use the Builder\n",
    "- object-oriented abstraction over the graph definition language\n",
    "\n",
    "```python\n",
    "ctx = TemplateBuilderContext(BLDG)\n",
    "ctx.add_templates_from_library(nrel)\n",
    "ctx.add_templates_from_library(water)\n",
    "```"
   ]
  },
  {
   "cell_type": "markdown",
   "id": "3478d458-0b40-4abb-ae43-051131a3c803",
   "metadata": {
    "editable": true,
    "slideshow": {
     "slide_type": "slide"
    },
    "tags": []
   },
   "source": [
    "## Example: Simple WWTP\n",
    "\n",
    "Consider this simple WWTP from [Villez et al 2016](http://dx.doi.org/10.1016/j.watres.2016.05.068)\n",
    "\n",
    "Need to model\n",
    "- installed equipment\n",
    "- connections between them\n",
    "- possible sensor positions\n",
    "\n",
    "<img style=\"width: 50%\" src=\"fig/kv1-system.png\" />"
   ]
  },
  {
   "cell_type": "markdown",
   "id": "9ff732a7-2390-4845-9ba5-fbdddee3ca35",
   "metadata": {
    "editable": true,
    "slideshow": {
     "slide_type": "slide"
    },
    "tags": []
   },
   "source": [
    "## Example: Simple WWTP\n",
    "\n",
    "```python\n",
    "# create the process units\n",
    "aerobic = ctx[\"aerobic-process-unit\"](name=\"AEROBIC\")\n",
    "settler = ctx[\"settler\"](name=\"SETTLER\")\n",
    "# connect aerobic to settler\n",
    "pipe(aerobic[\"water-out\"], settler[\"water-in\"])\n",
    "# settler sludge return goes to a junction\n",
    "# make the junction\n",
    "sludge_junction = ctx[\"junction-1to2\"](name=\"SLUDGE_JUNCTION\")\n",
    "# connect the input to the junction to the sludge return of the settler with a pipe\n",
    "pipe(settler[\"sludge-return\"], sludge_junction[\"in1\"])\n",
    "```"
   ]
  },
  {
   "cell_type": "markdown",
   "id": "bad1c6e2-bfa6-4e97-a692-cc1528fa2abe",
   "metadata": {
    "editable": true,
    "slideshow": {
     "slide_type": "slide"
    },
    "tags": []
   },
   "source": [
    "## Example: Simple WWTP\n",
    "\n",
    "```python\n",
    "aerobic_junction = ctx[\"junction-2to1\"](name=\"AEROBIC_JUNCTION\")\n",
    "# aerobic junction connects to input of aerobic process\n",
    "pipe(aerobic_junction[\"out1\"], aerobic[\"water-in\"])\n",
    "# pipe from settler junction to the aerobic\n",
    "pipe(sludge_junction[\"out1\"], aerobic_junction[\"in2\"])\n",
    "```\n",
    "\n",
    "- that's it! 1 line of code for each process, pipe segment, junction"
   ]
  },
  {
   "cell_type": "markdown",
   "id": "f6de8819-2016-4b34-b8a7-9910cca8922a",
   "metadata": {
    "editable": true,
    "slideshow": {
     "slide_type": "slide"
    },
    "tags": []
   },
   "source": [
    "## Example: Simple WWTP\n",
    "\n",
    "- save to a \"Turtle\" file for machine-to-machine transfer\n",
    "\n",
    "```python\n",
    "bldg.add_graph(ctx.compile())\n",
    "graph = bldg.compile([s223.get_shape_collection()])\n",
    "# this is the serialization of the model for machine-to-machine\n",
    "graph.serialize(\"models/simple-wwtp.ttl\", format=\"turtle\")\n",
    "```\n",
    "\n",
    "Outputs:\n",
    "\n",
    "```ttl\n",
    "<urn:nrel_example/AEROBIC> a ns1:AerobicProcessUnit ;\n",
    "    rdfs:label \"AerobicProcessUnit\" ;\n",
    "    ns1:cnx <urn:nrel_example/water-in_ec975a91>,\n",
    "        <urn:nrel_example/water-out_d319c7ae> ;\n",
    "    ns1:connectedThrough <urn:nrel_example/name_26aefd63>,\n",
    "        <urn:nrel_example/name_d6d3f618> ;\n",
    "    ns1:connectedTo <urn:nrel_example/SETTLER> ;\n",
    "    ns1:hasConnectionPoint <urn:nrel_example/water-in_ec975a91>,\n",
    "        <urn:nrel_example/water-out_d319c7ae> .\n",
    "# etc...\n",
    "```"
   ]
  },
  {
   "cell_type": "markdown",
   "id": "b492a1d4-a85c-4145-87eb-da1810e0a87f",
   "metadata": {
    "editable": true,
    "slideshow": {
     "slide_type": "slide"
    },
    "tags": []
   },
   "source": [
    "## Example: Simple WWTP\n",
    "\n",
    "- more convenient to look at an image for human consumption\n",
    "\n",
    "```python\n",
    "# this is an automatic visualization of the model\n",
    "write_to_file(graph, \"models/simple-wwtp.png\")\n",
    "```\n",
    "\n",
    "![](fig/kv1_mod.png)"
   ]
  },
  {
   "cell_type": "markdown",
   "id": "e2c1b8a8-a951-4463-94d0-bdbcaf9c7947",
   "metadata": {
    "editable": true,
    "slideshow": {
     "slide_type": "slide"
    },
    "tags": []
   },
   "source": [
    "## Application #1: Sensor Placement\n",
    "\n",
    "- possible to compute the \"process graph\" for [optimal sensor placement algorithm](http://dx.doi.org/10.1016/j.watres.2016.05.068)\n",
    "- in prior work, this needed to be done by hand\n",
    "- now, it is a simple set of transformation rules!\n",
    "  - automatically removes unnecessary detail\n",
    "\n",
    "![](fig/Process_Graph.png)"
   ]
  },
  {
   "cell_type": "markdown",
   "id": "3cf1c094-d1fc-4a51-9728-7ec36d547b50",
   "metadata": {
    "editable": true,
    "slideshow": {
     "slide_type": "slide"
    },
    "tags": []
   },
   "source": [
    "## Application #2: Compare Design vs Measured Values\n",
    "\n",
    "- consider example of flow rate on a tank\n",
    "- vital information often spread across multiple representations:\n",
    "  - Design flow rate (PFD)\n",
    "  - Rated flow rate (cutsheet)\n",
    "  - Measured flow rate (SCADA)\n",
    "- using metadata graph, we can connect all of these together! "
   ]
  },
  {
   "cell_type": "markdown",
   "id": "2911ffff-0c41-42e8-b9fd-475772a67e81",
   "metadata": {
    "editable": true,
    "slideshow": {
     "slide_type": "slide"
    },
    "tags": []
   },
   "source": [
    "## Application #2: Compare Design vs Measured Values\n",
    "\n",
    "- attach the design and max flow rate to the tank entity definition\n",
    "\n",
    "```turtle\n",
    ":MyTank a s223:Tank ;\n",
    "    s223:hasConnectionPoint :TankOutlet ;\n",
    "    s223:contains :MyFlowSensor ;\n",
    "    # from PFD\n",
    "    ont:designFlowRate [\n",
    "        ont:value 70 ;\n",
    "        qudt:hasUnit unit:GAL_US-PER-MIN ;\n",
    "        qudt:hasQuantityKind  qk:VolumeFlowRate ;\n",
    "    ] ;\n",
    "    # from cutsheet\n",
    "    ont:maximumFlowRate [\n",
    "        ont:value 100 ;\n",
    "        qudt:hasUnit unit:GAL_US-PER-MIN ;\n",
    "        qudt:hasQuantityKind  qk:VolumeFlowRate ;\n",
    "    ] ;\n",
    ".\n",
    "```"
   ]
  },
  {
   "cell_type": "markdown",
   "id": "9f193984-7645-4de9-a6f3-0eff91f58628",
   "metadata": {
    "editable": true,
    "slideshow": {
     "slide_type": "slide"
    },
    "tags": []
   },
   "source": [
    "## Application #2: Compare Design vs Measured Values\n",
    "\n",
    "- the sensor observes the flow rate at the outlet of the tank\n",
    "- here we connect to a BACnet network, but this can easily be any other SCADA solution\n",
    "\n",
    "```turtle\n",
    ":TankOutlet a s223:OutletConnectionPoint ;\n",
    "    s223:hasProperty :TankFlowProperty ;\n",
    "    s223:hasMedium s223:Medium-Water\n",
    ".\n",
    ":TankFlowProperty a s223:QuantifiableObservableProperty ;\n",
    "    qudt:hasQuantityKind qk:VolumeFlowRate\n",
    ".\n",
    ":MyFlowSensor a s223:Sensor ;\n",
    "    s223:observes :TankFlowProperty\n",
    "    # from SCADA\n",
    "    s223:hasExternalReference [\n",
    "        a bacnet:AnalogInputObject ;\n",
    "        bacnet:object-identifier \"analog-input,3\" ;\n",
    "        ont:bacnet-property \"present-value\" ;\n",
    "    ]\n",
    ".\n",
    "```"
   ]
  },
  {
   "cell_type": "markdown",
   "id": "83c269c1-ed30-4d64-9ce2-de2e4250343a",
   "metadata": {
    "editable": true,
    "slideshow": {
     "slide_type": "slide"
    },
    "tags": []
   },
   "source": [
    "## Application #2: Compare Design vs Measured Values\n",
    "\n",
    "- this is a SPARQL query to retrieve design, rated and measured values of tank flow rate\n",
    "\n",
    "```sparql\n",
    "SELECT ?tank ?designFlowRate ?ratedMaxFlowRate ?objectIdentifier\n",
    "WHERE {\n",
    "    ?tank a s223:Tank ;\n",
    "          s223:designFlowRate/ont:value ?designFlowRate ;\n",
    "          s223:ratedMaxFlowRate/ont:value ?ratedMaxFlowRate ;\n",
    "          s223:cnx ?outlet .\n",
    "    ?outlet a s223:OutletConnectionPoint ;\n",
    "          s223:hasProperty ?flowProperty .\n",
    "    ?sensor a s223:Sensor ;\n",
    "            s223:observes ?flowProperty ;\n",
    "            s223:hasExternalReference ?reference .\n",
    "    ?reference a bacnet:AnalogInputObject ;\n",
    "               bacnet:object-identifier ?objectIdentifier ;\n",
    "               ont:bacnet-property \"present-value\" .\n",
    "}\n",
    "```"
   ]
  },
  {
   "cell_type": "markdown",
   "id": "13629cbc-5e6d-44ef-99a9-01e1d00d8508",
   "metadata": {
    "editable": true,
    "slideshow": {
     "slide_type": "slide"
    },
    "tags": []
   },
   "source": [
    "## Next Steps\n",
    "\n",
    "- Follow development at https://github.com/DataDrivenCPS/water-ontology\n",
    "- Learn more about the underlying ontology at https://open223.info"
   ]
  },
  {
   "cell_type": "code",
   "execution_count": null,
   "id": "0019c58c-d3af-4251-8bc3-e12d2fd903b1",
   "metadata": {},
   "outputs": [],
   "source": []
  }
 ],
 "metadata": {
  "kernelspec": {
   "display_name": "nawi-water-ontology",
   "language": "python",
   "name": "nawi-water-ontology"
  },
  "language_info": {
   "codemirror_mode": {
    "name": "ipython",
    "version": 3
   },
   "file_extension": ".py",
   "mimetype": "text/x-python",
   "name": "python",
   "nbconvert_exporter": "python",
   "pygments_lexer": "ipython3",
   "version": "3.10.14"
  }
 },
 "nbformat": 4,
 "nbformat_minor": 5
}
