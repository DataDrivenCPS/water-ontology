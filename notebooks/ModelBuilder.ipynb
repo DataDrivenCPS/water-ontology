{
 "cells": [
  {
   "cell_type": "code",
   "execution_count": 1,
   "id": "1d6c4329-fdba-4d66-8c19-a221270b39d4",
   "metadata": {},
   "outputs": [],
   "source": [
    "from buildingmotif import BuildingMOTIF\n",
    "from buildingmotif.model_builder import TemplateBuilderContext\n",
    "from buildingmotif.dataclasses import Library, Model\n",
    "from buildingmotif.namespaces import bind_prefixes, UNIT\n",
    "from rdflib import Namespace\n",
    "\n",
    "# setup our buildingmotif instance\n",
    "bm = BuildingMOTIF(\"sqlite://\", shacl_engine=\"topquadrant\")"
   ]
  },
  {
   "cell_type": "code",
   "execution_count": 2,
   "id": "22797de9-5998-4951-b519-4b56dfc51343",
   "metadata": {
    "scrolled": true
   },
   "outputs": [],
   "source": [
    "# create the model w/ a namespace\n",
    "BLDG = Namespace(\"urn:nrel_example/\")\n",
    "WATR = Namespace(\"urn:nawi-water-ontology#\")\n",
    "bldg = Model.create(BLDG)\n",
    "bind_prefixes(bldg.graph)\n",
    "bldg.graph.bind(\"bldg\", BLDG)\n",
    "\n",
    "s223 = Library.load(ontology_graph=\"../libraries/223p.ttl\", infer_templates=False)\n",
    "s223 = Library.load(ontology_graph=\"../libraries/water.ttl\", infer_templates=False)\n",
    "# nrel = Library.load(directory=\"../libraries/nrel-223p-templates\")\n",
    "water = Library.load(directory=\"../libraries/templates\")"
   ]
  },
  {
   "cell_type": "code",
   "execution_count": 3,
   "id": "2e20ba27-3d7c-4635-97f5-cee13a1b73b6",
   "metadata": {},
   "outputs": [],
   "source": [
    "# the context helps us build up our model\n",
    "ctx = TemplateBuilderContext(BLDG)\n",
    "# ctx.add_templates_from_library(nrel)\n",
    "ctx.add_templates_from_library(water)"
   ]
  },
  {
   "cell_type": "markdown",
   "id": "aa1de7fa-e177-4a87-aa06-d663838489b7",
   "metadata": {},
   "source": [
    "## Modeling a Tank with a Flow Sensor\n",
    "\n",
    "Looking at our templates, we can see a [Tank template](https://datadrivencps.github.io/water-ontology/libraries/templates/tank.html) and a [Sensor template](https://datadrivencps.github.io/water-ontology/libraries/nrel-223p-templates/sensor.html). We will also use the [water flow](https://datadrivencps.github.io/water-ontology/libraries/nrel-223p-templates/water-flow.html) property template to model the actual property being measured by the sensor.\n",
    "\n",
    "The tank has a few required parameters. It needs a name (like all entities), and either an inlet/outlet connection point pair OR a single bi-directional connection point.\n",
    "\n",
    "A sensor  needs a name as well as a property it is observing, and a location where that property is observed."
   ]
  },
  {
   "cell_type": "code",
   "execution_count": 4,
   "id": "05aae45d-8c87-4fa8-b713-3a4bdb27d32f",
   "metadata": {},
   "outputs": [],
   "source": [
    "# start with the tank. This instantiates the template with 'my_tank' as the name\n",
    "# You can assign other parameters here as well. If the value you give to a parameter\n",
    "# is a string (e.g. 'my_tank') then the builder will automatically make a URL with the BLDG (see cell above) as the namespace\n",
    "my_tank = ctx['tank'](name='my_tank')\n",
    "\n",
    "# now create an instance of the water flow property\n",
    "flow_prop = ctx['water-flow'](name='tank_outlet_water_flow')\n",
    "flow_prop['name-owner'] = my_tank['out']"
   ]
  },
  {
   "cell_type": "code",
   "execution_count": 5,
   "id": "e026fa75-6a53-42f0-9afd-a7fdbb7953fe",
   "metadata": {},
   "outputs": [],
   "source": [
    "# now create the sensor\n",
    "flow_sensor = ctx['sensor'](name='my_flow_sensor')\n",
    "flow_sensor['where'] = my_tank['out'] # the sensor measures at the outlet of the tank\n",
    "flow_sensor['property'] = flow_prop['name'] # associate the sensor's \"property\" param with the flow property"
   ]
  },
  {
   "cell_type": "code",
   "execution_count": 6,
   "id": "8d1e4bf6-e096-4e2c-87b1-b277d60f8204",
   "metadata": {},
   "outputs": [],
   "source": [
    "# concentration sensor\n",
    "salt_concentration_sensor = ctx['concentration-sensor'](name='salt_conc_sensor', substance=WATR[\"Constituent-Salt\"], unit=UNIT[\"PPM\"])\n",
    "salt_concentration_sensor['where'] = my_tank['out']"
   ]
  },
  {
   "cell_type": "code",
   "execution_count": 7,
   "id": "0f5569f1-da84-45f0-8b5e-64b2fb1d6dd8",
   "metadata": {},
   "outputs": [],
   "source": [
    "def pipe(in_=None, out_=None):\n",
    "    p = ctx['pipe']\n",
    "    p['in'] = in_\n",
    "    p['out'] = out_\n",
    "    return p"
   ]
  },
  {
   "cell_type": "code",
   "execution_count": 8,
   "id": "6b522f43-c420-41da-a331-0d80ea45440a",
   "metadata": {},
   "outputs": [
    {
     "data": {
      "text/plain": [
       "<buildingmotif.model_builder.TemplateWrapper at 0x110fbaa10>"
      ]
     },
     "execution_count": 8,
     "metadata": {},
     "output_type": "execute_result"
    }
   ],
   "source": [
    "# variadic parameters with junctions\n",
    "# tank1 --O--> my_tank\n",
    "#         |\n",
    "# tank2 --+\n",
    "# where O is the junction\n",
    "tank1 = ctx['tank'](name='tank1')\n",
    "tank2 = ctx['tank'](name='tank2')\n",
    "junction = ctx['junction'](name='my_tank_inlet_junction')\n",
    "junction.to_variadic('in') # turns the 'in' parameter variadic\n",
    "\n",
    "pipe(tank1['out'], junction['in'])\n",
    "pipe(tank2['out'], junction['in'])\n",
    "\n",
    "pipe(junction['out'], my_tank['in'])"
   ]
  },
  {
   "cell_type": "code",
   "execution_count": 9,
   "id": "07d5f4d5-c5a7-4e72-be67-9ed5be1826b7",
   "metadata": {},
   "outputs": [
    {
     "name": "stderr",
     "output_type": "stream",
     "text": [
      "/Users/gabe/src/NAWI/water-ontology/.venv/lib/python3.10/site-packages/buildingmotif/dataclasses/template.py:483: UserWarning: Parameters \"property, property-owner, property-constituent\" were not provided during evaluation\n",
      "  warnings.warn(\n",
      "/Users/gabe/src/NAWI/water-ontology/.venv/lib/python3.10/site-packages/buildingmotif/dataclasses/template.py:483: UserWarning: Parameters \"medium, in\" were not provided during evaluation\n",
      "  warnings.warn(\n",
      "/Users/gabe/src/NAWI/water-ontology/.venv/lib/python3.10/site-packages/buildingmotif/dataclasses/template.py:483: UserWarning: Parameters \"name\" were not provided during evaluation\n",
      "  warnings.warn(\n"
     ]
    }
   ],
   "source": [
    "bldg.add_graph(ctx.compile())\n",
    "graph = bldg.compile([s223.get_shape_collection()])"
   ]
  },
  {
   "cell_type": "code",
   "execution_count": 10,
   "id": "5c9539bb-af10-466c-95ca-f6b8cd9920e3",
   "metadata": {},
   "outputs": [
    {
     "name": "stdout",
     "output_type": "stream",
     "text": [
      "@prefix bldg: <urn:nrel_example/> .\n",
      "@prefix ns1: <http://data.ashrae.org/standard223#> .\n",
      "@prefix owl: <http://www.w3.org/2002/07/owl#> .\n",
      "@prefix qudt: <http://qudt.org/schema/qudt/> .\n",
      "@prefix qudtqk: <http://qudt.org/vocab/quantitykind/> .\n",
      "@prefix rdfs: <http://www.w3.org/2000/01/rdf-schema#> .\n",
      "@prefix unit: <http://qudt.org/vocab/unit/> .\n",
      "\n",
      "bldg: a owl:Ontology .\n",
      "\n",
      "bldg:my_flow_sensor a ns1:Sensor ;\n",
      "    rdfs:label \"Sensor\" ;\n",
      "    ns1:hasObservationLocation bldg:out_810ba45f ;\n",
      "    ns1:observes bldg:tank_outlet_water_flow .\n",
      "\n",
      "bldg:my_tank a <urn:nawi-water-ontology#Tank> ;\n",
      "    rdfs:label \"Tank\" ;\n",
      "    ns1:cnx bldg:in_e3bbd00e,\n",
      "        bldg:out_810ba45f ;\n",
      "    ns1:hasConnectionPoint bldg:in_e3bbd00e,\n",
      "        bldg:out_810ba45f .\n",
      "\n",
      "bldg:my_tank_inlet_junction a ns1:Junction ;\n",
      "    rdfs:label \"Junction\" ;\n",
      "    ns1:cnx bldg:in0_54e48fac,\n",
      "        bldg:in1_cb91f542,\n",
      "        bldg:out_931ca8d3 ;\n",
      "    ns1:hasMedium bldg:medium_63f89a64 .\n",
      "\n",
      "bldg:name_1fc5ef22 a ns1:Connection,\n",
      "        ns1:Pipe ;\n",
      "    rdfs:label \"Pipe\" ;\n",
      "    ns1:cnx bldg:in_e3bbd00e,\n",
      "        bldg:out_931ca8d3 .\n",
      "\n",
      "bldg:name_62bdad30 a ns1:Connection,\n",
      "        ns1:Pipe ;\n",
      "    rdfs:label \"Pipe\" ;\n",
      "    ns1:cnx bldg:in1_cb91f542,\n",
      "        bldg:out_4d382533 .\n",
      "\n",
      "bldg:name_ae5f08e7 a ns1:Connection,\n",
      "        ns1:Pipe ;\n",
      "    rdfs:label \"Pipe\" ;\n",
      "    ns1:cnx bldg:in0_54e48fac,\n",
      "        bldg:out_40483a31 .\n",
      "\n",
      "bldg:salt_conc_sensor a ns1:Sensor ;\n",
      "    rdfs:label \"Sensor\" ;\n",
      "    ns1:hasObservationLocation bldg:out_810ba45f ;\n",
      "    ns1:observes bldg:property_9ed875c6 .\n",
      "\n",
      "bldg:tank1 a <urn:nawi-water-ontology#Tank> ;\n",
      "    rdfs:label \"Tank\" ;\n",
      "    ns1:cnx bldg:out_40483a31 ;\n",
      "    ns1:hasConnectionPoint bldg:out_40483a31 .\n",
      "\n",
      "bldg:tank2 a <urn:nawi-water-ontology#Tank> ;\n",
      "    rdfs:label \"Tank\" ;\n",
      "    ns1:cnx bldg:out_4d382533 ;\n",
      "    ns1:hasConnectionPoint bldg:out_4d382533 .\n",
      "\n",
      "unit:PPM a qudt:Unit ;\n",
      "    rdfs:label \"Unit\" .\n",
      "\n",
      "bldg:property-constituent_e0439c3b a ns1:EnumerationKind-Substance ;\n",
      "    rdfs:label \"EnumerationKind-Substance\" .\n",
      "\n",
      "bldg:property_9ed875c6 a ns1:QuantifiableProperty ;\n",
      "    rdfs:label \"QuantifiableProperty\" ;\n",
      "    ns1:ofConstituent <urn:nawi-water-ontology#Constituent-Salt>,\n",
      "        bldg:property-constituent_e0439c3b ;\n",
      "    qudt:hasUnit unit:PPM .\n",
      "\n",
      "bldg:in0_54e48fac a ns1:InletConnectionPoint ;\n",
      "    rdfs:label \"InletConnectionPoint\" ;\n",
      "    ns1:hasMedium bldg:medium_63f89a64 .\n",
      "\n",
      "bldg:in1_cb91f542 a ns1:InletConnectionPoint ;\n",
      "    rdfs:label \"InletConnectionPoint\" ;\n",
      "    ns1:hasMedium bldg:medium_63f89a64 .\n",
      "\n",
      "bldg:out_931ca8d3 a ns1:OutletConnectionPoint ;\n",
      "    rdfs:label \"OutletConnectionPoint\" ;\n",
      "    ns1:hasMedium bldg:medium_63f89a64 .\n",
      "\n",
      "bldg:tank_outlet_water_flow a ns1:Property,\n",
      "        ns1:QuantifiableObservableProperty ;\n",
      "    rdfs:label \"QuantifiableObservableProperty\" ;\n",
      "    ns1:ofMedium ns1:Fluid-Water ;\n",
      "    qudt:hasQuantityKind qudtqk:VolumeFlowRate ;\n",
      "    qudt:hasUnit unit:FT3-PER-MIN .\n",
      "\n",
      "bldg:in_e3bbd00e a ns1:InletConnectionPoint ;\n",
      "    rdfs:label \"InletConnectionPoint\" .\n",
      "\n",
      "bldg:out_40483a31 a ns1:OutletConnectionPoint ;\n",
      "    rdfs:label \"OutletConnectionPoint\" .\n",
      "\n",
      "bldg:out_4d382533 a ns1:OutletConnectionPoint ;\n",
      "    rdfs:label \"OutletConnectionPoint\" .\n",
      "\n",
      "bldg:medium_63f89a64 a ns1:EnumerationKind-Medium ;\n",
      "    rdfs:label \"EnumerationKind-Medium\" .\n",
      "\n",
      "bldg:out_810ba45f a ns1:OutletConnectionPoint ;\n",
      "    rdfs:label \"OutletConnectionPoint\" ;\n",
      "    ns1:hasProperty bldg:tank_outlet_water_flow .\n",
      "\n",
      "\n"
     ]
    }
   ],
   "source": [
    "# this is the serialization of the model for machine-to-machine\n",
    "print(graph.model.graph.serialize(format=\"turtle\"))"
   ]
  },
  {
   "cell_type": "code",
   "execution_count": null,
   "id": "a83c3d00-3a8c-42c8-a9b0-20d18acd0172",
   "metadata": {},
   "outputs": [],
   "source": []
  },
  {
   "cell_type": "code",
   "execution_count": null,
   "id": "c5f06d3f-83bf-40a0-849d-88b2f7bf70e5",
   "metadata": {},
   "outputs": [],
   "source": []
  }
 ],
 "metadata": {
  "kernelspec": {
   "display_name": ".venv",
   "language": "python",
   "name": "python3"
  },
  "language_info": {
   "codemirror_mode": {
    "name": "ipython",
    "version": 3
   },
   "file_extension": ".py",
   "mimetype": "text/x-python",
   "name": "python",
   "nbconvert_exporter": "python",
   "pygments_lexer": "ipython3",
   "version": "3.10.0"
  }
 },
 "nbformat": 4,
 "nbformat_minor": 5
}
