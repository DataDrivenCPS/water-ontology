{
 "cells": [
  {
   "cell_type": "code",
   "execution_count": 1,
   "id": "1d6c4329-fdba-4d66-8c19-a221270b39d4",
   "metadata": {},
   "outputs": [],
   "source": [
    "from buildingmotif import BuildingMOTIF\n",
    "from buildingmotif.model_builder import TemplateBuilderContext\n",
    "from buildingmotif.dataclasses import Library, Model\n",
    "from buildingmotif.namespaces import bind_prefixes\n",
    "from rdflib import Namespace\n",
    "\n",
    "# setup our buildingmotif instance\n",
    "bm = BuildingMOTIF(\"sqlite://\", shacl_engine=\"topquadrant\")"
   ]
  },
  {
   "cell_type": "code",
   "execution_count": 2,
   "id": "22797de9-5998-4951-b519-4b56dfc51343",
   "metadata": {},
   "outputs": [
    {
     "name": "stderr",
     "output_type": "stream",
     "text": [
      "2024-12-31 12:22:05,744 | root |  WARNING: An ontology could not resolve a dependency on http://data.ashrae.org/standard223/1.0/extensions/settings (No row was found when one was required). Check this is loaded into BuildingMOTIF\n",
      "2024-12-31 12:22:05,745 | root |  WARNING: An ontology could not resolve a dependency on http://data.ashrae.org/standard223/1.0/model/core (No row was found when one was required). Check this is loaded into BuildingMOTIF\n",
      "2024-12-31 12:22:05,746 | root |  WARNING: An ontology could not resolve a dependency on http://data.ashrae.org/standard223/1.0/model/equipment (No row was found when one was required). Check this is loaded into BuildingMOTIF\n",
      "2024-12-31 12:22:05,746 | root |  WARNING: An ontology could not resolve a dependency on http://data.ashrae.org/standard223/1.0/vocab/enumeration (No row was found when one was required). Check this is loaded into BuildingMOTIF\n",
      "2024-12-31 12:22:05,747 | root |  WARNING: An ontology could not resolve a dependency on http://qudt.org/2.1/vocab/constant (No row was found when one was required). Check this is loaded into BuildingMOTIF\n",
      "2024-12-31 12:22:05,747 | root |  WARNING: An ontology could not resolve a dependency on http://qudt.org/2.1/vocab/currency (No row was found when one was required). Check this is loaded into BuildingMOTIF\n",
      "2024-12-31 12:22:05,748 | root |  WARNING: An ontology could not resolve a dependency on http://qudt.org/2.1/vocab/unit (No row was found when one was required). Check this is loaded into BuildingMOTIF\n",
      "2024-12-31 12:22:05,748 | root |  WARNING: An ontology could not resolve a dependency on http://www.w3.org/ns/shacl# (No row was found when one was required). Check this is loaded into BuildingMOTIF\n"
     ]
    }
   ],
   "source": [
    "# create the model w/ a namespace\n",
    "BLDG = Namespace(\"urn:nrel_example/\")\n",
    "bldg = Model.create(BLDG)\n",
    "bind_prefixes(bldg.graph)\n",
    "bldg.graph.bind(\"bldg\", BLDG)\n",
    "\n",
    "s223 = Library.load(ontology_graph=\"../libraries/223p.ttl\")\n",
    "s223 = Library.load(ontology_graph=\"../libraries/water.ttl\")\n",
    "nrel = Library.load(directory=\"../libraries/nrel-223p-templates\")\n",
    "water = Library.load(directory=\"../libraries/templates\")"
   ]
  },
  {
   "cell_type": "code",
   "execution_count": 3,
   "id": "2e20ba27-3d7c-4635-97f5-cee13a1b73b6",
   "metadata": {},
   "outputs": [],
   "source": [
    "# the context helps us build up our model\n",
    "ctx = TemplateBuilderContext(BLDG)\n",
    "ctx.add_templates_from_library(nrel)\n",
    "ctx.add_templates_from_library(water)"
   ]
  },
  {
   "cell_type": "markdown",
   "id": "aa1de7fa-e177-4a87-aa06-d663838489b7",
   "metadata": {},
   "source": [
    "## Modeling a Tank with a Flow Sensor\n",
    "\n",
    "Looking at our templates, we can see a [Tank template](https://datadrivencps.github.io/water-ontology/libraries/templates/tank.html) and a [Sensor template](https://datadrivencps.github.io/water-ontology/libraries/nrel-223p-templates/sensor.html). We will also use the [water flow](https://datadrivencps.github.io/water-ontology/libraries/nrel-223p-templates/water-flow.html) property template to model the actual property being measured by the sensor.\n",
    "\n",
    "The tank has a few required parameters. It needs a name (like all entities), and either an inlet/outlet connection point pair OR a single bi-directional connection point.\n",
    "\n",
    "A sensor  needs a name as well as a property it is observing, and a location where that property is observed."
   ]
  },
  {
   "cell_type": "code",
   "execution_count": 4,
   "id": "05aae45d-8c87-4fa8-b713-3a4bdb27d32f",
   "metadata": {},
   "outputs": [],
   "source": [
    "# start with the tank. This instantiates the template with 'my_tank' as the name\n",
    "# You can assign other parameters here as well. If the value you give to a parameter\n",
    "# is a string (e.g. 'my_tank') then the builder will automatically make a URL with the BLDG (see cell above) as the namespace\n",
    "my_tank = ctx['tank'](name='my_tank')\n",
    "\n",
    "# now create an instance of the water flow property\n",
    "flow_prop = ctx['water-flow'](name='tank_outlet_water_flow')\n",
    "flow_prop['name-owner'] = my_tank['out']"
   ]
  },
  {
   "cell_type": "code",
   "execution_count": 5,
   "id": "e026fa75-6a53-42f0-9afd-a7fdbb7953fe",
   "metadata": {},
   "outputs": [],
   "source": [
    "# now create the sensor\n",
    "flow_sensor = ctx['sensor'](name='my_flow_sensor')\n",
    "flow_sensor['where'] = my_tank['out'] # the sensor measures at the outlet of the tank\n",
    "flow_sensor['property'] = flow_prop['name'] # associate the sensor's \"property\" param with the flow property"
   ]
  },
  {
   "cell_type": "code",
   "execution_count": 6,
   "id": "07d5f4d5-c5a7-4e72-be67-9ed5be1826b7",
   "metadata": {},
   "outputs": [],
   "source": [
    "bldg.add_graph(ctx.compile())\n",
    "graph = bldg.compile([s223.get_shape_collection()])"
   ]
  },
  {
   "cell_type": "code",
   "execution_count": 7,
   "id": "5c9539bb-af10-466c-95ca-f6b8cd9920e3",
   "metadata": {},
   "outputs": [
    {
     "name": "stdout",
     "output_type": "stream",
     "text": [
      "@prefix ns1: <http://data.ashrae.org/standard223#> .\n",
      "@prefix ns2: <http://qudt.org/schema/qudt/> .\n",
      "@prefix owl: <http://www.w3.org/2002/07/owl#> .\n",
      "@prefix rdfs: <http://www.w3.org/2000/01/rdf-schema#> .\n",
      "\n",
      "<urn:nrel_example/> a owl:Ontology .\n",
      "\n",
      "<urn:nrel_example/my_flow_sensor> a ns1:Sensor ;\n",
      "    rdfs:label \"Sensor\" ;\n",
      "    ns1:hasObservationLocation <urn:nrel_example/out_93977d43> ;\n",
      "    ns1:observes <urn:nrel_example/tank_outlet_water_flow> .\n",
      "\n",
      "<urn:nrel_example/tank_outlet_water_flow> a ns1:Property,\n",
      "        ns1:QuantifiableObservableProperty ;\n",
      "    rdfs:label \"Property\" ;\n",
      "    ns1:ofMedium ns1:Fluid-Water ;\n",
      "    ns2:hasQuantityKind <http://qudt.org/vocab/quantitykind/VolumeFlowRate> ;\n",
      "    ns2:hasUnit <http://qudt.org/vocab/unit/FT3-PER-MIN> .\n",
      "\n",
      "<urn:nrel_example/my_tank> a <urn:nawi-water-ontology#Tank> ;\n",
      "    rdfs:label \"Tank\" ;\n",
      "    ns1:cnx <urn:nrel_example/out_93977d43> ;\n",
      "    ns1:hasConnectionPoint <urn:nrel_example/out_93977d43> ;\n",
      "    ns1:isConnectionPointOf <urn:nrel_example/out_93977d43> .\n",
      "\n",
      "<urn:nrel_example/out_93977d43> a ns1:Connectable,\n",
      "        ns1:OutletConnectionPoint ;\n",
      "    rdfs:label \"OutletConnectionPoint\" ;\n",
      "    ns1:cnx <urn:nrel_example/my_tank> ;\n",
      "    ns1:hasConnectionPoint <urn:nrel_example/my_tank> ;\n",
      "    ns1:hasProperty <urn:nrel_example/tank_outlet_water_flow> ;\n",
      "    ns1:isConnectionPointOf <urn:nrel_example/my_tank> .\n",
      "\n",
      "\n"
     ]
    }
   ],
   "source": [
    "# this is the serialization of the model for machine-to-machine\n",
    "print(graph.serialize(format=\"turtle\"))"
   ]
  },
  {
   "cell_type": "code",
   "execution_count": null,
   "id": "a83c3d00-3a8c-42c8-a9b0-20d18acd0172",
   "metadata": {},
   "outputs": [],
   "source": []
  }
 ],
 "metadata": {
  "kernelspec": {
   "display_name": ".venv",
   "language": "python",
   "name": "python3"
  },
  "language_info": {
   "codemirror_mode": {
    "name": "ipython",
    "version": 3
   },
   "file_extension": ".py",
   "mimetype": "text/x-python",
   "name": "python",
   "nbconvert_exporter": "python",
   "pygments_lexer": "ipython3",
   "version": "3.10.0"
  }
 },
 "nbformat": 4,
 "nbformat_minor": 5
}
